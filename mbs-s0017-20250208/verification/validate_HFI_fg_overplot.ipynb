{
 "cells": [
  {
   "cell_type": "markdown",
   "metadata": {},
   "source": [
    "Requires SkyTools: `conda install skytools`"
   ]
  },
  {
   "cell_type": "code",
   "execution_count": null,
   "metadata": {},
   "outputs": [],
   "source": [
    "import numpy as np\n",
    "import healpy as hp\n",
    "import matplotlib.pyplot as plt\n",
    "import skytools as st"
   ]
  },
  {
   "cell_type": "markdown",
   "metadata": {},
   "source": [
    "Set paths on NERSC:"
   ]
  },
  {
   "cell_type": "code",
   "execution_count": null,
   "metadata": {},
   "outputs": [],
   "source": [
    "fg_path = f\"/global/cfs/cdirs/cmb/gsharing/panexp_v1_planck/galactic_foregrounds_mediumcomplexity/\"\n",
    "npipe_path = f\"/global/cfs/cdirs/cmb/data/planck2020/npipe/npipe6v20/\""
   ]
  },
  {
   "cell_type": "code",
   "execution_count": null,
   "metadata": {},
   "outputs": [],
   "source": [
    "import os\n",
    "\n",
    "if not os.path.exists(\"HFI_SkyMap_353_2048_R4.00_full.fits\"):\n",
    "    !wget \"https://portal.nersc.gov/cfs/cmb/planck2020/frequency_maps/Single-frequency/HFI_SkyMap_353_2048_R4.00_full.fits\""
   ]
  },
  {
   "cell_type": "markdown",
   "metadata": {},
   "source": [
    "Read NPIPE map, create a mask from the polarized intensity."
   ]
  },
  {
   "cell_type": "code",
   "execution_count": null,
   "metadata": {},
   "outputs": [],
   "source": [
    "hfi_npipe = hp.read_map(f\"HFI_SkyMap_353_2048_R4.00_full.fits\", field=(0, 1, 2)) * 1e6\n",
    "polI_npipe = np.sqrt(hfi_npipe[1] ** 2 + hfi_npipe[2] ** 2)\n",
    "mask_G = st.intensity_mask(hp.get_nside(hfi_npipe), polI_npipe, 3.0, smooth_in_deg=1.0)\n",
    "\n",
    "mask = st.mask_udgrade(mask_G, 128)"
   ]
  },
  {
   "cell_type": "code",
   "execution_count": null,
   "metadata": {},
   "outputs": [],
   "source": [
    "import pysm3\n",
    "from pysm3 import units as u"
   ]
  },
  {
   "cell_type": "code",
   "execution_count": null,
   "metadata": {},
   "outputs": [],
   "source": [
    "freq = 353\n",
    "lmax = 100\n",
    "hfi_npp = st.change_resolution(\n",
    "    hfi_npipe * mask_G,\n",
    "    nside_out=128,\n",
    "    lmax_sht=lmax,\n",
    "    mode=\"iqu\",\n",
    "    fwhm_in=5.0,\n",
    "    fwhm_out=120.0,\n",
    ")\n",
    "hfi_npp *= mask"
   ]
  },
  {
   "cell_type": "code",
   "execution_count": null,
   "metadata": {},
   "outputs": [],
   "source": [
    "from astropy.table import QTable\n",
    "\n",
    "bandpass_table = QTable.read(\"../instrument_model/bandpass_353.tbl\", format=\"ascii\")\n",
    "print(bandpass_table)"
   ]
  },
  {
   "cell_type": "code",
   "execution_count": null,
   "metadata": {},
   "outputs": [],
   "source": [
    "bandpasses = [\n",
    "    (\"353 GHz\", 353 * u.GHz, None),\n",
    "    (\"350 GHz\", 350 * u.GHz, None),\n",
    "    (\"356 GHz\", 356 * u.GHz, None),\n",
    "    (\n",
    "        \"RIMO * nu^2\",\n",
    "        bandpass_table[\"bandpass_frequency\"],\n",
    "        bandpass_table[\"bandpass_weight\"],\n",
    "    ),\n",
    "    (\n",
    "        \"RIMO\",\n",
    "        bandpass_table[\"bandpass_frequency\"],\n",
    "        bandpass_table[\"bandpass_weight\"] / bandpass_table[\"bandpass_frequency\"] ** 2,\n",
    "    ),\n",
    "]"
   ]
  },
  {
   "cell_type": "code",
   "execution_count": null,
   "metadata": {},
   "outputs": [],
   "source": [
    "polI_npp = np.sqrt(hfi_npp[1] ** 2 + hfi_npp[2] ** 2)\n",
    "\n",
    "mask = st.intensity_mask(128, polI_npp, 3.0, smooth_in_deg=1.0)"
   ]
  },
  {
   "cell_type": "code",
   "execution_count": null,
   "metadata": {},
   "outputs": [],
   "source": [
    "sky = pysm3.Sky(nside=2048, preset_strings=[\"d10\"], output_unit=u.uK_CMB)\n",
    "\n",
    "lmax = 100\n",
    "Bmode_sim = {}\n",
    "for bandpass_name, freq, weights in bandpasses:\n",
    "\n",
    "    print(bandpass_name)\n",
    "    pysm_map = sky.get_emission(freq, weights)\n",
    "    hfi_sim = (\n",
    "        st.change_resolution(\n",
    "            pysm_map * mask_G,\n",
    "            nside_out=128,\n",
    "            lmax_sht=lmax,\n",
    "            mode=\"iqu\",\n",
    "            fwhm_in=5.0,\n",
    "            fwhm_out=120.0,\n",
    "        )\n",
    "        * mask\n",
    "    )\n",
    "    Bmode_sim[bandpass_name] = st.iqu2teb(hfi_sim * mask, mode=\"b\", lmax_sht=lmax)"
   ]
  },
  {
   "cell_type": "code",
   "execution_count": null,
   "metadata": {},
   "outputs": [],
   "source": [
    "Bmode_npp = st.iqu2teb(hfi_npp * mask, mode=\"b\", lmax_sht=lmax)"
   ]
  },
  {
   "cell_type": "markdown",
   "metadata": {},
   "source": [
    "Scatter plot for B-modes:"
   ]
  },
  {
   "cell_type": "code",
   "execution_count": null,
   "metadata": {},
   "outputs": [],
   "source": [
    "x = np.arange(-700, 700)\n",
    "for bandpass_name in Bmode_sim.keys():\n",
    "    plt.plot(\n",
    "        Bmode_npp[0, mask > 0.5],\n",
    "        Bmode_sim[bandpass_name][0, mask > 0.5],\n",
    "        \"o\",\n",
    "        alpha=0.33,\n",
    "        ms=1.0,\n",
    "        label=bandpass_name,\n",
    "    )\n",
    "plt.plot(x, x, \"k-\")\n",
    "plt.legend()\n",
    "plt.xlabel(\"NPIPE 353 GHz B-mode map\")\n",
    "plt.ylabel(\"PySM d10 353 GHz B-mode map\")"
   ]
  },
  {
   "cell_type": "code",
   "execution_count": null,
   "metadata": {},
   "outputs": [],
   "source": [
    "plt.figure(figsize=(10, 5))\n",
    "x = np.arange(-700, 700)\n",
    "for bandpass_name in Bmode_sim.keys():\n",
    "    if bandpass_name in [\"353 GHz\", \"356 GHz\"]:\n",
    "\n",
    "        plt.plot(\n",
    "            Bmode_npp[0, mask > 0.5],\n",
    "            Bmode_sim[bandpass_name][0, mask > 0.5],\n",
    "            \"o\",\n",
    "            alpha=0.33,\n",
    "            ms=1.0,\n",
    "            label=bandpass_name,\n",
    "        )\n",
    "plt.plot(x, x, \"k-\")\n",
    "plt.legend()\n",
    "plt.xlabel(\"NPIPE 353 GHz B-mode map\")\n",
    "plt.ylabel(\"PySM d10 353 GHz B-mode map\")"
   ]
  },
  {
   "cell_type": "code",
   "execution_count": null,
   "metadata": {},
   "outputs": [],
   "source": [
    "plt.figure(figsize=(10, 5))\n",
    "x = np.arange(-700, 700)\n",
    "for bandpass_name in Bmode_sim.keys():\n",
    "    if bandpass_name in [\"RIMO * nu^2\", \"RIMO\"]:\n",
    "\n",
    "        plt.plot(\n",
    "            Bmode_npp[0, mask > 0.5],\n",
    "            Bmode_sim[bandpass_name][0, mask > 0.5],\n",
    "            \"o\",\n",
    "            alpha=0.33,\n",
    "            ms=1.0,\n",
    "            label=bandpass_name,\n",
    "        )\n",
    "plt.plot(x, x, \"k-\")\n",
    "plt.legend()\n",
    "plt.xlabel(\"NPIPE 353 GHz B-mode map\")\n",
    "plt.ylabel(\"PySM d10 353 GHz B-mode map\")"
   ]
  },
  {
   "cell_type": "code",
   "execution_count": null,
   "metadata": {},
   "outputs": [],
   "source": [
    "from numpy.polynomial.polynomial import Polynomial\n",
    "import pandas as pd\n",
    "\n",
    "slopes = {}\n",
    "for bandpass_name in Bmode_sim.keys():\n",
    "    mask_indices = mask > 0.5\n",
    "    x_data = Bmode_npp[0, mask_indices]\n",
    "    y_data = Bmode_sim[bandpass_name][0, mask_indices]\n",
    "\n",
    "    # Fit a linear polynomial (degree 1)\n",
    "    p = Polynomial.fit(x_data, y_data, deg=1)\n",
    "    slopes[bandpass_name] = p.convert().coef[1]  # Extract the slope\n",
    "\n",
    "# Convert the slopes dictionary to a DataFrame\n",
    "slopes_df = pd.DataFrame(list(slopes.items()), columns=[\"Bandpass\", \"Slope\"])\n",
    "\n",
    "# Display the DataFrame\n",
    "print(slopes_df)"
   ]
  }
 ],
 "metadata": {
  "kernelspec": {
   "display_name": "cmb",
   "language": "python",
   "name": "python3"
  },
  "language_info": {
   "codemirror_mode": {
    "name": "ipython",
    "version": 3
   },
   "file_extension": ".py",
   "mimetype": "text/x-python",
   "name": "python",
   "nbconvert_exporter": "python",
   "pygments_lexer": "ipython3",
   "version": "3.12.7"
  }
 },
 "nbformat": 4,
 "nbformat_minor": 2
}
