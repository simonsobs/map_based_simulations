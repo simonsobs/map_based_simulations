{
 "cells": [
  {
   "cell_type": "code",
   "execution_count": null,
   "metadata": {
    "tags": []
   },
   "outputs": [],
   "source": [
    "import healpy as hp\n",
    "import numpy as np\n",
    "import pickle\n",
    "import h5py\n",
    "import altair as alt\n",
    "\n",
    "alt.renderers.enable(\"html\")\n",
    "import pandas as pd\n",
    "import warnings\n",
    "\n",
    "warnings.filterwarnings(\"ignore\")\n",
    "import pysm3.units as u"
   ]
  },
  {
   "cell_type": "code",
   "execution_count": null,
   "metadata": {
    "tags": []
   },
   "outputs": [],
   "source": [
    "from IPython.display import HTML\n",
    "\n",
    "HTML(\n",
    "    \"\"\"<script>\n",
    "code_show=true; \n",
    "function code_toggle() {\n",
    " if (code_show){\n",
    " $('div.input').hide();\n",
    " } else {\n",
    " $('div.input').show();\n",
    " }\n",
    " code_show = !code_show\n",
    "} \n",
    "$( document ).ready(code_toggle);\n",
    "</script>\n",
    "<form action=\"javascript:code_toggle()\"><input type=\"submit\" value=\"Click here to toggle on/off the raw code.\"></form>\"\"\"\n",
    ")"
   ]
  },
  {
   "cell_type": "code",
   "execution_count": null,
   "metadata": {
    "tags": [
     "parameters"
    ]
   },
   "outputs": [],
   "source": [
    "pol = \"T\""
   ]
  },
  {
   "cell_type": "code",
   "execution_count": null,
   "metadata": {},
   "outputs": [],
   "source": [
    "selection = {}\n",
    "cl = {}\n",
    "i_pol = \"TEB\".index(pol)"
   ]
  },
  {
   "cell_type": "code",
   "execution_count": null,
   "metadata": {
    "tags": []
   },
   "outputs": [],
   "source": [
    "%cd .."
   ]
  },
  {
   "cell_type": "code",
   "execution_count": null,
   "metadata": {},
   "outputs": [],
   "source": [
    "import os\n",
    "\n",
    "if os.path.basename(os.getcwd()) == \"verification\":\n",
    "    %cd .."
   ]
  },
  {
   "cell_type": "code",
   "execution_count": null,
   "metadata": {
    "tags": []
   },
   "outputs": [],
   "source": [
    "from astropy.table import QTable"
   ]
  },
  {
   "cell_type": "code",
   "execution_count": null,
   "metadata": {
    "tags": []
   },
   "outputs": [],
   "source": [
    "chs = QTable.read(\"instrument_model/instrument_model.tbl\", format=\"ascii.ipac\")"
   ]
  },
  {
   "cell_type": "code",
   "execution_count": null,
   "metadata": {
    "tags": []
   },
   "outputs": [],
   "source": [
    "chs"
   ]
  },
  {
   "cell_type": "code",
   "execution_count": null,
   "metadata": {
    "tags": []
   },
   "outputs": [],
   "source": [
    "alt.data_transformers.enable(\"default\")"
   ]
  },
  {
   "cell_type": "code",
   "execution_count": null,
   "metadata": {
    "tags": []
   },
   "outputs": [],
   "source": [
    "alt.data_transformers.disable_max_rows()"
   ]
  },
  {
   "cell_type": "code",
   "execution_count": null,
   "metadata": {
    "tags": []
   },
   "outputs": [],
   "source": [
    "import pysm3 as pysm\n",
    "from pysm3 import units as u"
   ]
  },
  {
   "cell_type": "code",
   "execution_count": null,
   "metadata": {
    "tags": []
   },
   "outputs": [],
   "source": [
    "import mapsims"
   ]
  },
  {
   "cell_type": "code",
   "execution_count": null,
   "metadata": {
    "tags": []
   },
   "outputs": [],
   "source": [
    "pol_label = [\"TT\", \"EE\", \"BB\"][i_pol]"
   ]
  },
  {
   "cell_type": "code",
   "execution_count": null,
   "metadata": {
    "tags": []
   },
   "outputs": [],
   "source": [
    "from glob import glob"
   ]
  },
  {
   "cell_type": "code",
   "execution_count": null,
   "metadata": {
    "tags": []
   },
   "outputs": [],
   "source": [
    "toml_files = glob(\"*.toml\")"
   ]
  },
  {
   "cell_type": "code",
   "execution_count": null,
   "metadata": {
    "tags": []
   },
   "outputs": [],
   "source": [
    "toml_files.remove(\"common.toml\")"
   ]
  },
  {
   "cell_type": "code",
   "execution_count": null,
   "metadata": {
    "tags": []
   },
   "outputs": [],
   "source": [
    "toml_files.remove(\"co_co1.toml\")\n",
    "toml_files.remove(\"co_co3.toml\")"
   ]
  },
  {
   "cell_type": "code",
   "execution_count": null,
   "metadata": {},
   "outputs": [],
   "source": [
    "toml_files.sort()"
   ]
  },
  {
   "cell_type": "code",
   "execution_count": null,
   "metadata": {
    "tags": []
   },
   "outputs": [],
   "source": [
    "pysm_nside = 2048"
   ]
  },
  {
   "cell_type": "code",
   "execution_count": null,
   "metadata": {},
   "outputs": [],
   "source": [
    "type(chs)"
   ]
  },
  {
   "cell_type": "code",
   "execution_count": null,
   "metadata": {},
   "outputs": [],
   "source": [
    "len(chs)"
   ]
  },
  {
   "cell_type": "code",
   "execution_count": null,
   "metadata": {
    "tags": []
   },
   "outputs": [],
   "source": [
    "channels = chs[\"band\"]"
   ]
  },
  {
   "cell_type": "code",
   "execution_count": null,
   "metadata": {},
   "outputs": [],
   "source": [
    "chs"
   ]
  },
  {
   "cell_type": "code",
   "execution_count": null,
   "metadata": {
    "tags": []
   },
   "outputs": [],
   "source": [
    "for config_file in toml_files:\n",
    "    mapsim = mapsims.from_config(\n",
    "        [\"common.toml\", config_file], override={\"channels\": \"all\"}\n",
    "    )\n",
    "    component = config_file.split(\".\")[0]\n",
    "    print(component)\n",
    "    filename = f\"output/C_ell/C_ell_{component}.pkl\"\n",
    "    with open(filename, \"rb\") as f:\n",
    "        cl[component] = pickle.load(f)\n",
    "    sky = pysm.Sky(\n",
    "        nside=pysm_nside,\n",
    "        preset_strings=[mapsim.pysm_components_string],\n",
    "        output_unit=u.uK_CMB,\n",
    "    )\n",
    "    onecl = (\n",
    "        pd.DataFrame({ch: pd.Series(cl[component][ch][i_pol]) for ch in channels})\n",
    "        .reset_index()\n",
    "        .rename(columns={\"index\": \"ell\"})\n",
    "    )\n",
    "\n",
    "    pysm_emission = sky.get_emission(chs[\"center_frequency\"][0])\n",
    "    label = \"PySM \" + channels[0]\n",
    "\n",
    "    pysm_low = hp.anafast(\n",
    "        pysm_emission, lmax=int(1.5 * pysm_nside), use_pixel_weights=True\n",
    "    )[i_pol]\n",
    "    pysm_low *= (\n",
    "        hp.gauss_beam(chs[0][\"fwhm\"].to_value(u.rad), lmax=int(1.5 * pysm_nside)) ** 2\n",
    "    )\n",
    "    onecl[label] = 0\n",
    "    onecl[label][: len(pysm_low)] = pysm_low\n",
    "\n",
    "    pysm_emission = sky.get_emission(\n",
    "        chs[-1][\"center_frequency\"],\n",
    "    )\n",
    "    label = \"PySM \" + channels[-1]\n",
    "\n",
    "    pysm_high = hp.anafast(\n",
    "        pysm_emission, lmax=int(1.5 * pysm_nside), use_pixel_weights=True\n",
    "    )[i_pol]\n",
    "    pysm_high *= (\n",
    "        hp.gauss_beam(chs[-1][\"fwhm\"].to_value(u.rad), lmax=int(1.5 * pysm_nside)) ** 2\n",
    "    )\n",
    "    onecl[label] = 0\n",
    "    onecl[label][: len(pysm_high)] = pysm_high\n",
    "\n",
    "    onecl = onecl[onecl.ell != 0]\n",
    "    decim = np.concatenate([[0], np.logspace(0, np.log10(len(onecl)), 1000, endpoint=False)])\n",
    "    onecl = onecl.iloc[decim, :]  # decimate in log scale to make plots smaller\n",
    "\n",
    "    onecl_long = onecl.melt(\"ell\", var_name=\"channel\")\n",
    "    onecl_long[onecl_long.value == 0] = np.nan\n",
    "    selection[component] = alt.selection_multi(fields=[\"channel\"], bind=\"legend\")\n",
    "\n",
    "    chart = (\n",
    "        alt.Chart(onecl_long, title=component + \" \" + pol_label)\n",
    "        .mark_line()\n",
    "        .encode(\n",
    "            x=alt.X(\"ell\", scale=alt.Scale(type=\"log\", base=10, domain=[1, 1e4])),\n",
    "            y=alt.Y(\"value\", scale=alt.Scale(type=\"log\", base=10)),\n",
    "            color=alt.Color(\n",
    "                \"channel\",\n",
    "                sort=[\"PySM \" + channels[0]]\n",
    "                + list(channels)\n",
    "                + [\"PySM \" + channels[-1]],\n",
    "            ),\n",
    "            opacity=alt.condition(selection[component], alt.value(1), alt.value(0.2)),\n",
    "        )\n",
    "        .add_selection(selection[component])\n",
    "        .interactive()\n",
    "    )\n",
    "    chart.display()\n",
    "    # chart.save(f\"verification/out_plot_cl/{component}_{input_telescope}_{pol}.json\")"
   ]
  },
  {
   "cell_type": "code",
   "execution_count": null,
   "metadata": {},
   "outputs": [],
   "source": [
    "len(onecl)"
   ]
  },
  {
   "cell_type": "code",
   "execution_count": null,
   "metadata": {},
   "outputs": [],
   "source": []
  },
  {
   "cell_type": "code",
   "execution_count": null,
   "metadata": {},
   "outputs": [],
   "source": [
    "# Make sure the notebook is saved\n",
    "\n",
    "from ipylab import JupyterFrontEnd\n",
    "\n",
    "app = JupyterFrontEnd()\n",
    "app.commands.execute(\"docmanager:save\")"
   ]
  }
 ],
 "metadata": {
  "jupytext": {
   "formats": "ipynb,py"
  },
  "kernelspec": {
   "display_name": "cmb",
   "language": "python",
   "name": "python3"
  },
  "language_info": {
   "codemirror_mode": {
    "name": "ipython",
    "version": 3
   },
   "file_extension": ".py",
   "mimetype": "text/x-python",
   "name": "python",
   "nbconvert_exporter": "python",
   "pygments_lexer": "ipython3",
   "version": "3.12.7"
  }
 },
 "nbformat": 4,
 "nbformat_minor": 4
}
