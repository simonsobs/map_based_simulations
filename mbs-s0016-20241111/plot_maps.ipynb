{
 "cells": [
  {
   "cell_type": "code",
   "execution_count": null,
   "id": "0",
   "metadata": {},
   "outputs": [],
   "source": [
    "import healpy as hp"
   ]
  },
  {
   "cell_type": "code",
   "execution_count": null,
   "id": "1",
   "metadata": {},
   "outputs": [],
   "source": [
    "cd .."
   ]
  },
  {
   "cell_type": "code",
   "execution_count": null,
   "id": "2",
   "metadata": {},
   "outputs": [],
   "source": [
    "cd .."
   ]
  },
  {
   "cell_type": "code",
   "execution_count": null,
   "id": "3",
   "metadata": {},
   "outputs": [],
   "source": [
    "cd s4mapbasedsims/phase1/"
   ]
  },
  {
   "cell_type": "code",
   "execution_count": null,
   "id": "4",
   "metadata": {},
   "outputs": [],
   "source": [
    "cd output/\n"
   ]
  },
  {
   "cell_type": "code",
   "execution_count": null,
   "id": "5",
   "metadata": {},
   "outputs": [],
   "source": [
    "extragalactic = [\"cib_cib1\", \"ksz_ksz1\", \"tsz_tsz1\"]"
   ]
  },
  {
   "cell_type": "code",
   "execution_count": null,
   "id": "6",
   "metadata": {},
   "outputs": [],
   "source": [
    "comps = [\"dust_d10\",\n",
    "        \"synchrotron_s5\",\n",
    "        \"freefree_f1\",\n",
    "        \"ame_a1\",\n",
    "        \"co_co3\"] + extragalactic"
   ]
  },
  {
   "cell_type": "code",
   "execution_count": null,
   "id": "7",
   "metadata": {},
   "outputs": [],
   "source": [
    "from glob import glob"
   ]
  },
  {
   "cell_type": "code",
   "execution_count": null,
   "id": "8",
   "metadata": {},
   "outputs": [],
   "source": [
    "comp "
   ]
  },
  {
   "cell_type": "code",
   "execution_count": null,
   "id": "9",
   "metadata": {},
   "outputs": [],
   "source": [
    "for comp in comps:\n",
    "    print(comp)\n",
    "    m = hp.read_map(glob(f\"{comp}/*LAT_f030*w0*healpix*\")[0])\n",
    "    hp.gnomview(m, title=comp)"
   ]
  },
  {
   "cell_type": "code",
   "execution_count": null,
   "id": "10",
   "metadata": {},
   "outputs": [],
   "source": [
    "for f in glob(f\"{comp}/cmbs4_*_uKCMB_CHLAT_*_nside4096.fits\"):\n",
    "\n",
    "    m = hp.read_map(f)\n",
    "    hp.gnomview(m, title=f)"
   ]
  },
  {
   "cell_type": "code",
   "execution_count": null,
   "id": "11",
   "metadata": {},
   "outputs": [],
   "source": [
    "for f in glob(f\"{comp}/cmbs4_*_uKCMB_CHLAT_*_nside4096.fits\"):\n",
    "\n",
    "    m = hp.read_map(f)\n",
    "    hp.gnomview(m, title=f)"
   ]
  },
  {
   "cell_type": "code",
   "execution_count": null,
   "id": "12",
   "metadata": {},
   "outputs": [],
   "source": [
    "    m = hp.read_map(glob(f\"{comp}/cmbs4_*_uKCMB_*LAT_f020_nside*.fits\")[0])\n",
    "    hp.gnomview(m, title=comp)"
   ]
  },
  {
   "cell_type": "code",
   "execution_count": null,
   "id": "13",
   "metadata": {},
   "outputs": [],
   "source": [
    "for comp in comps[5:]:\n",
    "    m = hp.read_map(glob(f\"{comp}/LAT_f030.fits\")[0])\n",
    "    hp.gnomview(m, title=comp)"
   ]
  },
  {
   "cell_type": "code",
   "execution_count": null,
   "id": "14",
   "metadata": {},
   "outputs": [],
   "source": []
  }
 ],
 "metadata": {
  "kernelspec": {
   "display_name": "cmb",
   "language": "python",
   "name": "cmb"
  },
  "language_info": {
   "codemirror_mode": {
    "name": "ipython",
    "version": 3
   },
   "file_extension": ".py",
   "mimetype": "text/x-python",
   "name": "python",
   "nbconvert_exporter": "python",
   "pygments_lexer": "ipython3",
   "version": "3.12.7"
  }
 },
 "nbformat": 4,
 "nbformat_minor": 5
}
