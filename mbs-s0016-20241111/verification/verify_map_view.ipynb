{
 "cells": [
  {
   "cell_type": "code",
   "execution_count": null,
   "id": "0",
   "metadata": {
    "tags": []
   },
   "outputs": [],
   "source": [
    "import healpy as hp\n",
    "from pysm3 import units as u\n",
    "import pysm3\n",
    "import numpy as np\n",
    "import matplotlib.pyplot as plt"
   ]
  },
  {
   "cell_type": "code",
   "execution_count": null,
   "id": "1",
   "metadata": {},
   "outputs": [],
   "source": [
    "from IPython.display import set_matplotlib_formats\n",
    "\n",
    "# Set inline plot format to JPEG instead of PNG\n",
    "set_matplotlib_formats(\"jpg\")"
   ]
  },
  {
   "cell_type": "code",
   "execution_count": null,
   "id": "2",
   "metadata": {
    "tags": []
   },
   "outputs": [],
   "source": [
    "from astropy.table import QTable"
   ]
  },
  {
   "cell_type": "code",
   "execution_count": null,
   "id": "3",
   "metadata": {
    "tags": []
   },
   "outputs": [],
   "source": [
    "chs = QTable.read(\"../instrument_model/instrument_model_SAT_4096.tbl\", format=\"ascii.ipac\")"
   ]
  },
  {
   "cell_type": "code",
   "execution_count": null,
   "id": "4",
   "metadata": {
    "tags": []
   },
   "outputs": [],
   "source": [
    "from astropy.io import fits"
   ]
  },
  {
   "cell_type": "code",
   "execution_count": null,
   "id": "5",
   "metadata": {
    "tags": []
   },
   "outputs": [],
   "source": [
    "chs.add_index(\"band\")"
   ]
  },
  {
   "cell_type": "code",
   "execution_count": null,
   "id": "6",
   "metadata": {},
   "outputs": [],
   "source": [
    "from glob import glob"
   ]
  },
  {
   "cell_type": "code",
   "execution_count": null,
   "id": "7",
   "metadata": {
    "tags": [
     "parameters"
    ]
   },
   "outputs": [],
   "source": [
    "component = \"ame_a2\""
   ]
  },
  {
   "cell_type": "code",
   "execution_count": null,
   "id": "8",
   "metadata": {},
   "outputs": [],
   "source": [
    "import toml\n",
    "\n",
    "config = toml.load(\"../common.toml\")\n",
    "folder = \"../\" + config[\"output_folder\"].format(tag=component)\n",
    "print(folder)"
   ]
  },
  {
   "cell_type": "code",
   "execution_count": null,
   "id": "9",
   "metadata": {},
   "outputs": [],
   "source": [
    "for ch in chs:\n",
    "    if ch[\"band\"].endswith(\"w0\"):\n",
    "        m = hp.read_map(\n",
    "            glob(folder + \"/*\" + ch[\"band\"] + \"*healpix*.fits\")[0], (0, 1, 2)\n",
    "        )\n",
    "        for i in range(3):\n",
    "            plt.figure()\n",
    "            hp.mollview(\n",
    "                m[i],\n",
    "                title=[\"I\", \"Q\", \"U\"][i] + \" \" + ch[\"band\"] + \" \" + component,\n",
    "                unit=\"uK_CMB\",\n",
    "                norm=\"hist\",\n",
    "                xsize=800,\n",
    "            )\n",
    "            hp.graticule()\n",
    "            hp.gnomview(\n",
    "                m[i],\n",
    "                title=[\"I\", \"Q\", \"U\"][i] + \" \" + ch[\"band\"] + \" \" + component,\n",
    "                unit=\"uK_CMB\",\n",
    "                xsize=800,\n",
    "                norm=\"hist\",\n",
    "                rot=(0, 0),\n",
    "            )"
   ]
  },
  {
   "cell_type": "code",
   "execution_count": null,
   "id": "10",
   "metadata": {},
   "outputs": [],
   "source": []
  }
 ],
 "metadata": {
  "kernelspec": {
   "display_name": "cmb",
   "language": "python",
   "name": "python3"
  },
  "language_info": {
   "codemirror_mode": {
    "name": "ipython",
    "version": 3
   },
   "file_extension": ".py",
   "mimetype": "text/x-python",
   "name": "python",
   "nbconvert_exporter": "python",
   "pygments_lexer": "ipython3",
   "version": "3.12.7"
  }
 },
 "nbformat": 4,
 "nbformat_minor": 5
}
