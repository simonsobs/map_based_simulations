{
 "cells": [
  {
   "cell_type": "markdown",
   "metadata": {},
   "source": [
    "# Extract Simons Observatory instrument parameters\n",
    "\n",
    "In order to be independent of `sotodlib` and track versions of the instrument model parameters more easily, we extract them to a file included in this repository."
   ]
  },
  {
   "cell_type": "code",
   "execution_count": 1,
   "metadata": {
    "tags": []
   },
   "outputs": [],
   "source": [
    "import numpy as np"
   ]
  },
  {
   "cell_type": "code",
   "execution_count": 2,
   "metadata": {},
   "outputs": [],
   "source": [
    "import matplotlib.pyplot as plt\n",
    "\n",
    "%matplotlib inline"
   ]
  },
  {
   "cell_type": "code",
   "execution_count": 3,
   "metadata": {
    "tags": []
   },
   "outputs": [],
   "source": [
    "import sotodlib.sim_hardware as hardware\n",
    "\n",
    "hw = hardware.sim_nominal()"
   ]
  },
  {
   "cell_type": "code",
   "execution_count": 4,
   "metadata": {
    "tags": []
   },
   "outputs": [],
   "source": [
    "import sotodlib"
   ]
  },
  {
   "cell_type": "code",
   "execution_count": 5,
   "metadata": {
    "tags": []
   },
   "outputs": [
    {
     "data": {
      "text/plain": [
       "'0.2.1+3270.ga03ad3b3'"
      ]
     },
     "execution_count": 5,
     "metadata": {},
     "output_type": "execute_result"
    }
   ],
   "source": [
    "sotodlib.__version__"
   ]
  },
  {
   "cell_type": "markdown",
   "metadata": {},
   "source": [
    "There is something wrong with versioning, anyway, the commit hash is:\n",
    "\n",
    "```a03ad3b39d1625b2f50b8c5e231410ef770e7470```"
   ]
  },
  {
   "cell_type": "code",
   "execution_count": 6,
   "metadata": {
    "tags": []
   },
   "outputs": [],
   "source": [
    "fwhm_arcmin = {\n",
    "    \"SA\": hw.data[\"telescopes\"][\"SAT1\"][\"fwhm\"],\n",
    "    \"LA\": hw.data[\"telescopes\"][\"LAT\"][\"fwhm\"],\n",
    "}"
   ]
  },
  {
   "cell_type": "code",
   "execution_count": 7,
   "metadata": {
    "tags": []
   },
   "outputs": [],
   "source": [
    "from pathlib import Path"
   ]
  },
  {
   "cell_type": "code",
   "execution_count": 8,
   "metadata": {},
   "outputs": [],
   "source": [
    "from collections import OrderedDict\n",
    "from astropy import units as u\n",
    "from astropy.table import QTable"
   ]
  },
  {
   "cell_type": "code",
   "execution_count": 9,
   "metadata": {},
   "outputs": [
    {
     "data": {
      "text/plain": [
       "odict_keys(['LAT_f030', 'LAT_f040', 'LAT_f090', 'LAT_f150', 'LAT_f230', 'LAT_f290', 'SAT_f030', 'SAT_f040', 'SAT_f090', 'SAT_f150', 'SAT_f230', 'SAT_f290', 'NC'])"
      ]
     },
     "execution_count": 9,
     "metadata": {},
     "output_type": "execute_result"
    }
   ],
   "source": [
    "hw.data[\"bands\"].keys()"
   ]
  },
  {
   "cell_type": "code",
   "execution_count": 10,
   "metadata": {},
   "outputs": [
    {
     "data": {
      "text/plain": [
       "{'SA': OrderedDict([('SAT_f030', 91.0),\n",
       "              ('SAT_f040', 63.0),\n",
       "              ('SAT_f090', 30.0),\n",
       "              ('SAT_f150', 17.0),\n",
       "              ('SAT_f230', 11.0),\n",
       "              ('SAT_f290', 9.0)]),\n",
       " 'LA': OrderedDict([('LAT_f030', 7.4),\n",
       "              ('LAT_f040', 5.1),\n",
       "              ('LAT_f090', 2.2),\n",
       "              ('LAT_f150', 1.4),\n",
       "              ('LAT_f230', 1.0),\n",
       "              ('LAT_f290', 0.9)])}"
      ]
     },
     "execution_count": 10,
     "metadata": {},
     "output_type": "execute_result"
    }
   ],
   "source": [
    "fwhm_arcmin"
   ]
  },
  {
   "cell_type": "code",
   "execution_count": 11,
   "metadata": {
    "tags": []
   },
   "outputs": [
    {
     "name": "stdout",
     "output_type": "stream",
     "text": [
      "LAT_f030\n",
      "LAT_f030\n",
      "LAT_f040\n",
      "LAT_f040\n",
      "LAT_f090\n",
      "LAT_f090\n",
      "LAT_f150\n",
      "LAT_f150\n",
      "LAT_f230\n",
      "LAT_f230\n",
      "LAT_f290\n",
      "LAT_f290\n",
      "SAT_f030\n",
      "SAT_f030\n",
      "SAT_f040\n",
      "SAT_f040\n",
      "SAT_f090\n",
      "SAT_f090\n",
      "SAT_f150\n",
      "SAT_f150\n",
      "SAT_f230\n",
      "SAT_f230\n",
      "SAT_f290\n",
      "SAT_f290\n"
     ]
    }
   ],
   "source": [
    "channels = []\n",
    "for band_label, band_properties in hw.data[\"bands\"].items():\n",
    "    if band_label == \"NC\":\n",
    "        continue  # skip dark bolometers\n",
    "    telescope = band_label[:3]\n",
    "    print(band_label)\n",
    "    ch = OrderedDict()\n",
    "    ch[\"telescope\"] = telescope\n",
    "    ch[\"band\"] = band_label\n",
    "    print(ch[\"band\"])\n",
    "    ch[\"fwhm\"] = fwhm_arcmin[telescope[:2]][band_label] * u.arcmin\n",
    "    properties = hw.data[\"bands\"][band_label]\n",
    "    for freq_type in [\"center\", \"low\", \"high\"]:\n",
    "        ch[freq_type + \"_frequency\"] = band_properties[freq_type] * u.GHz\n",
    "    channels.append(ch)"
   ]
  },
  {
   "cell_type": "markdown",
   "metadata": {},
   "source": [
    "## Read CSV of SO resolution and add to instrument model"
   ]
  },
  {
   "cell_type": "code",
   "execution_count": 12,
   "metadata": {
    "tags": []
   },
   "outputs": [],
   "source": [
    "from astropy.table import Table"
   ]
  },
  {
   "cell_type": "code",
   "execution_count": 13,
   "metadata": {
    "tags": []
   },
   "outputs": [],
   "source": [
    "so_default_resol = Table.read(\"so_default_resolution.csv\")"
   ]
  },
  {
   "cell_type": "code",
   "execution_count": 14,
   "metadata": {
    "tags": []
   },
   "outputs": [
    {
     "data": {
      "text/plain": [
       "<TableColumns names=('channel','fwhm','Nside','CAR_resol')>"
      ]
     },
     "execution_count": 14,
     "metadata": {},
     "output_type": "execute_result"
    }
   ],
   "source": [
    "so_default_resol.columns"
   ]
  },
  {
   "cell_type": "code",
   "execution_count": 15,
   "metadata": {
    "tags": []
   },
   "outputs": [],
   "source": [
    "so_default_resol.add_index(\"channel\")"
   ]
  },
  {
   "cell_type": "code",
   "execution_count": 16,
   "metadata": {},
   "outputs": [
    {
     "data": {
      "text/html": [
       "<div><i>Table length=12</i>\n",
       "<table id=\"table23454715273440\" class=\"table-striped table-bordered table-condensed\">\n",
       "<thead><tr><th>channel</th><th>fwhm</th><th>Nside</th><th>CAR_resol</th></tr></thead>\n",
       "<thead><tr><th>str8</th><th>float64</th><th>int64</th><th>float64</th></tr></thead>\n",
       "<tr><td>SAT_f030</td><td>91.0</td><td>128</td><td>12.0</td></tr>\n",
       "<tr><td>SAT_f040</td><td>63.0</td><td>128</td><td>12.0</td></tr>\n",
       "<tr><td>SAT_f090</td><td>30.0</td><td>512</td><td>4.0</td></tr>\n",
       "<tr><td>SAT_f150</td><td>17.0</td><td>512</td><td>4.0</td></tr>\n",
       "<tr><td>SAT_f230</td><td>11.0</td><td>1024</td><td>4.0</td></tr>\n",
       "<tr><td>SAT_f290</td><td>9.0</td><td>1024</td><td>4.0</td></tr>\n",
       "<tr><td>LAT_f030</td><td>7.4</td><td>2048</td><td>2.0</td></tr>\n",
       "<tr><td>LAT_f040</td><td>5.1</td><td>2048</td><td>2.0</td></tr>\n",
       "<tr><td>LAT_f090</td><td>2.2</td><td>8192</td><td>0.5</td></tr>\n",
       "<tr><td>LAT_f150</td><td>1.4</td><td>8192</td><td>0.5</td></tr>\n",
       "<tr><td>LAT_f230</td><td>1.0</td><td>8192</td><td>0.5</td></tr>\n",
       "<tr><td>LAT_f290</td><td>0.9</td><td>8192</td><td>0.5</td></tr>\n",
       "</table></div>"
      ],
      "text/plain": [
       "<Table length=12>\n",
       "channel    fwhm  Nside CAR_resol\n",
       "  str8   float64 int64  float64 \n",
       "-------- ------- ----- ---------\n",
       "SAT_f030    91.0   128      12.0\n",
       "SAT_f040    63.0   128      12.0\n",
       "SAT_f090    30.0   512       4.0\n",
       "SAT_f150    17.0   512       4.0\n",
       "SAT_f230    11.0  1024       4.0\n",
       "SAT_f290     9.0  1024       4.0\n",
       "LAT_f030     7.4  2048       2.0\n",
       "LAT_f040     5.1  2048       2.0\n",
       "LAT_f090     2.2  8192       0.5\n",
       "LAT_f150     1.4  8192       0.5\n",
       "LAT_f230     1.0  8192       0.5\n",
       "LAT_f290     0.9  8192       0.5"
      ]
     },
     "execution_count": 16,
     "metadata": {},
     "output_type": "execute_result"
    }
   ],
   "source": [
    "so_default_resol"
   ]
  },
  {
   "cell_type": "code",
   "execution_count": 17,
   "metadata": {
    "tags": []
   },
   "outputs": [],
   "source": [
    "for ch in channels:\n",
    "    ch_resol = so_default_resol.loc[ch[\"band\"]]\n",
    "    ch[\"nside\"] = ch_resol[\"Nside\"]\n",
    "    ch[\"car_resol\"] = ch_resol[\"CAR_resol\"] * u.arcmin"
   ]
  },
  {
   "cell_type": "markdown",
   "metadata": {},
   "source": [
    "## Add reference to bandpasses"
   ]
  },
  {
   "cell_type": "code",
   "execution_count": 18,
   "metadata": {},
   "outputs": [],
   "source": [
    "[ch[\"band\"][4:] for ch in channels[:6]]\n",
    "bandname = {\n",
    "    \"f030\": \"LF1\",\n",
    "    \"f040\": \"LF2\",\n",
    "    \"f090\": \"MF1\",\n",
    "    \"f150\": \"MF2\",\n",
    "    \"f230\": \"HF1\",\n",
    "    \"f290\": \"HF2\",\n",
    "}"
   ]
  },
  {
   "cell_type": "code",
   "execution_count": 19,
   "metadata": {},
   "outputs": [],
   "source": [
    "from copy import deepcopy"
   ]
  },
  {
   "cell_type": "code",
   "execution_count": 20,
   "metadata": {
    "tags": []
   },
   "outputs": [
    {
     "name": "stdout",
     "output_type": "stream",
     "text": [
      "LAT_f030\n",
      "bandpass_sampler/LAT/resampled_bpasses_LF1_w0.tbl\n",
      "bandpass_sampler/LAT/resampled_bpasses_LF1_w1.tbl\n",
      "bandpass_sampler/LAT/resampled_bpasses_LF1_w2.tbl\n",
      "bandpass_sampler/LAT/resampled_bpasses_LF1_w3.tbl\n",
      "LAT_f040\n",
      "bandpass_sampler/LAT/resampled_bpasses_LF2_w0.tbl\n",
      "bandpass_sampler/LAT/resampled_bpasses_LF2_w1.tbl\n",
      "bandpass_sampler/LAT/resampled_bpasses_LF2_w2.tbl\n",
      "bandpass_sampler/LAT/resampled_bpasses_LF2_w3.tbl\n",
      "LAT_f090\n",
      "bandpass_sampler/LAT/resampled_bpasses_MF1_w0.tbl\n",
      "bandpass_sampler/LAT/resampled_bpasses_MF1_w1.tbl\n",
      "bandpass_sampler/LAT/resampled_bpasses_MF1_w2.tbl\n",
      "bandpass_sampler/LAT/resampled_bpasses_MF1_w3.tbl\n",
      "bandpass_sampler/LAT/resampled_bpasses_MF1_w4.tbl\n",
      "bandpass_sampler/LAT/resampled_bpasses_MF1_w5.tbl\n",
      "bandpass_sampler/LAT/resampled_bpasses_MF1_w6.tbl\n",
      "bandpass_sampler/LAT/resampled_bpasses_MF1_w7.tbl\n",
      "LAT_f150\n",
      "bandpass_sampler/LAT/resampled_bpasses_MF2_w0.tbl\n",
      "bandpass_sampler/LAT/resampled_bpasses_MF2_w1.tbl\n",
      "bandpass_sampler/LAT/resampled_bpasses_MF2_w2.tbl\n",
      "bandpass_sampler/LAT/resampled_bpasses_MF2_w3.tbl\n",
      "bandpass_sampler/LAT/resampled_bpasses_MF2_w4.tbl\n",
      "bandpass_sampler/LAT/resampled_bpasses_MF2_w5.tbl\n",
      "bandpass_sampler/LAT/resampled_bpasses_MF2_w6.tbl\n",
      "bandpass_sampler/LAT/resampled_bpasses_MF2_w7.tbl\n",
      "LAT_f230\n",
      "bandpass_sampler/LAT/resampled_bpasses_HF1_w0.tbl\n",
      "bandpass_sampler/LAT/resampled_bpasses_HF1_w1.tbl\n",
      "bandpass_sampler/LAT/resampled_bpasses_HF1_w2.tbl\n",
      "bandpass_sampler/LAT/resampled_bpasses_HF1_w3.tbl\n",
      "bandpass_sampler/LAT/resampled_bpasses_HF1_w4.tbl\n",
      "bandpass_sampler/LAT/resampled_bpasses_HF1_w5.tbl\n",
      "LAT_f290\n",
      "bandpass_sampler/LAT/resampled_bpasses_HF2_w0.tbl\n",
      "bandpass_sampler/LAT/resampled_bpasses_HF2_w1.tbl\n",
      "bandpass_sampler/LAT/resampled_bpasses_HF2_w2.tbl\n",
      "bandpass_sampler/LAT/resampled_bpasses_HF2_w3.tbl\n",
      "bandpass_sampler/LAT/resampled_bpasses_HF2_w4.tbl\n",
      "bandpass_sampler/LAT/resampled_bpasses_HF2_w5.tbl\n",
      "SAT_f030\n",
      "bandpass_sampler/SAT/resampled_bpasses_LF1_w0.tbl\n",
      "bandpass_sampler/SAT/resampled_bpasses_LF1_w1.tbl\n",
      "bandpass_sampler/SAT/resampled_bpasses_LF1_w2.tbl\n",
      "bandpass_sampler/SAT/resampled_bpasses_LF1_w3.tbl\n",
      "SAT_f040\n",
      "bandpass_sampler/SAT/resampled_bpasses_LF2_w0.tbl\n",
      "bandpass_sampler/SAT/resampled_bpasses_LF2_w1.tbl\n",
      "bandpass_sampler/SAT/resampled_bpasses_LF2_w2.tbl\n",
      "bandpass_sampler/SAT/resampled_bpasses_LF2_w3.tbl\n",
      "SAT_f090\n",
      "bandpass_sampler/SAT/resampled_bpasses_MF1_w0.tbl\n",
      "bandpass_sampler/SAT/resampled_bpasses_MF1_w1.tbl\n",
      "bandpass_sampler/SAT/resampled_bpasses_MF1_w2.tbl\n",
      "bandpass_sampler/SAT/resampled_bpasses_MF1_w3.tbl\n",
      "bandpass_sampler/SAT/resampled_bpasses_MF1_w4.tbl\n",
      "bandpass_sampler/SAT/resampled_bpasses_MF1_w5.tbl\n",
      "bandpass_sampler/SAT/resampled_bpasses_MF1_w6.tbl\n",
      "bandpass_sampler/SAT/resampled_bpasses_MF1_w7.tbl\n",
      "SAT_f150\n",
      "bandpass_sampler/SAT/resampled_bpasses_MF2_w0.tbl\n",
      "bandpass_sampler/SAT/resampled_bpasses_MF2_w1.tbl\n",
      "bandpass_sampler/SAT/resampled_bpasses_MF2_w2.tbl\n",
      "bandpass_sampler/SAT/resampled_bpasses_MF2_w3.tbl\n",
      "bandpass_sampler/SAT/resampled_bpasses_MF2_w4.tbl\n",
      "bandpass_sampler/SAT/resampled_bpasses_MF2_w5.tbl\n",
      "bandpass_sampler/SAT/resampled_bpasses_MF2_w6.tbl\n",
      "bandpass_sampler/SAT/resampled_bpasses_MF2_w7.tbl\n",
      "SAT_f230\n",
      "bandpass_sampler/SAT/resampled_bpasses_HF1_w0.tbl\n",
      "bandpass_sampler/SAT/resampled_bpasses_HF1_w1.tbl\n",
      "bandpass_sampler/SAT/resampled_bpasses_HF1_w2.tbl\n",
      "bandpass_sampler/SAT/resampled_bpasses_HF1_w3.tbl\n",
      "bandpass_sampler/SAT/resampled_bpasses_HF1_w4.tbl\n",
      "bandpass_sampler/SAT/resampled_bpasses_HF1_w5.tbl\n",
      "SAT_f290\n",
      "bandpass_sampler/SAT/resampled_bpasses_HF2_w0.tbl\n",
      "bandpass_sampler/SAT/resampled_bpasses_HF2_w1.tbl\n",
      "bandpass_sampler/SAT/resampled_bpasses_HF2_w2.tbl\n",
      "bandpass_sampler/SAT/resampled_bpasses_HF2_w3.tbl\n",
      "bandpass_sampler/SAT/resampled_bpasses_HF2_w4.tbl\n",
      "bandpass_sampler/SAT/resampled_bpasses_HF2_w5.tbl\n"
     ]
    }
   ],
   "source": [
    "wafers = []\n",
    "n_wafers = 0\n",
    "for ch in channels:\n",
    "    bandpass_files = sorted(\n",
    "        (Path(\"bandpass_sampler\") / ch[\"telescope\"]).glob(\n",
    "            f\"*{bandname[ch['band'][4:]]}*.tbl\"\n",
    "        )\n",
    "    )\n",
    "    print(ch[\"band\"])\n",
    "    for bandpass_file in bandpass_files:\n",
    "        temp_ch = deepcopy(ch)\n",
    "        print(bandpass_file)\n",
    "        temp_ch[\"bandpass_file\"] = str(bandpass_file)\n",
    "        temp_ch[\"band\"] = ch[\"band\"] + \"_\" + bandpass_file.stem.split(\"_\")[-1]\n",
    "        wafers.append(temp_ch)\n",
    "        n_wafers += 1"
   ]
  },
  {
   "cell_type": "code",
   "execution_count": 21,
   "metadata": {},
   "outputs": [
    {
     "data": {
      "text/plain": [
       "72"
      ]
     },
     "execution_count": 21,
     "metadata": {},
     "output_type": "execute_result"
    }
   ],
   "source": [
    "n_wafers"
   ]
  },
  {
   "cell_type": "code",
   "execution_count": 22,
   "metadata": {},
   "outputs": [],
   "source": [
    "instrument_parameters = QTable(wafers)"
   ]
  },
  {
   "cell_type": "code",
   "execution_count": 23,
   "metadata": {},
   "outputs": [],
   "source": [
    "ipac_warning = [\n",
    "    \"Text file in IPAC table format, read with astropy\",\n",
    "    \"from astropy.table import QTable\",\n",
    "    \"QTable.read('filename.tbl', format='ascii.ipac')\",\n",
    "]"
   ]
  },
  {
   "cell_type": "code",
   "execution_count": 24,
   "metadata": {},
   "outputs": [],
   "source": [
    "instrument_parameters.meta[\"comments\"] = [\n",
    "    \"sotodlib_version:\" + sotodlib.__version__\n",
    "] + ipac_warning"
   ]
  },
  {
   "cell_type": "code",
   "execution_count": 25,
   "metadata": {},
   "outputs": [
    {
     "data": {
      "text/html": [
       "<div><i>QTable length=72</i>\n",
       "<table id=\"table23455634714592\" class=\"table-striped table-bordered table-condensed\">\n",
       "<thead><tr><th>telescope</th><th>band</th><th>fwhm</th><th>center_frequency</th><th>low_frequency</th><th>high_frequency</th><th>nside</th><th>car_resol</th><th>bandpass_file</th></tr></thead>\n",
       "<thead><tr><th></th><th></th><th>arcmin</th><th>GHz</th><th>GHz</th><th>GHz</th><th></th><th>arcmin</th><th></th></tr></thead>\n",
       "<thead><tr><th>str3</th><th>str11</th><th>float64</th><th>float64</th><th>float64</th><th>float64</th><th>int64</th><th>float64</th><th>str49</th></tr></thead>\n",
       "<tr><td>LAT</td><td>LAT_f030_w0</td><td>7.4</td><td>25.7</td><td>21.7</td><td>29.7</td><td>2048</td><td>2.0</td><td>bandpass_sampler/LAT/resampled_bpasses_LF1_w0.tbl</td></tr>\n",
       "<tr><td>LAT</td><td>LAT_f030_w1</td><td>7.4</td><td>25.7</td><td>21.7</td><td>29.7</td><td>2048</td><td>2.0</td><td>bandpass_sampler/LAT/resampled_bpasses_LF1_w1.tbl</td></tr>\n",
       "<tr><td>LAT</td><td>LAT_f030_w2</td><td>7.4</td><td>25.7</td><td>21.7</td><td>29.7</td><td>2048</td><td>2.0</td><td>bandpass_sampler/LAT/resampled_bpasses_LF1_w2.tbl</td></tr>\n",
       "<tr><td>LAT</td><td>LAT_f030_w3</td><td>7.4</td><td>25.7</td><td>21.7</td><td>29.7</td><td>2048</td><td>2.0</td><td>bandpass_sampler/LAT/resampled_bpasses_LF1_w3.tbl</td></tr>\n",
       "<tr><td>LAT</td><td>LAT_f040_w0</td><td>5.1</td><td>38.9</td><td>30.9</td><td>46.9</td><td>2048</td><td>2.0</td><td>bandpass_sampler/LAT/resampled_bpasses_LF2_w0.tbl</td></tr>\n",
       "<tr><td>LAT</td><td>LAT_f040_w1</td><td>5.1</td><td>38.9</td><td>30.9</td><td>46.9</td><td>2048</td><td>2.0</td><td>bandpass_sampler/LAT/resampled_bpasses_LF2_w1.tbl</td></tr>\n",
       "<tr><td>LAT</td><td>LAT_f040_w2</td><td>5.1</td><td>38.9</td><td>30.9</td><td>46.9</td><td>2048</td><td>2.0</td><td>bandpass_sampler/LAT/resampled_bpasses_LF2_w2.tbl</td></tr>\n",
       "<tr><td>LAT</td><td>LAT_f040_w3</td><td>5.1</td><td>38.9</td><td>30.9</td><td>46.9</td><td>2048</td><td>2.0</td><td>bandpass_sampler/LAT/resampled_bpasses_LF2_w3.tbl</td></tr>\n",
       "<tr><td>LAT</td><td>LAT_f090_w0</td><td>2.2</td><td>92.0</td><td>79.0</td><td>105.0</td><td>8192</td><td>0.5</td><td>bandpass_sampler/LAT/resampled_bpasses_MF1_w0.tbl</td></tr>\n",
       "<tr><td>...</td><td>...</td><td>...</td><td>...</td><td>...</td><td>...</td><td>...</td><td>...</td><td>...</td></tr>\n",
       "<tr><td>SAT</td><td>SAT_f230_w3</td><td>11.0</td><td>225.7</td><td>196.7</td><td>254.7</td><td>1024</td><td>4.0</td><td>bandpass_sampler/SAT/resampled_bpasses_HF1_w3.tbl</td></tr>\n",
       "<tr><td>SAT</td><td>SAT_f230_w4</td><td>11.0</td><td>225.7</td><td>196.7</td><td>254.7</td><td>1024</td><td>4.0</td><td>bandpass_sampler/SAT/resampled_bpasses_HF1_w4.tbl</td></tr>\n",
       "<tr><td>SAT</td><td>SAT_f230_w5</td><td>11.0</td><td>225.7</td><td>196.7</td><td>254.7</td><td>1024</td><td>4.0</td><td>bandpass_sampler/SAT/resampled_bpasses_HF1_w5.tbl</td></tr>\n",
       "<tr><td>SAT</td><td>SAT_f290_w0</td><td>9.0</td><td>285.4</td><td>258.4</td><td>312.4</td><td>1024</td><td>4.0</td><td>bandpass_sampler/SAT/resampled_bpasses_HF2_w0.tbl</td></tr>\n",
       "<tr><td>SAT</td><td>SAT_f290_w1</td><td>9.0</td><td>285.4</td><td>258.4</td><td>312.4</td><td>1024</td><td>4.0</td><td>bandpass_sampler/SAT/resampled_bpasses_HF2_w1.tbl</td></tr>\n",
       "<tr><td>SAT</td><td>SAT_f290_w2</td><td>9.0</td><td>285.4</td><td>258.4</td><td>312.4</td><td>1024</td><td>4.0</td><td>bandpass_sampler/SAT/resampled_bpasses_HF2_w2.tbl</td></tr>\n",
       "<tr><td>SAT</td><td>SAT_f290_w3</td><td>9.0</td><td>285.4</td><td>258.4</td><td>312.4</td><td>1024</td><td>4.0</td><td>bandpass_sampler/SAT/resampled_bpasses_HF2_w3.tbl</td></tr>\n",
       "<tr><td>SAT</td><td>SAT_f290_w4</td><td>9.0</td><td>285.4</td><td>258.4</td><td>312.4</td><td>1024</td><td>4.0</td><td>bandpass_sampler/SAT/resampled_bpasses_HF2_w4.tbl</td></tr>\n",
       "<tr><td>SAT</td><td>SAT_f290_w5</td><td>9.0</td><td>285.4</td><td>258.4</td><td>312.4</td><td>1024</td><td>4.0</td><td>bandpass_sampler/SAT/resampled_bpasses_HF2_w5.tbl</td></tr>\n",
       "</table></div>"
      ],
      "text/plain": [
       "<QTable length=72>\n",
       "telescope     band    ...                   bandpass_file                  \n",
       "                      ...                                                  \n",
       "   str3      str11    ...                       str49                      \n",
       "--------- ----------- ... -------------------------------------------------\n",
       "      LAT LAT_f030_w0 ... bandpass_sampler/LAT/resampled_bpasses_LF1_w0.tbl\n",
       "      LAT LAT_f030_w1 ... bandpass_sampler/LAT/resampled_bpasses_LF1_w1.tbl\n",
       "      LAT LAT_f030_w2 ... bandpass_sampler/LAT/resampled_bpasses_LF1_w2.tbl\n",
       "      LAT LAT_f030_w3 ... bandpass_sampler/LAT/resampled_bpasses_LF1_w3.tbl\n",
       "      LAT LAT_f040_w0 ... bandpass_sampler/LAT/resampled_bpasses_LF2_w0.tbl\n",
       "      LAT LAT_f040_w1 ... bandpass_sampler/LAT/resampled_bpasses_LF2_w1.tbl\n",
       "      LAT LAT_f040_w2 ... bandpass_sampler/LAT/resampled_bpasses_LF2_w2.tbl\n",
       "      LAT LAT_f040_w3 ... bandpass_sampler/LAT/resampled_bpasses_LF2_w3.tbl\n",
       "      LAT LAT_f090_w0 ... bandpass_sampler/LAT/resampled_bpasses_MF1_w0.tbl\n",
       "      ...         ... ...                                               ...\n",
       "      SAT SAT_f230_w3 ... bandpass_sampler/SAT/resampled_bpasses_HF1_w3.tbl\n",
       "      SAT SAT_f230_w4 ... bandpass_sampler/SAT/resampled_bpasses_HF1_w4.tbl\n",
       "      SAT SAT_f230_w5 ... bandpass_sampler/SAT/resampled_bpasses_HF1_w5.tbl\n",
       "      SAT SAT_f290_w0 ... bandpass_sampler/SAT/resampled_bpasses_HF2_w0.tbl\n",
       "      SAT SAT_f290_w1 ... bandpass_sampler/SAT/resampled_bpasses_HF2_w1.tbl\n",
       "      SAT SAT_f290_w2 ... bandpass_sampler/SAT/resampled_bpasses_HF2_w2.tbl\n",
       "      SAT SAT_f290_w3 ... bandpass_sampler/SAT/resampled_bpasses_HF2_w3.tbl\n",
       "      SAT SAT_f290_w4 ... bandpass_sampler/SAT/resampled_bpasses_HF2_w4.tbl\n",
       "      SAT SAT_f290_w5 ... bandpass_sampler/SAT/resampled_bpasses_HF2_w5.tbl"
      ]
     },
     "execution_count": 25,
     "metadata": {},
     "output_type": "execute_result"
    }
   ],
   "source": [
    "instrument_parameters"
   ]
  },
  {
   "cell_type": "code",
   "execution_count": 26,
   "metadata": {},
   "outputs": [],
   "source": [
    "instrument_parameters.write(\n",
    "    \"instrument_parameters.tbl\", format=\"ascii.ipac\", overwrite=True\n",
    ")"
   ]
  }
 ],
 "metadata": {
  "kernelspec": {
   "display_name": "sotodlib",
   "language": "python",
   "name": "sotodlib"
  },
  "language_info": {
   "codemirror_mode": {
    "name": "ipython",
    "version": 3
   },
   "file_extension": ".py",
   "mimetype": "text/x-python",
   "name": "python",
   "nbconvert_exporter": "python",
   "pygments_lexer": "ipython3",
   "version": "3.10.15"
  }
 },
 "nbformat": 4,
 "nbformat_minor": 4
}
