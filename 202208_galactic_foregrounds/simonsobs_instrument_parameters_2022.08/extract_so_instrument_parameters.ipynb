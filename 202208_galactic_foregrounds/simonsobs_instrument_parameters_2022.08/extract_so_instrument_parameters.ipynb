{
 "cells": [
  {
   "cell_type": "markdown",
   "metadata": {},
   "source": [
    "# Extract Simons Observatory instrument parameters\n",
    "\n",
    "In order to be independent of `sotodlib` and track versions of the instrument model parameters more easily, we extract them to a file included in this repository.\n",
    "\n",
    "The versioning will be YYYY.MM"
   ]
  },
  {
   "cell_type": "code",
   "execution_count": 1,
   "metadata": {},
   "outputs": [],
   "source": [
    "import numpy as np"
   ]
  },
  {
   "cell_type": "code",
   "execution_count": 2,
   "metadata": {},
   "outputs": [],
   "source": [
    "import sotodlib.sim_hardware as hardware\n",
    "\n",
    "hw = hardware.get_example()"
   ]
  },
  {
   "cell_type": "code",
   "execution_count": 3,
   "metadata": {},
   "outputs": [],
   "source": [
    "import sotodlib"
   ]
  },
  {
   "cell_type": "code",
   "execution_count": 4,
   "metadata": {},
   "outputs": [
    {
     "data": {
      "text/plain": [
       "'0.4.0+519.g70028af'"
      ]
     },
     "execution_count": 4,
     "metadata": {},
     "output_type": "execute_result"
    }
   ],
   "source": [
    "sotodlib.__version__"
   ]
  },
  {
   "cell_type": "code",
   "execution_count": 5,
   "metadata": {},
   "outputs": [],
   "source": [
    "fwhm_arcmin = {\"SA\" : hw.data[\"telescopes\"][\"SAT1\"][\"fwhm\"],\n",
    "\"LA\":hw.data[\"telescopes\"][\"LAT\"][\"fwhm\"]}"
   ]
  },
  {
   "cell_type": "code",
   "execution_count": 6,
   "metadata": {},
   "outputs": [],
   "source": [
    "from pathlib import Path"
   ]
  },
  {
   "cell_type": "code",
   "execution_count": 7,
   "metadata": {},
   "outputs": [],
   "source": [
    "dataset_name = Path(\"simonsobs_instrument_parameters_2022.08\")"
   ]
  },
  {
   "cell_type": "code",
   "execution_count": 8,
   "metadata": {},
   "outputs": [],
   "source": [
    "!mkdir -p $dataset_name"
   ]
  },
  {
   "cell_type": "code",
   "execution_count": 9,
   "metadata": {},
   "outputs": [],
   "source": [
    "from collections import OrderedDict\n",
    "from astropy import units as u\n",
    "from astropy.table import QTable"
   ]
  },
  {
   "cell_type": "code",
   "execution_count": 10,
   "metadata": {},
   "outputs": [
    {
     "name": "stdout",
     "output_type": "stream",
     "text": [
      "LAT_f030\n",
      "LAT_f040\n",
      "LAT_f090\n",
      "LAT_f150\n",
      "LAT_f230\n",
      "LAT_f290\n",
      "SAT_f030\n",
      "SAT_f040\n",
      "SAT_f090\n",
      "SAT_f150\n",
      "SAT_f230\n",
      "SAT_f290\n"
     ]
    }
   ],
   "source": [
    "channels = []\n",
    "for band_label, band_properties in hw.data[\"bands\"].items():\n",
    "    telescope = band_label[:3]\n",
    "    print(band_label)\n",
    "    ch = OrderedDict()\n",
    "    ch[\"telescope\"] = telescope\n",
    "    ch[\"band\"] = band_label\n",
    "    ch[\"fwhm\"] = fwhm_arcmin[telescope[:2]][band_label] * u.arcmin\n",
    "    properties = hw.data[\"bands\"][band_label]\n",
    "    for freq_type in [\"center\", \"low\", \"high\"]:\n",
    "        ch[freq_type + \"_frequency\"] = band_properties[freq_type] *u.GHz\n",
    "    channels.append(ch)"
   ]
  },
  {
   "cell_type": "markdown",
   "metadata": {},
   "source": [
    "## Bandpasses\n",
    "\n",
    "Revision `b065fa3854b9a0f36bc9957bb94ec1f9481a5f2a` of https://github.com/simonsobs/instrument_model/"
   ]
  },
  {
   "cell_type": "code",
   "execution_count": 11,
   "metadata": {},
   "outputs": [
    {
     "name": "stdout",
     "output_type": "stream",
     "text": [
      "UHF_wOMT_LAT_beam.txt  UHF_wOMT_SAT_beam.txt  UHF_wOMT.txt\n"
     ]
    }
   ],
   "source": [
    "ls ../../../instrument_model/instrument_hardware/modeled_bandpasses/UHF"
   ]
  },
  {
   "cell_type": "code",
   "execution_count": 12,
   "metadata": {},
   "outputs": [],
   "source": [
    "bandpass_files = [\n",
    "    \"../../../instrument_model/instrument_hardware/modeled_bandpasses/LF/LF_skinnyfatter.txt\",\n",
    "    \"../../../instrument_model/instrument_hardware/modeled_bandpasses/MF/MF_wOMT_wLPF_v1.txt\",\n",
    "    \"../../../instrument_model/instrument_hardware/modeled_bandpasses/UHF/UHF_wOMT.txt\",\n",
    "]"
   ]
  },
  {
   "cell_type": "code",
   "execution_count": 13,
   "metadata": {},
   "outputs": [
    {
     "name": "stdout",
     "output_type": "stream",
     "text": [
      "30\n",
      "40\n",
      "90\n",
      "150\n",
      "220\n",
      "280\n"
     ]
    }
   ],
   "source": [
    "from astropy.io import ascii\n",
    "\n",
    "for f in bandpass_files:\n",
    "    modeled_bandpasses = ascii.read(f)\n",
    "    for band in modeled_bandpasses.keys()[1:]:\n",
    "        freq = int(band.split()[0])\n",
    "        print(freq)\n",
    "        if freq == 220:\n",
    "            freq = 230\n",
    "        if freq == 280:\n",
    "            freq = 290\n",
    "        freq_label = \"Freq\" if freq < 50 else \"Frequency (GHz)\"\n",
    "        QTable({\n",
    "        \"bandpass_frequency\":modeled_bandpasses[freq_label]*u.GHz,\n",
    "        \"bandpass_weight\":modeled_bandpasses[band]\n",
    "        }).write(dataset_name / f\"bandpass_f{freq:03d}.tbl\", format=\"ascii.ipac\", overwrite=True)"
   ]
  },
  {
   "cell_type": "code",
   "execution_count": 14,
   "metadata": {},
   "outputs": [],
   "source": [
    "instrument_parameters = QTable(channels)"
   ]
  },
  {
   "cell_type": "code",
   "execution_count": 15,
   "metadata": {},
   "outputs": [],
   "source": [
    "ipac_warning = [\"Text file in IPAC table format, read with astropy\",\n",
    "    \"from astropy.table import QTable\",\n",
    "    \"QTable.read('filename.tbl', format='ascii.ipac')\"]"
   ]
  },
  {
   "cell_type": "code",
   "execution_count": 16,
   "metadata": {},
   "outputs": [],
   "source": [
    "\n",
    "instrument_parameters.meta[\"comments\"] = [\"sotodlib_version:\" + sotodlib.__version__] + ipac_warning"
   ]
  },
  {
   "cell_type": "code",
   "execution_count": 17,
   "metadata": {},
   "outputs": [
    {
     "data": {
      "text/html": [
       "<div><i>QTable length=12</i>\n",
       "<table id=\"table140584643400992\" class=\"table-striped table-bordered table-condensed\">\n",
       "<thead><tr><th>telescope</th><th>band</th><th>fwhm</th><th>center_frequency</th><th>low_frequency</th><th>high_frequency</th></tr></thead>\n",
       "<thead><tr><th></th><th></th><th>arcmin</th><th>GHz</th><th>GHz</th><th>GHz</th></tr></thead>\n",
       "<thead><tr><th>str3</th><th>str8</th><th>float64</th><th>float64</th><th>float64</th><th>float64</th></tr></thead>\n",
       "<tr><td>LAT</td><td>LAT_f030</td><td>7.4</td><td>25.7</td><td>21.7</td><td>29.7</td></tr>\n",
       "<tr><td>LAT</td><td>LAT_f040</td><td>5.1</td><td>38.9</td><td>30.9</td><td>46.9</td></tr>\n",
       "<tr><td>LAT</td><td>LAT_f090</td><td>2.2</td><td>92.0</td><td>79.0</td><td>105.0</td></tr>\n",
       "<tr><td>LAT</td><td>LAT_f150</td><td>1.4</td><td>147.5</td><td>130.0</td><td>165.0</td></tr>\n",
       "<tr><td>LAT</td><td>LAT_f230</td><td>1.0</td><td>225.7</td><td>196.7</td><td>254.7</td></tr>\n",
       "<tr><td>LAT</td><td>LAT_f290</td><td>0.9</td><td>285.4</td><td>258.4</td><td>312.4</td></tr>\n",
       "<tr><td>SAT</td><td>SAT_f030</td><td>91.0</td><td>25.7</td><td>21.7</td><td>29.7</td></tr>\n",
       "<tr><td>SAT</td><td>SAT_f040</td><td>63.0</td><td>38.9</td><td>30.9</td><td>46.9</td></tr>\n",
       "<tr><td>SAT</td><td>SAT_f090</td><td>30.0</td><td>92.0</td><td>79.0</td><td>105.0</td></tr>\n",
       "<tr><td>SAT</td><td>SAT_f150</td><td>17.0</td><td>147.5</td><td>130.0</td><td>165.0</td></tr>\n",
       "<tr><td>SAT</td><td>SAT_f230</td><td>11.0</td><td>225.7</td><td>196.7</td><td>254.7</td></tr>\n",
       "<tr><td>SAT</td><td>SAT_f290</td><td>9.0</td><td>285.4</td><td>258.4</td><td>312.4</td></tr>\n",
       "</table></div>"
      ],
      "text/plain": [
       "<QTable length=12>\n",
       "telescope   band     fwhm  center_frequency low_frequency high_frequency\n",
       "                    arcmin       GHz             GHz           GHz      \n",
       "   str3     str8   float64     float64         float64       float64    \n",
       "--------- -------- ------- ---------------- ------------- --------------\n",
       "      LAT LAT_f030     7.4             25.7          21.7           29.7\n",
       "      LAT LAT_f040     5.1             38.9          30.9           46.9\n",
       "      LAT LAT_f090     2.2             92.0          79.0          105.0\n",
       "      LAT LAT_f150     1.4            147.5         130.0          165.0\n",
       "      LAT LAT_f230     1.0            225.7         196.7          254.7\n",
       "      LAT LAT_f290     0.9            285.4         258.4          312.4\n",
       "      SAT SAT_f030    91.0             25.7          21.7           29.7\n",
       "      SAT SAT_f040    63.0             38.9          30.9           46.9\n",
       "      SAT SAT_f090    30.0             92.0          79.0          105.0\n",
       "      SAT SAT_f150    17.0            147.5         130.0          165.0\n",
       "      SAT SAT_f230    11.0            225.7         196.7          254.7\n",
       "      SAT SAT_f290     9.0            285.4         258.4          312.4"
      ]
     },
     "execution_count": 17,
     "metadata": {},
     "output_type": "execute_result"
    }
   ],
   "source": [
    "instrument_parameters"
   ]
  },
  {
   "cell_type": "code",
   "execution_count": 18,
   "metadata": {},
   "outputs": [],
   "source": [
    "instrument_parameters.write(dataset_name / (dataset_name.name+\".tbl\"), format=\"ascii.ipac\", overwrite=True)"
   ]
  }
 ],
 "metadata": {
  "kernelspec": {
   "display_name": "Python [conda env:cosmo]",
   "language": "python",
   "name": "conda-env-cosmo-py"
  },
  "language_info": {
   "codemirror_mode": {
    "name": "ipython",
    "version": 3
   },
   "file_extension": ".py",
   "mimetype": "text/x-python",
   "name": "python",
   "nbconvert_exporter": "python",
   "pygments_lexer": "ipython3",
   "version": "3.9.0"
  }
 },
 "nbformat": 4,
 "nbformat_minor": 4
}
