{
 "cells": [
  {
   "cell_type": "markdown",
   "metadata": {},
   "source": [
    "# Extract WMAP instrument parameters\n",
    "\n",
    "[Executed version of this notebook on Gist](https://gist.github.com/zonca/7b00e6ae5d14bdfec33cc992cd7d4554)"
   ]
  },
  {
   "cell_type": "code",
   "execution_count": null,
   "metadata": {},
   "outputs": [],
   "source": [
    "ipac_warning = [\n",
    "    \"Text file in IPAC table format, read with astropy\",\n",
    "    \"from astropy.table import QTable\",\n",
    "    \"QTable.read('filename.tbl', format='ascii.ipac')\",\n",
    "    f\"Instrument model exported from Lambda WMAP DR5\",\n",
    "]"
   ]
  },
  {
   "cell_type": "code",
   "execution_count": null,
   "metadata": {
    "tags": []
   },
   "outputs": [],
   "source": [
    "import numpy as np\n",
    "from astropy.io import fits"
   ]
  },
  {
   "cell_type": "code",
   "execution_count": null,
   "metadata": {},
   "outputs": [],
   "source": [
    "import matplotlib.pyplot as plt\n",
    "\n",
    "%matplotlib inline"
   ]
  },
  {
   "cell_type": "code",
   "execution_count": null,
   "metadata": {},
   "outputs": [],
   "source": [
    "from pathlib import Path\n",
    "\n",
    "# Check if the file does not exist before downloading\n",
    "file_path = Path(\"wmap_ampl_bl_9yr_v5p1.tar.gz\")\n",
    "if not file_path.exists():\n",
    "    !wget https://lambda.gsfc.nasa.gov/data/map/dr5/ancillary/beams/wmap_ampl_bl_9yr_v5p1.tar.gz\n",
    "    !tar xzvf wmap_ampl_bl_9yr_v5p1.tar.gz"
   ]
  },
  {
   "cell_type": "code",
   "execution_count": null,
   "metadata": {},
   "outputs": [],
   "source": [
    "%ls *V1*"
   ]
  },
  {
   "cell_type": "code",
   "execution_count": null,
   "metadata": {},
   "outputs": [],
   "source": [
    "freq_bands = [\"K\", \"Ka\", \"Q\", \"V\", \"W\"]"
   ]
  },
  {
   "cell_type": "code",
   "execution_count": null,
   "metadata": {},
   "outputs": [],
   "source": [
    "from pathlib import Path\n",
    "\n",
    "# Get all files matching the pattern\n",
    "files = Path(\".\").glob(\"wmap_ampl_bl*txt\")\n",
    "\n",
    "# Extract channel names from filenames\n",
    "channels = [file.stem.split(\"_\")[3] for file in files]\n",
    "\n",
    "print(channels)"
   ]
  },
  {
   "cell_type": "markdown",
   "metadata": {},
   "source": [
    "## Create the beam files"
   ]
  },
  {
   "cell_type": "code",
   "execution_count": null,
   "metadata": {},
   "outputs": [],
   "source": [
    "ls *V1*"
   ]
  },
  {
   "cell_type": "code",
   "execution_count": null,
   "metadata": {},
   "outputs": [],
   "source": [
    "!head -n 10 wmap_ampl_bl_V1_9yr_v5p1.txt"
   ]
  },
  {
   "cell_type": "code",
   "execution_count": null,
   "metadata": {},
   "outputs": [],
   "source": [
    "channels_by_freq = {}\n",
    "for freq_band in freq_bands:\n",
    "    channels_by_freq[freq_band] = []\n",
    "    for channel in channels:\n",
    "        if freq_band == \"K\" and channel.startswith(\"Ka\"):\n",
    "            continue\n",
    "        if freq_band in channel:\n",
    "            channels_by_freq[freq_band].append(channel)\n",
    "channels_by_freq"
   ]
  },
  {
   "cell_type": "code",
   "execution_count": null,
   "metadata": {
    "tags": []
   },
   "outputs": [],
   "source": [
    "from astropy.table import QTable\n",
    "\n",
    "beam = {}\n",
    "for freq_band, band_channels in channels_by_freq.items():\n",
    "    combined_data = None\n",
    "    for ch in band_channels:\n",
    "        wmap_data = np.loadtxt(f\"wmap_ampl_bl_{ch}_9yr_v5p1.txt\")\n",
    "        if combined_data is None:\n",
    "            combined_data = wmap_data\n",
    "        else:\n",
    "            combined_data[:, 1] += wmap_data[:, 1]\n",
    "    combined_data[:, 1] /= len(band_channels)\n",
    "    beam[freq_band] = QTable(\n",
    "        data=[combined_data[:, 0], combined_data[:, 1]], names=[\"ell\", \"B\"]\n",
    "    )\n",
    "    beam[freq_band][\"B\"] /= np.max(beam[freq_band][\"B\"])\n",
    "    beam[freq_band].meta[\"comments\"] = ipac_warning\n",
    "    beam[freq_band].write(f\"beam_{freq_band}.tbl\", format=\"ascii.ipac\", overwrite=True)"
   ]
  },
  {
   "cell_type": "code",
   "execution_count": null,
   "metadata": {},
   "outputs": [],
   "source": [
    "# Given FWHM values in degrees for each frequency band\n",
    "fwhm_deg_values = {\"K\": 0.88, \"Ka\": 0.66, \"Q\": 0.51, \"V\": 0.35, \"W\": 0.22}\n",
    "\n",
    "# From https://lambda.gsfc.nasa.gov/product/wmap/dr5/\n",
    "\n",
    "# Convert FWHM from degrees to arcminutes\n",
    "fwhm_arcmin_values = {band: value * 60 for band, value in fwhm_deg_values.items()}\n",
    "\n",
    "print(fwhm_arcmin_values)"
   ]
  },
  {
   "cell_type": "code",
   "execution_count": null,
   "metadata": {},
   "outputs": [],
   "source": [
    "for freq_band in freq_bands:\n",
    "    plt.figure()\n",
    "    plt.title(f\"Beam for {freq_band} band (Log-Log)\")\n",
    "    for ch in channels_by_freq[freq_band]:\n",
    "        beam_data = np.loadtxt(f\"wmap_ampl_bl_{ch}_9yr_v5p1.txt\")\n",
    "        plt.loglog(beam_data[:, 0], beam_data[:, 1], label=f\"{ch} (single)\")\n",
    "    plt.loglog(\n",
    "        beam[freq_band][\"ell\"],\n",
    "        beam[freq_band][\"B\"],\n",
    "        label=f\"{freq_band} (averaged)\",\n",
    "        linewidth=2,\n",
    "        color=\"black\",\n",
    "    )\n",
    "    plt.legend()\n",
    "    plt.grid()\n",
    "    plt.xlabel(\"Multipole moment (ell)\")\n",
    "    plt.ylabel(\"Beam response (B)\")\n",
    "    plt.show()"
   ]
  },
  {
   "cell_type": "markdown",
   "metadata": {},
   "source": [
    "## Create bandpass files\n",
    "\n",
    "As suggested in https://lambda.gsfc.nasa.gov/product/wmap/dr5/bandpass_info.html, we combine the bandpasses after normalizing them to unit integral, we create a single bandpass file for each frequency band"
   ]
  },
  {
   "cell_type": "code",
   "execution_count": null,
   "metadata": {},
   "outputs": [],
   "source": [
    "from pathlib import Path\n",
    "\n",
    "# Define the file path\n",
    "file_path = Path(\"wmap_bandpass_v5.tar.gz\")\n",
    "\n",
    "# Check if the file does not exist before downloading\n",
    "if not file_path.exists():\n",
    "    !wget https://lambda.gsfc.nasa.gov/data/map/dr5/ancillary/response/wmap_bandpass_v5.tar.gz\n",
    "    !tar xzvf wmap_bandpass_v5.tar.gz"
   ]
  },
  {
   "cell_type": "code",
   "execution_count": null,
   "metadata": {},
   "outputs": [],
   "source": [
    "# List all files matching the pattern\n",
    "bandpass_files = list(Path(\".\").glob(\"wmap_bandpass_*.cbp\"))\n",
    "\n",
    "# Extract the V21 part from the filenames\n",
    "bandpass_channels = [file.stem.split(\"_\")[2] for file in bandpass_files]\n",
    "\n",
    "print(bandpass_channels)"
   ]
  },
  {
   "cell_type": "code",
   "execution_count": null,
   "metadata": {},
   "outputs": [],
   "source": [
    "!head -n 20 wmap_bandpass_V22_v5.cbp"
   ]
  },
  {
   "cell_type": "code",
   "execution_count": null,
   "metadata": {},
   "outputs": [],
   "source": [
    "# Load the data from the file\n",
    "bandpass_data = np.loadtxt(\"wmap_bandpass_V21_v5.cbp\")\n",
    "\n",
    "# Display the first few rows of the data\n",
    "print(bandpass_data[:5])"
   ]
  },
  {
   "cell_type": "code",
   "execution_count": null,
   "metadata": {},
   "outputs": [],
   "source": [
    "from pysm3 import units as u"
   ]
  },
  {
   "cell_type": "code",
   "execution_count": null,
   "metadata": {},
   "outputs": [],
   "source": [
    "from astropy.table import QTable\n",
    "\n",
    "bandpass = {}\n",
    "for freq_band in freq_bands:\n",
    "    combined_data = None\n",
    "    for ch in bandpass_channels:\n",
    "        if ch.startswith(freq_band):\n",
    "            if freq_band == \"K\" and ch[1] == \"a\":\n",
    "                continue\n",
    "            bandpass_data = np.loadtxt(f\"wmap_bandpass_{ch}_v5.cbp\")\n",
    "            # normalize to integral of 1\n",
    "            bandpass_data[:, 1] /= np.trapz(bandpass_data[:, 1], bandpass_data[:, 0])\n",
    "            bandpass_data[:, 2] /= np.trapz(bandpass_data[:, 2], bandpass_data[:, 0])\n",
    "            if combined_data is None:\n",
    "                combined_data = bandpass_data[:, 1] + bandpass_data[:, 2]\n",
    "            else:\n",
    "                combined_data += bandpass_data[:, 1] + bandpass_data[:, 2]\n",
    "    combined_data /= (\n",
    "        bandpass_data[:, 0] ** 2\n",
    "    )  # go from bandpass in RJ to bandpass in power\n",
    "    combined_data /= np.trapz(combined_data, bandpass_data[:, 0])\n",
    "    bandpass[freq_band] = QTable(\n",
    "        names=\"bandpass_frequency bandpass_weight\".split(),\n",
    "        units=[u.GHz, None],\n",
    "        data=[bandpass_data[:, 0], combined_data],\n",
    "    )\n",
    "    bandpass[freq_band].meta[\"comments\"] = ipac_warning\n",
    "    bandpass[freq_band].write(\n",
    "        f\"bandpass_{freq_band}.tbl\", format=\"ascii.ipac\", overwrite=True\n",
    "    )"
   ]
  },
  {
   "cell_type": "code",
   "execution_count": null,
   "metadata": {},
   "outputs": [],
   "source": [
    "effective_frequency = {}\n",
    "\n",
    "for freq_band in freq_bands:\n",
    "    bandpass_data = bandpass[freq_band]\n",
    "    frequency = bandpass_data[\"bandpass_frequency\"]\n",
    "    weight = bandpass_data[\"bandpass_weight\"]\n",
    "\n",
    "    # Calculate the effective frequency\n",
    "    eff_freq = np.trapz(frequency * weight, frequency) / np.trapz(weight, frequency)\n",
    "    effective_frequency[freq_band] = eff_freq\n",
    "\n",
    "print(effective_frequency)"
   ]
  },
  {
   "cell_type": "code",
   "execution_count": null,
   "metadata": {},
   "outputs": [],
   "source": [
    "for freq_band in freq_bands:\n",
    "    plt.figure()\n",
    "    plt.title(f\"Bandpass for {freq_band} band (Linear)\")\n",
    "    for ch in bandpass_channels:\n",
    "        if ch.startswith(freq_band):\n",
    "            if freq_band == \"K\" and ch[1] == \"a\":\n",
    "                continue\n",
    "            bandpass_data = np.loadtxt(f\"wmap_bandpass_{ch}_v5.cbp\")\n",
    "\n",
    "            # plot bandpass_data[:,1] and 2 against 0\n",
    "            bandpass_data[:, 1] /= np.trapz(bandpass_data[:, 1], bandpass_data[:, 0])\n",
    "            bandpass_data[:, 2] /= np.trapz(bandpass_data[:, 2], bandpass_data[:, 0])\n",
    "            plt.plot(bandpass_data[:, 0], bandpass_data[:, 1], label=f\"{ch} 1\")\n",
    "            plt.plot(bandpass_data[:, 0], bandpass_data[:, 2], label=f\"{ch} 2\")\n",
    "\n",
    "    # Overplot the averaged bandpass\n",
    "    bandpass_rj = (\n",
    "        bandpass[freq_band][\"bandpass_weight\"]\n",
    "        * bandpass[freq_band][\"bandpass_frequency\"] ** 2\n",
    "    )\n",
    "    bandpass_rj /= np.trapz(bandpass_rj, bandpass[freq_band][\"bandpass_frequency\"])\n",
    "    plt.plot(\n",
    "        bandpass[freq_band][\"bandpass_frequency\"],\n",
    "        bandpass_rj,\n",
    "        label=f\"{freq_band} (averaged)\",\n",
    "        linewidth=2,\n",
    "        color=\"black\",\n",
    "    )\n",
    "    plt.legend()\n",
    "    plt.grid()\n",
    "    plt.xlabel(\"Frequency (GHz)\")\n",
    "    plt.ylabel(\"Bandpass\")\n",
    "    plt.show()\n",
    "\n",
    "    plt.figure()\n",
    "    plt.title(f\"Bandpass for {freq_band} band (Semilog)\")\n",
    "    for ch in bandpass_channels:\n",
    "        if ch.startswith(freq_band):\n",
    "            if freq_band == \"K\" and ch[1] == \"a\":\n",
    "                continue\n",
    "            bandpass_data = np.loadtxt(f\"wmap_bandpass_{ch}_v5.cbp\")\n",
    "            # normalize to unit integral\n",
    "            bandpass_data[:, 1] /= np.trapz(bandpass_data[:, 1], bandpass_data[:, 0])\n",
    "            bandpass_data[:, 2] /= np.trapz(bandpass_data[:, 2], bandpass_data[:, 0])\n",
    "\n",
    "            # plot bandpass_data[:,1] and 2 against 0\n",
    "            plt.semilogy(bandpass_data[:, 0], bandpass_data[:, 1], label=f\"{ch} 1\")\n",
    "            plt.semilogy(bandpass_data[:, 0], bandpass_data[:, 2], label=f\"{ch} 2\")\n",
    "\n",
    "    # Overplot the averaged bandpass\n",
    "    plt.semilogy(\n",
    "        bandpass[freq_band][\"bandpass_frequency\"],\n",
    "        bandpass[freq_band][\"bandpass_weight\"],\n",
    "        label=f\"{freq_band} (averaged)\",\n",
    "        linewidth=2,\n",
    "        color=\"black\",\n",
    "    )\n",
    "    plt.legend()\n",
    "    plt.grid()\n",
    "    plt.xlabel(\"Frequency (GHz)\")\n",
    "    plt.ylabel(\"Bandpass\")\n",
    "    plt.show()"
   ]
  },
  {
   "cell_type": "markdown",
   "metadata": {},
   "source": [
    "## Create the instrument model"
   ]
  },
  {
   "cell_type": "code",
   "execution_count": null,
   "metadata": {},
   "outputs": [],
   "source": [
    "table = QTable(\n",
    "    names=[\n",
    "        \"telescope\",\n",
    "        \"band\",\n",
    "        \"fwhm\",\n",
    "        \"center_frequency\",\n",
    "        \"nside\",\n",
    "        \"bandpass_file\",\n",
    "        \"beam_file\",\n",
    "    ],\n",
    "    dtype=[str, str, float, float, int, str, str],\n",
    "    units=[None, None, u.arcmin, u.GHz, None, None, None],\n",
    ")"
   ]
  },
  {
   "cell_type": "code",
   "execution_count": null,
   "metadata": {},
   "outputs": [],
   "source": [
    "from collections import OrderedDict\n",
    "\n",
    "for label in freq_bands:\n",
    "    table.add_row(\n",
    "        OrderedDict(\n",
    "            telescope=\"WMAP\",\n",
    "            band=label,\n",
    "            nside=512,\n",
    "            fwhm=fwhm_arcmin_values[label] * u.arcmin,\n",
    "            center_frequency=effective_frequency[label],\n",
    "            bandpass_file=\"bandpass_\" + label + \".tbl\",\n",
    "            beam_file=\"beam_\" + label + \".tbl\",\n",
    "        )\n",
    "    )"
   ]
  },
  {
   "cell_type": "code",
   "execution_count": null,
   "metadata": {},
   "outputs": [],
   "source": [
    "table"
   ]
  },
  {
   "cell_type": "code",
   "execution_count": null,
   "metadata": {},
   "outputs": [],
   "source": [
    "table.meta[\"comments\"] = ipac_warning\n",
    "table.write(f\"instrument_model.tbl\", format=\"ascii.ipac\", overwrite=True)"
   ]
  },
  {
   "cell_type": "code",
   "execution_count": null,
   "metadata": {},
   "outputs": [],
   "source": []
  }
 ],
 "metadata": {
  "kernelspec": {
   "display_name": "cmb",
   "language": "python",
   "name": "python3"
  },
  "language_info": {
   "codemirror_mode": {
    "name": "ipython",
    "version": 3
   },
   "file_extension": ".py",
   "mimetype": "text/x-python",
   "name": "python",
   "nbconvert_exporter": "python",
   "pygments_lexer": "ipython3",
   "version": "3.12.7"
  }
 },
 "nbformat": 4,
 "nbformat_minor": 4
}
