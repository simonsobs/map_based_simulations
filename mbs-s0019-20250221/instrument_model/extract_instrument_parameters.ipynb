{
 "cells": [
  {
   "cell_type": "markdown",
   "metadata": {},
   "source": [
    "# Extract WMAP instrument parameters"
   ]
  },
  {
   "cell_type": "code",
   "execution_count": null,
   "metadata": {},
   "outputs": [],
   "source": [
    "ipac_warning = [\n",
    "    \"Text file in IPAC table format, read with astropy\",\n",
    "    \"from astropy.table import QTable\",\n",
    "    \"QTable.read('filename.tbl', format='ascii.ipac')\",\n",
    "    f\"Instrument model exported from Lambda WMAP DR5\",\n",
    "]"
   ]
  },
  {
   "cell_type": "code",
   "execution_count": null,
   "metadata": {
    "tags": []
   },
   "outputs": [],
   "source": [
    "import numpy as np\n",
    "from astropy.io import fits"
   ]
  },
  {
   "cell_type": "code",
   "execution_count": null,
   "metadata": {},
   "outputs": [],
   "source": [
    "import matplotlib.pyplot as plt\n",
    "\n",
    "%matplotlib inline"
   ]
  },
  {
   "cell_type": "code",
   "execution_count": null,
   "metadata": {},
   "outputs": [],
   "source": [
    "from pathlib import Path\n",
    "# Check if the file does not exist before downloading\n",
    "file_path = Path(\"wmap_ampl_bl_9yr_v5p1.tar.gz\")\n",
    "if not file_path.exists():\n",
    "    !wget https://lambda.gsfc.nasa.gov/data/map/dr5/ancillary/beams/wmap_ampl_bl_9yr_v5p1.tar.gz\n",
    "    !tar xzvf wmap_ampl_bl_9yr_v5p1.tar.gz"
   ]
  },
  {
   "cell_type": "code",
   "execution_count": null,
   "metadata": {},
   "outputs": [],
   "source": [
    "%ls *V1*"
   ]
  },
  {
   "cell_type": "code",
   "execution_count": null,
   "metadata": {},
   "outputs": [],
   "source": [
    "freq_bands = ['K', 'Ka', 'Q', 'V', 'W']"
   ]
  },
  {
   "cell_type": "code",
   "execution_count": null,
   "metadata": {},
   "outputs": [],
   "source": [
    "from pathlib import Path\n",
    "\n",
    "# Get all files matching the pattern\n",
    "files = Path('.').glob('wmap_ampl_bl*txt')\n",
    "\n",
    "# Extract channel names from filenames\n",
    "channels = [file.stem.split('_')[3] for file in files]\n",
    "\n",
    "print(channels)"
   ]
  },
  {
   "cell_type": "markdown",
   "metadata": {},
   "source": [
    "## Create the beam files"
   ]
  },
  {
   "cell_type": "code",
   "execution_count": null,
   "metadata": {},
   "outputs": [],
   "source": [
    "ls *V1*"
   ]
  },
  {
   "cell_type": "code",
   "execution_count": null,
   "metadata": {},
   "outputs": [],
   "source": [
    "!head -n 10 wmap_ampl_bl_V1_9yr_v5p1.txt"
   ]
  },
  {
   "cell_type": "code",
   "execution_count": null,
   "metadata": {
    "tags": []
   },
   "outputs": [],
   "source": [
    "from astropy.table import QTable\n",
    "\n",
    "beam = {}\n",
    "for ch in channels:\n",
    "    wmap_data = np.loadtxt(f'wmap_ampl_bl_{ch}_9yr_v5p1.txt')\n",
    "    beam[ch] = QTable(data=[wmap_data[:, 0], wmap_data[:, 1]], names=[\"ell\", \"B\"])\n",
    "    beam[ch][\"B\"] /= np.max(beam[ch][\"B\"])\n",
    "    beam[ch].meta[\"comments\"] = ipac_warning\n",
    "    beam[ch].write(f\"beam_{ch}.tbl\", format=\"ascii.ipac\", overwrite=True)"
   ]
  },
  {
   "cell_type": "code",
   "execution_count": null,
   "metadata": {},
   "outputs": [],
   "source": [
    "for freq_band in freq_bands:\n",
    "    plt.figure()\n",
    "    plt.title(f\"Beam for {freq_band} band (Log-Log)\")\n",
    "    for ch in channels:\n",
    "        if ch.startswith(freq_band):\n",
    "            if freq_band == \"K\" and ch[1] == \"a\":\n",
    "                continue\n",
    "            beam_data = beam[ch]\n",
    "            plt.loglog(beam_data[\"ell\"], beam_data[\"B\"], label=f\"{ch}\")\n",
    "    plt.legend()\n",
    "    plt.grid()\n",
    "    plt.xlabel(\"Multipole moment (ell)\")\n",
    "    plt.ylabel(\"Beam response (B)\")\n",
    "    plt.show()\n"
   ]
  },
  {
   "cell_type": "markdown",
   "metadata": {},
   "source": [
    "## Create bandpass files"
   ]
  },
  {
   "cell_type": "code",
   "execution_count": null,
   "metadata": {},
   "outputs": [],
   "source": [
    "from pathlib import Path\n",
    "\n",
    "# Define the file path\n",
    "file_path = Path(\"wmap_bandpass_v5.tar.gz\")\n",
    "\n",
    "# Check if the file does not exist before downloading\n",
    "if not file_path.exists():\n",
    "    !wget https://lambda.gsfc.nasa.gov/data/map/dr5/ancillary/response/wmap_bandpass_v5.tar.gz\n",
    "    !tar xzvf wmap_bandpass_v5.tar.gz"
   ]
  },
  {
   "cell_type": "code",
   "execution_count": null,
   "metadata": {},
   "outputs": [],
   "source": [
    "# List all files matching the pattern\n",
    "bandpass_files = list(Path('.').glob('wmap_bandpass_*.cbp'))\n",
    "\n",
    "# Extract the V21 part from the filenames\n",
    "bandpass_channels = [file.stem.split('_')[2] for file in bandpass_files]\n",
    "\n",
    "print(bandpass_channels)"
   ]
  },
  {
   "cell_type": "code",
   "execution_count": null,
   "metadata": {},
   "outputs": [],
   "source": [
    "!head -n 20 wmap_bandpass_V22_v5.cbp"
   ]
  },
  {
   "cell_type": "code",
   "execution_count": null,
   "metadata": {},
   "outputs": [],
   "source": [
    "# Load the data from the file\n",
    "bandpass_data = np.loadtxt('wmap_bandpass_V21_v5.cbp')\n",
    "\n",
    "# Display the first few rows of the data\n",
    "print(bandpass_data[:5])"
   ]
  },
  {
   "cell_type": "code",
   "execution_count": null,
   "metadata": {},
   "outputs": [],
   "source": [
    "bandpass_data.shape"
   ]
  },
  {
   "cell_type": "code",
   "execution_count": null,
   "metadata": {},
   "outputs": [],
   "source": [
    "for freq_band in freq_bands:\n",
    "    plt.figure()\n",
    "    plt.title(f\"Bandpass for {freq_band} band (Linear)\")\n",
    "    for ch in bandpass_channels:\n",
    "        if ch.startswith(freq_band):\n",
    "            if freq_band == \"K\" and ch[1] == \"a\":\n",
    "                continue\n",
    "            bandpass_data = np.loadtxt(f'wmap_bandpass_{ch}_v5.cbp')\n",
    "\n",
    "            # plot bandpass_data[:,1] and 2 against 0\n",
    "            plt.plot(bandpass_data[:, 0], bandpass_data[:, 1], label=f\"{ch} 1\")\n",
    "            plt.plot(bandpass_data[:, 0], bandpass_data[:, 2], label=f\"{ch} 2\")\n",
    "    plt.legend()\n",
    "    plt.grid()\n",
    "    plt.xlabel(\"Frequency (GHz)\")\n",
    "    plt.ylabel(\"Bandpass\")\n",
    "    plt.show()\n",
    "\n",
    "    plt.figure()\n",
    "    plt.title(f\"Bandpass for {freq_band} band (Semilog)\")\n",
    "    for ch in bandpass_channels:\n",
    "        if ch.startswith(freq_band):\n",
    "            if freq_band == \"K\" and ch[1] == \"a\":\n",
    "                continue\n",
    "            bandpass_data = np.loadtxt(f'wmap_bandpass_{ch}_v5.cbp')\n",
    "\n",
    "            # plot bandpass_data[:,1] and 2 against 0\n",
    "            plt.semilogy(bandpass_data[:, 0], bandpass_data[:, 1], label=f\"{ch} 1\")\n",
    "            plt.semilogy(bandpass_data[:, 0], bandpass_data[:, 2], label=f\"{ch} 2\")\n",
    "    plt.legend()\n",
    "    plt.grid()\n",
    "    plt.xlabel(\"Frequency (GHz)\")\n",
    "    plt.ylabel(\"Bandpass\")\n",
    "    plt.show()"
   ]
  }
 ],
 "metadata": {
  "kernelspec": {
   "display_name": "pysm2",
   "language": "python",
   "name": "python3"
  },
  "language_info": {
   "codemirror_mode": {
    "name": "ipython",
    "version": 3
   },
   "file_extension": ".py",
   "mimetype": "text/x-python",
   "name": "python",
   "nbconvert_exporter": "python",
   "pygments_lexer": "ipython3",
   "version": "3.11.2"
  }
 },
 "nbformat": 4,
 "nbformat_minor": 4
}
