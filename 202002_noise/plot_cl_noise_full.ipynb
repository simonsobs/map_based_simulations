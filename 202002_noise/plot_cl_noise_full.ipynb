{
 "cells": [
  {
   "cell_type": "code",
   "execution_count": null,
   "metadata": {},
   "outputs": [],
   "source": [
    "import healpy as hp"
   ]
  },
  {
   "cell_type": "code",
   "execution_count": null,
   "metadata": {},
   "outputs": [],
   "source": [
    "ls *.pkl"
   ]
  },
  {
   "cell_type": "code",
   "execution_count": null,
   "metadata": {},
   "outputs": [],
   "source": [
    "%matplotlib inline"
   ]
  },
  {
   "cell_type": "code",
   "execution_count": null,
   "metadata": {},
   "outputs": [],
   "source": [
    "import pickle"
   ]
  },
  {
   "cell_type": "code",
   "execution_count": null,
   "metadata": {},
   "outputs": [],
   "source": [
    "cl = {}\n",
    "for i_tube in range(7):\n",
    "    with open(f\"N_ell_tube_LT{i_tube}.pkl\", \"rb\") as f:\n",
    "        cl[i_tube] = pickle.load(f)"
   ]
  },
  {
   "cell_type": "code",
   "execution_count": null,
   "metadata": {},
   "outputs": [],
   "source": [
    "from so_models_v3 import SO_Noise_Calculator_Public_v3_1_1 as so_models\n",
    "\n",
    "import matplotlib\n",
    "matplotlib.rc('text', usetex=True)\n",
    "fontProperties = {\n",
    "                  'weight' : 'normal', 'size' : 16}\n",
    "import matplotlib.pyplot as plt\n",
    "\n",
    "####################################################################\n",
    "####################################################################\n",
    "##                   demonstration of the code\n",
    "####################################################################\n",
    "\n",
    "mode=1 # baseline\n",
    "fsky=1\n",
    "ellmax=1e4\n",
    "el=50.\n",
    "\n",
    "dset_label = 'LAT\\\\_V3.1'\n",
    "lat = so_models.SOLatV3point1(mode, el=el, survey_efficiency=.2)\n",
    "corr_pairs = [(0,1),(2,3),(4,5)]\n",
    "\n",
    "print(dset_label)\n",
    "bands = lat.get_bands()\n",
    "print(\"band centers: \", lat.get_bands(), \"[GHz]\")\n",
    "print(\"beam sizes: \"  , lat.get_beams(), \"[arcmin]\")\n",
    "N_bands = len(bands)\n",
    "\n",
    "ell, N_ell_LA_T_full,N_ell_LA_P_full = lat.get_noise_curves(\n",
    "    fsky, ellmax, 1, full_covar=True, deconv_beam=False, rolloff_ell=50)\n",
    "\n",
    "WN_levels = lat.get_white_noise(fsky)**.5\n",
    "\n",
    "N_ell_LA_T  = N_ell_LA_T_full[range(N_bands),range(N_bands)]\n",
    "N_ell_LA_Tx = [N_ell_LA_T_full[i,j] for i,j in corr_pairs]\n",
    "N_ell_LA_P  = N_ell_LA_P_full[range(N_bands),range(N_bands)]\n",
    "N_ell_LA_Px = [N_ell_LA_P_full[i,j] for i,j in corr_pairs]\n",
    "\n",
    "print(\"white noise levels: \"  , WN_levels, \"[uK-arcmin]\")\n"
   ]
  },
  {
   "cell_type": "code",
   "execution_count": null,
   "metadata": {},
   "outputs": [],
   "source": [
    "import matplotlib.pyplot as plt"
   ]
  },
  {
   "cell_type": "code",
   "execution_count": null,
   "metadata": {},
   "outputs": [],
   "source": [
    "import mapsims"
   ]
  },
  {
   "cell_type": "code",
   "execution_count": null,
   "metadata": {},
   "outputs": [],
   "source": [
    "from glob import glob"
   ]
  },
  {
   "cell_type": "code",
   "execution_count": null,
   "metadata": {},
   "outputs": [],
   "source": [
    "import matplotlib\n",
    "matplotlib.rc('text', usetex=False)\n",
    "fontProperties = {'family':'sans-serif',\n",
    "                  'weight' : 'normal', 'size' : 16}"
   ]
  },
  {
   "cell_type": "code",
   "execution_count": null,
   "metadata": {},
   "outputs": [],
   "source": [
    "import pickle"
   ]
  },
  {
   "cell_type": "code",
   "execution_count": null,
   "metadata": {},
   "outputs": [],
   "source": [
    "%matplotlib inline"
   ]
  },
  {
   "cell_type": "code",
   "execution_count": null,
   "metadata": {},
   "outputs": [],
   "source": [
    "fig, ax = plt.subplots(nrows=7, ncols=3, sharey=True, figsize=(20, 5*7))\n",
    "pol = 0\n",
    "for i_tube, (tube, chs) in enumerate(mapsims.so_utils.tubes.items()):\n",
    "    if tube.startswith(\"L\"):\n",
    "    \n",
    "        m = {}\n",
    "        for i, ch in enumerate(chs):\n",
    "            len_cl = len(cl[i_tube][i])\n",
    "            pixwin = hp.pixwin(8192 if len_cl>10000 else (len_cl)/3, lmax=len_cl-1)\n",
    "            freq = mapsims.so_utils.parse_channels(\"LA_\"+ch)[0].center_frequency.value\n",
    "            ax[i_tube][i].loglog(ell, N_ell_LA_T[bands.searchsorted(freq)])\n",
    "            ax[i_tube][i].loglog(cl[i_tube][i][pol])\n",
    "\n",
    "            ax[i_tube][i].set_ylim(1e-5,5e4)\n",
    "            ax[i_tube][i].set_title(tube + \": \" + ch, fontsize=16)\n",
    "            \n",
    "            ax[i_tube][i].set_ylabel(r\"N_ell [muK^2]\", fontsize=16)\n",
    "        ax[i_tube][2].loglog(ell, N_ell_LA_Tx[int(bands.searchsorted(freq)/2)])\n",
    "        ax[i_tube][2].loglog(cl[i_tube][2][pol])\n",
    "        ax[i_tube][2].set_ylim(1e-5,5e4)\n",
    "\n",
    "        ax[i_tube][2].set_title(tube + \": \" + chs[0] + \" x \" + chs[1], fontsize=16)\n",
    "            \n",
    "        ax[i_tube][2].set_ylabel(r\"N_ell [muK^2]\", fontsize=16)\n",
    "plt.savefig(\"LAT_T.png\")"
   ]
  },
  {
   "cell_type": "code",
   "execution_count": null,
   "metadata": {},
   "outputs": [],
   "source": [
    "fig, ax = plt.subplots(nrows=7, ncols=3, sharey=True, figsize=(20, 5*7))\n",
    "ylim = (1e-6, 1e-1)\n",
    "for i_tube, (tube, chs) in enumerate(mapsims.so_utils.tubes.items()):\n",
    "    if tube.startswith(\"L\"):\n",
    "    \n",
    "        m = {}\n",
    "        for i, ch in enumerate(chs):\n",
    "            freq = mapsims.so_utils.parse_channels(\"LA_\"+ch)[0].center_frequency.value\n",
    "            ax[i_tube][i].loglog(ell, N_ell_LA_P[bands.searchsorted(freq)])\n",
    "            ax[i_tube][i].set_ylabel(r\"N_ell [muK^2]\", fontsize=16)\n",
    "        ax[i_tube][2].loglog(ell, N_ell_LA_Px[int(bands.searchsorted(freq)/2)])\n",
    "        for pol in [1,2]:\n",
    "            for i, ch in enumerate(chs):\n",
    "                len_cl = len(cl[i_tube][i])\n",
    "                pixwin = hp.pixwin(8192 if len_cl>10000 else (len_cl)/3, lmax=len_cl-1)\n",
    "                ax[i_tube][i].loglog(cl[i_tube][i][pol])\n",
    "\n",
    "                ax[i_tube][i].set_ylim(*ylim)\n",
    "                ax[i_tube][i].set_title(tube + \": \" + ch, fontsize=16)\n",
    "\n",
    "            ax[i_tube][2].loglog(cl[i_tube][2][pol])\n",
    "            ax[i_tube][2].set_ylim(*ylim)\n",
    "        \n",
    "\n",
    "\n",
    "        ax[i_tube][2].set_title(tube + \": \" + chs[0] + \" x \" + chs[1], fontsize=16)\n",
    "             \n",
    "        ax[i_tube][2].set_ylabel(r\"N_ell [muK^2]\", fontsize=16)\n",
    "plt.savefig(\"LAT_P.png\")"
   ]
  },
  {
   "cell_type": "code",
   "execution_count": null,
   "metadata": {},
   "outputs": [],
   "source": []
  }
 ],
 "metadata": {
  "kernelspec": {
   "display_name": "Python 3",
   "language": "python",
   "name": "python3"
  },
  "language_info": {
   "codemirror_mode": {
    "name": "ipython",
    "version": 3
   },
   "file_extension": ".py",
   "mimetype": "text/x-python",
   "name": "python",
   "nbconvert_exporter": "python",
   "pygments_lexer": "ipython3",
   "version": "3.7.3"
  }
 },
 "nbformat": 4,
 "nbformat_minor": 4
}
