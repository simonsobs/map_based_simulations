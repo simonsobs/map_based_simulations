{
 "cells": [
  {
   "cell_type": "code",
   "execution_count": null,
   "metadata": {},
   "outputs": [],
   "source": [
    "import healpy as hp"
   ]
  },
  {
   "cell_type": "code",
   "execution_count": null,
   "metadata": {},
   "outputs": [],
   "source": [
    "%matplotlib inline"
   ]
  },
  {
   "cell_type": "code",
   "execution_count": null,
   "metadata": {},
   "outputs": [],
   "source": [
    "import pickle\n",
    "import mapsims"
   ]
  },
  {
   "cell_type": "code",
   "execution_count": null,
   "metadata": {},
   "outputs": [],
   "source": [
    "sim = mapsims.from_config([\"common.toml\", \"noise.toml\"], override={\"channels\":\"tube:LT0\"})\n",
    "\n",
    "noise = sim.other_components[\"noise\"]"
   ]
  },
  {
   "cell_type": "code",
   "execution_count": null,
   "metadata": {},
   "outputs": [],
   "source": [
    "cl = {}\n",
    "for i_tube in range(7):\n",
    "    with open(f\"output/noise/N_ell_tube_LT{i_tube}.pkl\", \"rb\") as f:\n",
    "        cl[i_tube] = pickle.load(f)"
   ]
  },
  {
   "cell_type": "code",
   "execution_count": null,
   "metadata": {},
   "outputs": [],
   "source": [
    "import matplotlib.pyplot as plt"
   ]
  },
  {
   "cell_type": "code",
   "execution_count": null,
   "metadata": {},
   "outputs": [],
   "source": [
    "import mapsims"
   ]
  },
  {
   "cell_type": "code",
   "execution_count": null,
   "metadata": {},
   "outputs": [],
   "source": [
    "from glob import glob"
   ]
  },
  {
   "cell_type": "code",
   "execution_count": null,
   "metadata": {},
   "outputs": [],
   "source": [
    "import matplotlib\n",
    "matplotlib.rc('text', usetex=False)\n",
    "fontProperties = {'family':'sans-serif',\n",
    "                  'weight' : 'normal', 'size' : 16}"
   ]
  },
  {
   "cell_type": "code",
   "execution_count": null,
   "metadata": {},
   "outputs": [],
   "source": [
    "import pickle"
   ]
  },
  {
   "cell_type": "code",
   "execution_count": null,
   "metadata": {},
   "outputs": [],
   "source": [
    "%matplotlib inline"
   ]
  },
  {
   "cell_type": "code",
   "execution_count": null,
   "metadata": {},
   "outputs": [],
   "source": [
    "fig, ax = plt.subplots(nrows=7, ncols=3,sharey=True, figsize=(20, 5*7))\n",
    "pol = 0\n",
    "i_tube = 0\n",
    "for (tube, chs) in noise.tubes.items():\n",
    "    ell, ps_T, ps_P = noise.get_fullsky_noise_spectra(tube=tube)\n",
    "    if tube.startswith(\"L\"):\n",
    "    \n",
    "        m = {}\n",
    "        for i, ch in enumerate(chs):\n",
    "            len_cl = len(cl[i_tube][i])\n",
    "            pixwin = hp.pixwin(8192 if len_cl>10000 else (len_cl)/3, lmax=len_cl-1)\n",
    "            ax[i_tube][i].loglog(ell, ps_T[i])\n",
    "            ax[i_tube][i].loglog(cl[i_tube][i][pol])\n",
    "\n",
    "            ax[i_tube][i].set_ylim(1e-5,5e4)\n",
    "            ax[i_tube][i].set_title(ch.tag, fontsize=16)\n",
    "            \n",
    "            ax[i_tube][i].set_ylabel(r\"N_ell [muK^2]\", fontsize=16)\n",
    "        ax[i_tube][2].loglog(ell, ps_T[2])\n",
    "        ax[i_tube][2].loglog(cl[i_tube][2][pol])\n",
    "        ax[i_tube][2].set_ylim(1e-5,5e4)\n",
    "\n",
    "        ax[i_tube][2].set_title(tube + \": \" + chs[0].band + \" x \" + chs[1].band, fontsize=16)\n",
    "            \n",
    "        ax[i_tube][2].set_ylabel(r\"N_ell [muK^2]\", fontsize=16)\n",
    "        for each in ax[i_tube]:\n",
    "            each.grid()\n",
    "        i_tube += 1\n",
    "        \n",
    "plt.savefig(\"LAT_T.png\")"
   ]
  },
  {
   "cell_type": "code",
   "execution_count": null,
   "metadata": {},
   "outputs": [],
   "source": [
    "fig, ax = plt.subplots(nrows=7, ncols=3,sharey=True, figsize=(20, 5*7))\n",
    "pol = 0\n",
    "i_tube = 0\n",
    "ylim = (1e-6, 1e-1)\n",
    "\n",
    "for (tube, chs) in noise.tubes.items():\n",
    "    ell, ps_T, ps_P = noise.get_fullsky_noise_spectra(tube=tube)\n",
    "    if tube.startswith(\"L\"):\n",
    "    \n",
    "        m = {}\n",
    "        for pol in [1,2]:\n",
    "            for i, ch in enumerate(chs):\n",
    "                len_cl = len(cl[i_tube][i])\n",
    "                pixwin = hp.pixwin(8192 if len_cl>10000 else (len_cl)/3, lmax=len_cl-1)\n",
    "                if pol == 1:\n",
    "                    ax[i_tube][i].loglog(ell, ps_P[i])\n",
    "\n",
    "                ax[i_tube][i].loglog(cl[i_tube][i][pol])\n",
    "\n",
    "                ax[i_tube][i].set_ylim(*ylim)\n",
    "                ax[i_tube][i].set_title(ch.tag, fontsize=16)\n",
    "\n",
    "                ax[i_tube][i].set_ylabel(r\"N_ell [muK^2]\", fontsize=16)\n",
    "            if pol == 1:\n",
    "                ax[i_tube][2].loglog(ell, ps_P[2])\n",
    "\n",
    "            ax[i_tube][2].loglog(cl[i_tube][2][pol])\n",
    "        ax[i_tube][2].set_ylim(*ylim)\n",
    "\n",
    "        ax[i_tube][2].set_title(tube + \": \" + chs[0].band + \" x \" + chs[1].band, fontsize=16)\n",
    "            \n",
    "        ax[i_tube][2].set_ylabel(r\"N_ell [muK^2]\", fontsize=16)\n",
    "        for each in ax[i_tube]:\n",
    "            each.grid()\n",
    "        i_tube += 1\n",
    "        \n",
    "plt.savefig(\"LAT_P.png\")"
   ]
  },
  {
   "cell_type": "code",
   "execution_count": null,
   "metadata": {},
   "outputs": [],
   "source": []
  }
 ],
 "metadata": {
  "kernelspec": {
   "display_name": "pysm3",
   "language": "python",
   "name": "pysm3"
  },
  "language_info": {
   "codemirror_mode": {
    "name": "ipython",
    "version": 3
   },
   "file_extension": ".py",
   "mimetype": "text/x-python",
   "name": "python",
   "nbconvert_exporter": "python",
   "pygments_lexer": "ipython3",
   "version": "3.7.7"
  }
 },
 "nbformat": 4,
 "nbformat_minor": 4
}
