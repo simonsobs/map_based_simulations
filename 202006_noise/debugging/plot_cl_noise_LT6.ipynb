{
 "cells": [
  {
   "cell_type": "code",
   "execution_count": null,
   "metadata": {},
   "outputs": [],
   "source": [
    "import healpy as hp\n",
    "import mapsims\n",
    "from glob import glob\n",
    "import numpy as np\n",
    "from collections import defaultdict"
   ]
  },
  {
   "cell_type": "code",
   "execution_count": null,
   "metadata": {},
   "outputs": [],
   "source": [
    "%matplotlib inline"
   ]
  },
  {
   "cell_type": "code",
   "execution_count": null,
   "metadata": {},
   "outputs": [],
   "source": [
    "import pickle"
   ]
  },
  {
   "cell_type": "code",
   "execution_count": null,
   "metadata": {},
   "outputs": [],
   "source": [
    "sim = mapsims.from_config([\"common.toml\", \"noise.toml\"], override={\"channels\":\"tube:LT6\"})\n",
    "\n",
    "noise = sim.other_components[\"noise\"]"
   ]
  },
  {
   "cell_type": "code",
   "execution_count": null,
   "metadata": {},
   "outputs": [],
   "source": [
    "onthefly = sim.execute()"
   ]
  },
  {
   "cell_type": "code",
   "execution_count": null,
   "metadata": {},
   "outputs": [],
   "source": [
    "hitmaps = {}\n",
    "ave_hits = {}\n",
    "for i_tube in range(6, 7):\n",
    "    tube = f\"LT{i_tube}\"\n",
    "    chs = mapsims.parse_channels(\"tube:\"+tube)[0]\n",
    "    hitmaps[tube], ave_hits[tube] = noise.get_hitmaps(tube)\n",
    "#    hitmaps[tube] = hp.ud_grade(hitmaps[tube],\n",
    "#            mapsims.runner.get_default_so_resolution(chs))\n",
    "    \n",
    "    for ch, h in zip(chs, hitmaps[tube]):\n",
    "        h /= h.max()\n",
    "        #h[h<.01] = 0\n",
    "        #hp.mollview(h, title=ch.tag)"
   ]
  },
  {
   "cell_type": "code",
   "execution_count": null,
   "metadata": {},
   "outputs": [],
   "source": [
    "all_cl = {}\n",
    "sky_fractions = defaultdict(dict)\n",
    "for i_tube in range(6, 7):\n",
    "    tube = f\"LT{i_tube}\"\n",
    "    ellmax = int(1e4)\n",
    "    m = {}\n",
    "    cl = []\n",
    "    folder = \"output/noise/0000/\"\n",
    "    for i, ch in enumerate(mapsims.parse_channels(\"tube:\"+tube)[0]):\n",
    "        filename = glob(folder + f\"*{ch.tag}*1_of_1*\")[0]\n",
    "        print(\"reading \" + filename)\n",
    "        m[i] = hp.read_map(filename, (0,1,2))\n",
    "        \n",
    "        npix = len(m[i][0])\n",
    "        sky_fractions[tube][i]=hp.mask_good(m[i][1]).sum()/npix\n",
    "        m[i][m[i] == hp.UNSEEN] = 0\n",
    "\n",
    "        m[i] *= hitmaps[tube][i]\n",
    "        \n",
    "        hp.mollview(m[i][1], title=ch.tag)\n",
    "        nside = hp.npix2nside(npix)\n",
    "        cl.append(\n",
    "            np.array(\n",
    "                hp.anafast(m[i],\n",
    "                           lmax=min(3*nside-1,ellmax),\n",
    "                           use_pixel_weights=False)\n",
    "            ) / np.mean(hitmaps[tube][i]**2) / sky_fractions[tube][i])\n",
    "    cl = np.array(cl)\n",
    "    all_cl[tube] = cl\n",
    "cl = all_cl"
   ]
  },
  {
   "cell_type": "code",
   "execution_count": null,
   "metadata": {},
   "outputs": [],
   "source": [
    "import matplotlib.pyplot as plt"
   ]
  },
  {
   "cell_type": "code",
   "execution_count": null,
   "metadata": {},
   "outputs": [],
   "source": [
    "import mapsims"
   ]
  },
  {
   "cell_type": "code",
   "execution_count": null,
   "metadata": {},
   "outputs": [],
   "source": [
    "from glob import glob"
   ]
  },
  {
   "cell_type": "code",
   "execution_count": null,
   "metadata": {},
   "outputs": [],
   "source": [
    "import matplotlib\n",
    "matplotlib.rc('text', usetex=False)\n",
    "fontProperties = {'family':'sans-serif',\n",
    "                  'weight' : 'normal', 'size' : 16}"
   ]
  },
  {
   "cell_type": "code",
   "execution_count": null,
   "metadata": {},
   "outputs": [],
   "source": [
    "import pickle"
   ]
  },
  {
   "cell_type": "code",
   "execution_count": null,
   "metadata": {},
   "outputs": [],
   "source": [
    "%matplotlib inline"
   ]
  },
  {
   "cell_type": "code",
   "execution_count": null,
   "metadata": {},
   "outputs": [],
   "source": [
    "fig, ax = plt.subplots(nrows=4, ncols=2,sharey=True, figsize=(20/3*2, 5*4))\n",
    "pol = 0\n",
    "i_tube = 0\n",
    "for (tube, chs) in noise.tubes.items():\n",
    "    if tube.startswith(\"LT6\"):\n",
    "        ell, ps_T, ps_P = noise.get_fullsky_noise_spectra(tube=tube)\n",
    "\n",
    "        wn = noise.get_white_noise_power(tube, sky_fractions[tube][i])\n",
    "\n",
    "        m = {}\n",
    "        for i, ch in enumerate(chs):\n",
    "            len_cl = len(cl[tube][i])\n",
    "            ax[i_tube][i].loglog(ell, ps_T[i] * sky_fractions[tube][i], label=\"Expected T spectrum\")\n",
    "            ax[i_tube][i].loglog(cl[tube][i][pol], label=\"I\", alpha=.5)\n",
    "            ax[i_tube][i].hlines(wn[i], 100, ell[-1], label=\"White noise power\")\n",
    "\n",
    "            ax[i_tube][i].set_ylim(1e-8,1e1)\n",
    "            ax[i_tube][i].set_title(ch, fontsize=16)\n",
    "            \n",
    "            ax[i_tube][i].set_ylabel(r\"N_ell [muK^2]\", fontsize=16)\n",
    "            ax[i_tube][i].legend()\n",
    "            ax[i_tube][i].grid(True)\n",
    "        i_tube += 1\n",
    "        \n",
    "plt.savefig(\"plots/LT6_T.png\")"
   ]
  },
  {
   "cell_type": "code",
   "execution_count": null,
   "metadata": {},
   "outputs": [],
   "source": [
    "fig, ax = plt.subplots(nrows=2, ncols=2, sharey=True, figsize=(20/3*2, 5*4))\n",
    "ylim = (1e-7, 1e0)\n",
    "i_tube = 0\n",
    "pol_label = \"TQU\"\n",
    "for (tube, chs) in noise.tubes.items():\n",
    "    ell, ps_T, ps_P = noise.get_fullsky_noise_spectra(tube=tube)\n",
    "    if tube.startswith(\"LT6\"):\n",
    "\n",
    "        nside = hp.npix2nside(len(hitmaps[tube][0]))\n",
    "        pixarea = hp.nside2pixarea(nside)\n",
    "        wn = noise.get_white_noise_power(tube, sky_fractions[tube][i])\n",
    "        m = {}\n",
    "        for i, ch in enumerate(chs):\n",
    "            ax[i_tube][i].loglog(ell, ps_P[i] * sky_fractions[tube][i], label=\"Expected P spectrum\")\n",
    "            # noise power is double in polarization\n",
    "            ax[i_tube][i].hlines(wn[i]*2, 100, ell[-1], label=\"White noise power\")\n",
    "            ax[i_tube][i].set_ylabel(r\"N_ell [muK^2]\", fontsize=16)\n",
    "        for pol in [1,2]:\n",
    "            for i, ch in enumerate(chs):\n",
    "                len_cl = len(cl[tube][i])\n",
    "                ax[i_tube][i].loglog(cl[tube][i][pol], label=pol_label[pol], alpha=.5)\n",
    "\n",
    "                ax[i_tube][i].set_ylim(*ylim)\n",
    "                ax[i_tube][i].set_title(ch, fontsize=16)\n",
    "                ax[i_tube][i].legend()\n",
    "                ax[i_tube][i].grid(True)\n",
    "        i_tube += 1\n",
    "    \n",
    "    \n",
    "\n",
    "plt.savefig(\"plots/LT6_P.png\")"
   ]
  },
  {
   "cell_type": "code",
   "execution_count": null,
   "metadata": {},
   "outputs": [],
   "source": []
  }
 ],
 "metadata": {
  "kernelspec": {
   "display_name": "pysm3",
   "language": "python",
   "name": "pysm3"
  },
  "language_info": {
   "codemirror_mode": {
    "name": "ipython",
    "version": 3
   },
   "file_extension": ".py",
   "mimetype": "text/x-python",
   "name": "python",
   "nbconvert_exporter": "python",
   "pygments_lexer": "ipython3",
   "version": "3.7.7"
  }
 },
 "nbformat": 4,
 "nbformat_minor": 4
}
