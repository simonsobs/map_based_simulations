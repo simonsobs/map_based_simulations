{
 "cells": [
  {
   "cell_type": "code",
   "execution_count": null,
   "metadata": {},
   "outputs": [],
   "source": [
    "import healpy as hp\n",
    "import mapsims\n",
    "from glob import glob\n",
    "import numpy as np"
   ]
  },
  {
   "cell_type": "code",
   "execution_count": null,
   "metadata": {},
   "outputs": [],
   "source": [
    "%matplotlib inline"
   ]
  },
  {
   "cell_type": "code",
   "execution_count": null,
   "metadata": {},
   "outputs": [],
   "source": [
    "import pickle"
   ]
  },
  {
   "cell_type": "code",
   "execution_count": null,
   "metadata": {},
   "outputs": [],
   "source": [
    "sim = mapsims.from_config([\"common.toml\", \"noise.toml\"], override={\"channels\":\"tube:ST0\"})\n",
    "\n",
    "noise = sim.other_components[\"noise\"]"
   ]
  },
  {
   "cell_type": "code",
   "execution_count": null,
   "metadata": {},
   "outputs": [],
   "source": [
    "onthefly = sim.execute()"
   ]
  },
  {
   "cell_type": "code",
   "execution_count": null,
   "metadata": {},
   "outputs": [],
   "source": [
    "onthefly.keys()"
   ]
  },
  {
   "cell_type": "code",
   "execution_count": null,
   "metadata": {},
   "outputs": [],
   "source": [
    "hitmaps = {}\n",
    "sky_fractions = {}\n",
    "for i_tube in range(4):\n",
    "    tube = f\"ST{i_tube}\"\n",
    "    chs = mapsims.parse_channels(\"tube:\"+tube)[0]\n",
    "    hitmaps[tube], sky_fractions[tube] = noise.get_hitmaps(tube)\n",
    "    hitmaps[tube] = hp.ud_grade(hitmaps[tube],\n",
    "            mapsims.runner.get_default_so_resolution(chs))\n",
    "    \n",
    "    for ch, h in zip(chs, hitmaps[tube]):\n",
    "        h /= h.max()\n",
    "        #h[h<.01] = 0\n",
    "        #hp.mollview(h, title=ch.tag)"
   ]
  },
  {
   "cell_type": "code",
   "execution_count": null,
   "metadata": {},
   "outputs": [],
   "source": [
    "all_cl = {}\n",
    "for i_tube in [0]:\n",
    "    tube = f\"ST{i_tube}\"\n",
    "    ellmax = int(1e4)\n",
    "    m = {}\n",
    "    cl = []\n",
    "    folder = \"output/noise/0000/\"\n",
    "    for i, ch in enumerate(mapsims.parse_channels(\"tube:\"+tube)[0]):\n",
    "        filename = glob(folder + f\"*{ch.tag}*1_of_1*\")[0]\n",
    "        print(\"reading \" + filename)\n",
    "        m[i] = onthefly[ch.tag]\n",
    "        m[i][m[i] == hp.UNSEEN] = 0\n",
    "        \n",
    "        npix = len(m[i][0])\n",
    "        sky_fraction_before=hp.mask_good(m[i][1]).sum()/npix\n",
    "\n",
    "        m[i] *= hitmaps[tube][i]\n",
    "        \n",
    "        hp.mollview(m[i][1], title=ch.tag)\n",
    "        nside = hp.npix2nside(npix)\n",
    "        sky_fraction=hp.mask_good(m[i][1]).sum()/npix\n",
    "        print(\"Sky fraction loss due to additional masking {:.1%} {:.1%} {:.1%}\".format(\n",
    "            sky_fraction_before, sky_fraction, sky_fraction_before - sky_fraction))\n",
    "        cl.append(np.array(hp.anafast(m[i], lmax=min(3*nside-1,ellmax), use_pixel_weights=True)) / np.mean(hitmaps[tube][i]**2))\n",
    "    #cl.append(np.array(hp.anafast(m[0],m[1], lmax=min(3*nside-1,ellmax), use_pixel_weights=True)) / np.mean(hitmaps[tube][i]**2))\n",
    "    cl = np.array(cl)\n",
    "    all_cl[i_tube] = cl\n",
    "cl = all_cl"
   ]
  },
  {
   "cell_type": "code",
   "execution_count": null,
   "metadata": {},
   "outputs": [],
   "source": [
    "import matplotlib.pyplot as plt"
   ]
  },
  {
   "cell_type": "code",
   "execution_count": null,
   "metadata": {},
   "outputs": [],
   "source": [
    "import mapsims"
   ]
  },
  {
   "cell_type": "code",
   "execution_count": null,
   "metadata": {},
   "outputs": [],
   "source": [
    "from glob import glob"
   ]
  },
  {
   "cell_type": "code",
   "execution_count": null,
   "metadata": {},
   "outputs": [],
   "source": [
    "import matplotlib\n",
    "matplotlib.rc('text', usetex=False)\n",
    "fontProperties = {'family':'sans-serif',\n",
    "                  'weight' : 'normal', 'size' : 16}"
   ]
  },
  {
   "cell_type": "code",
   "execution_count": null,
   "metadata": {},
   "outputs": [],
   "source": [
    "import pickle"
   ]
  },
  {
   "cell_type": "code",
   "execution_count": null,
   "metadata": {},
   "outputs": [],
   "source": [
    "%matplotlib inline"
   ]
  },
  {
   "cell_type": "code",
   "execution_count": null,
   "metadata": {},
   "outputs": [],
   "source": [
    "ell, ps_T, ps_P = noise.get_fullsky_noise_spectra(tube=\"ST0\")"
   ]
  },
  {
   "cell_type": "code",
   "execution_count": null,
   "metadata": {},
   "outputs": [],
   "source": [
    "#m_onthefly = hp.synfast(ps_P[0] * sky_fractions[\"ST0\"][0], nside=1024)\n",
    "m_onthefly = hp.synfast(ps_P[0], nside=1024)"
   ]
  },
  {
   "cell_type": "code",
   "execution_count": null,
   "metadata": {},
   "outputs": [],
   "source": [
    "#m_onthefly /= np.sqrt(hitmaps[\"ST0\"][0])"
   ]
  },
  {
   "cell_type": "code",
   "execution_count": null,
   "metadata": {},
   "outputs": [],
   "source": [
    "#hitmaps[\"ST0\"][0][:] = 1\n",
    "npix = len(hitmaps[\"ST0\"][0])\n",
    "#hitmaps[\"ST0\"][0][npix//2-3500000:npix//2+3500000] = 0"
   ]
  },
  {
   "cell_type": "code",
   "execution_count": null,
   "metadata": {},
   "outputs": [],
   "source": [
    "m_onthefly[hitmaps[\"ST0\"][0] == 0] = hp.UNSEEN"
   ]
  },
  {
   "cell_type": "code",
   "execution_count": null,
   "metadata": {},
   "outputs": [],
   "source": []
  },
  {
   "cell_type": "code",
   "execution_count": null,
   "metadata": {},
   "outputs": [],
   "source": [
    "hp.mollview(hitmaps[\"ST0\"][0])"
   ]
  },
  {
   "cell_type": "code",
   "execution_count": null,
   "metadata": {},
   "outputs": [],
   "source": [
    "hp.mollview(m_onthefly) "
   ]
  },
  {
   "cell_type": "code",
   "execution_count": null,
   "metadata": {},
   "outputs": [],
   "source": [
    "m_onthefly *= hitmaps[\"ST0\"][0]"
   ]
  },
  {
   "cell_type": "code",
   "execution_count": null,
   "metadata": {},
   "outputs": [],
   "source": [
    "fsky = np.mean((hitmaps[\"ST0\"][0]!=0)**2)"
   ]
  },
  {
   "cell_type": "code",
   "execution_count": null,
   "metadata": {},
   "outputs": [],
   "source": [
    "(hitmaps[\"ST0\"][0]!=0).sum() / len(hitmaps[\"ST0\"][0])"
   ]
  },
  {
   "cell_type": "code",
   "execution_count": null,
   "metadata": {},
   "outputs": [],
   "source": [
    "fsky"
   ]
  },
  {
   "cell_type": "code",
   "execution_count": null,
   "metadata": {},
   "outputs": [],
   "source": [
    "cl_onthefly = hp.anafast(m_onthefly) / np.mean(hitmaps[\"ST0\"][0]**2)"
   ]
  },
  {
   "cell_type": "code",
   "execution_count": null,
   "metadata": {},
   "outputs": [],
   "source": [
    "fig, ax = plt.subplots(nrows=2, ncols=2, sharey=True, figsize=(20/3*2, 5*2))\n",
    "ylim = (1e-7, 1e-2)\n",
    "i_tube = 0\n",
    "for (tube, chs) in [(\"ST0\",noise.tubes[\"ST0\"])]:\n",
    "    ell, ps_T, ps_P = noise.get_fullsky_noise_spectra(tube=tube)\n",
    "\n",
    "    if tube.startswith(\"S\"):\n",
    "    \n",
    "        m = {}\n",
    "        for i, ch in enumerate(chs):\n",
    "            ax[i_tube][i].loglog(ell, ps_P[i])\n",
    "            ax[i_tube][i].set_ylabel(r\"N_ell [muK^2]\", fontsize=16)\n",
    "        for pol in [1,2]:\n",
    "            for i, ch in enumerate(chs):\n",
    "                len_cl = len(cl[i_tube][i])\n",
    "                #ax[i_tube][i].loglog(cl[i_tube][i][pol])\n",
    "                ax[i_tube][i].loglog(cl_onthefly)\n",
    "\n",
    "                ax[i_tube][i].set_ylim(*ylim)\n",
    "                ax[i_tube][i].set_title(ch, fontsize=16)\n",
    "                \n",
    "        i_tube += 1"
   ]
  },
  {
   "cell_type": "code",
   "execution_count": null,
   "metadata": {},
   "outputs": [],
   "source": []
  }
 ],
 "metadata": {
  "kernelspec": {
   "display_name": "pysm3",
   "language": "python",
   "name": "pysm3"
  },
  "language_info": {
   "codemirror_mode": {
    "name": "ipython",
    "version": 3
   },
   "file_extension": ".py",
   "mimetype": "text/x-python",
   "name": "python",
   "nbconvert_exporter": "python",
   "pygments_lexer": "ipython3",
   "version": "3.7.7"
  }
 },
 "nbformat": 4,
 "nbformat_minor": 4
}
