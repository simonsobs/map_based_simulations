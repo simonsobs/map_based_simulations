{
 "cells": [
  {
   "cell_type": "code",
   "execution_count": null,
   "metadata": {},
   "outputs": [],
   "source": [
    "import healpy as hp"
   ]
  },
  {
   "cell_type": "code",
   "execution_count": null,
   "metadata": {},
   "outputs": [],
   "source": [
    "cd output/0000"
   ]
  },
  {
   "cell_type": "code",
   "execution_count": null,
   "metadata": {},
   "outputs": [],
   "source": [
    "m = hp.read_map(\"simonsobs_noise_uKCMB_ST0_UHF1_nside1024_0000_1_of_1.fits\", (0,1,2))"
   ]
  },
  {
   "cell_type": "code",
   "execution_count": null,
   "metadata": {},
   "outputs": [],
   "source": [
    "%matplotlib inline"
   ]
  },
  {
   "cell_type": "code",
   "execution_count": null,
   "metadata": {},
   "outputs": [],
   "source": [
    "hp.mollview(m[0], min=-100,max=100)"
   ]
  },
  {
   "cell_type": "code",
   "execution_count": null,
   "metadata": {},
   "outputs": [],
   "source": [
    "from so_models_v3 import SO_Noise_Calculator_Public_v3_1_1 as so_models\n",
    "\n",
    "import matplotlib\n",
    "matplotlib.rc('text', usetex=False)\n",
    "fontProperties = {\n",
    "                  'weight' : 'normal', 'size' : 16}\n",
    "import matplotlib.pyplot as plt\n",
    "\n",
    "####################################################################\n",
    "####################################################################\n",
    "##                   demonstration of the code\n",
    "####################################################################\n",
    "\n",
    "mode=1 # baseline\n",
    "fsky=1\n",
    "ellmax=1e4\n",
    "el=None\n",
    "\n",
    "dset_label = 'LAT\\\\_V3.1'\n",
    "lat = so_models.SOSatV3point1(mode, el=el )\n",
    "\n",
    "print(dset_label)\n",
    "bands = lat.get_bands()\n",
    "print(\"band centers: \", lat.get_bands(), \"[GHz]\")\n",
    "print(\"beam sizes: \"  , lat.get_beams(), \"[arcmin]\")\n",
    "N_bands = len(bands)\n",
    "\n",
    "ell, N_ell_LA_T_full,N_ell_LA_P_full = lat.get_noise_curves(\n",
    "    fsky, ellmax, 1, full_covar=False, deconv_beam=False, rolloff_ell=50)\n",
    "\n",
    "WN_levels = lat.get_white_noise(fsky)**.5\n",
    "\n",
    "N_ell_LA_T  = N_ell_LA_P_full / 2\n",
    "N_ell_LA_P  = N_ell_LA_P_full\n",
    "\n",
    "print(\"white noise levels: \"  , WN_levels, \"[uK-arcmin]\")\n"
   ]
  },
  {
   "cell_type": "code",
   "execution_count": null,
   "metadata": {},
   "outputs": [],
   "source": [
    "npix = len(m[0])\n",
    "nside = hp.npix2nside(npix)\n",
    "sky_fraction=(m[0]>-1e30).sum()/npix"
   ]
  },
  {
   "cell_type": "code",
   "execution_count": null,
   "metadata": {},
   "outputs": [],
   "source": [
    "sky_fraction"
   ]
  },
  {
   "cell_type": "code",
   "execution_count": null,
   "metadata": {},
   "outputs": [],
   "source": [
    "from mapsims import SONoiseSimulator, SOChannel\n",
    "sim = SONoiseSimulator(telescopes=[\"SA\"], nside=1024, scanning_strategy=\"classical\", num=134,\n",
    "                       rolloff_ell=50, hitmap_version=\"v0.2\", full_covariance=True,\n",
    "                       SA_number_LF=0.4, SA_number_MF=1.6, SA_number_UHF=1,\n",
    "                       apply_beam_correction=False)"
   ]
  },
  {
   "cell_type": "code",
   "execution_count": null,
   "metadata": {},
   "outputs": [],
   "source": [
    "m = sim.simulate(tube=\"ST0\")"
   ]
  },
  {
   "cell_type": "code",
   "execution_count": null,
   "metadata": {},
   "outputs": [],
   "source": [
    "cl = hp.anafast(m[0], use_pixel_weights=True, lmax=1024)# / sky_fraction"
   ]
  },
  {
   "cell_type": "code",
   "execution_count": null,
   "metadata": {},
   "outputs": [],
   "source": [
    "import mapsims\n",
    "from astropy import units as u"
   ]
  },
  {
   "cell_type": "code",
   "execution_count": null,
   "metadata": {},
   "outputs": [],
   "source": [
    "bands"
   ]
  },
  {
   "cell_type": "code",
   "execution_count": null,
   "metadata": {},
   "outputs": [],
   "source": [
    "mapsims.SONoiseSimulator"
   ]
  },
  {
   "cell_type": "code",
   "execution_count": null,
   "metadata": {},
   "outputs": [],
   "source": [
    "ylim = (1e-6, 1e-1)\n",
    "i_tube = 0\n",
    "for (tube, chs) in [(\"STO\", [\"UHF1\"])]:\n",
    "    if tube.startswith(\"S\"):\n",
    "    \n",
    "        for i, ch in enumerate(chs):\n",
    "            freq = mapsims.so_utils.parse_channels(\"SA_\"+ch)[0].center_frequency.value\n",
    "            plt.loglog(ell, N_ell_LA_P[bands.searchsorted(freq)])\n",
    "            plt.ylabel(r\"N_ell [muK^2]\", fontsize=16)\n",
    "        for pol in [1,2]:\n",
    "            for i, ch in enumerate(chs):\n",
    "                len_cl = len(cl)\n",
    "                pixwin = hp.pixwin(8192 if len_cl>10000 else (len_cl)/3, lmax=len_cl-1)\n",
    "                plt.loglog(cl[pol])\n",
    "\n",
    "                plt.ylim(*ylim)\n",
    "                plt.title(tube + \": \" + ch, fontsize=16)\n",
    "        i_tube += 1"
   ]
  },
  {
   "cell_type": "code",
   "execution_count": null,
   "metadata": {},
   "outputs": [],
   "source": []
  },
  {
   "cell_type": "code",
   "execution_count": null,
   "metadata": {},
   "outputs": [],
   "source": []
  }
 ],
 "metadata": {
  "kernelspec": {
   "display_name": "Python 3",
   "language": "python",
   "name": "python3"
  },
  "language_info": {
   "codemirror_mode": {
    "name": "ipython",
    "version": 3
   },
   "file_extension": ".py",
   "mimetype": "text/x-python",
   "name": "python",
   "nbconvert_exporter": "python",
   "pygments_lexer": "ipython3",
   "version": "3.7.3"
  }
 },
 "nbformat": 4,
 "nbformat_minor": 2
}
