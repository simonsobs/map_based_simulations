{
 "cells": [
  {
   "cell_type": "code",
   "execution_count": null,
   "id": "b0dfc691-69f2-489b-aa77-80e421f62194",
   "metadata": {
    "tags": []
   },
   "outputs": [],
   "source": [
    "import healpy as hp\n",
    "from pysm3 import units as u"
   ]
  },
  {
   "cell_type": "code",
   "execution_count": null,
   "id": "9a98a13d-fee3-4c80-b00a-4e60c719d5d8",
   "metadata": {
    "tags": []
   },
   "outputs": [],
   "source": [
    "m=hp.read_map(\"co_low_230.fits\") * u.uK_CMB"
   ]
  },
  {
   "cell_type": "code",
   "execution_count": null,
   "id": "71295e14-b224-44b2-8691-9225613fd6e0",
   "metadata": {
    "tags": []
   },
   "outputs": [],
   "source": [
    "from astropy.io import fits"
   ]
  },
  {
   "cell_type": "code",
   "execution_count": null,
   "id": "2f33e698-e9c1-4248-b9e0-4bffecf40491",
   "metadata": {
    "tags": []
   },
   "outputs": [],
   "source": [
    "hp.mollview(m, min=0, max=10, title=\"CO low complexity\")"
   ]
  },
  {
   "cell_type": "code",
   "execution_count": null,
   "id": "34679404-47ef-4d33-a10f-f77bc887ac88",
   "metadata": {
    "tags": []
   },
   "outputs": [],
   "source": [
    "hp.mollview(hp.read_map(\"co_230.fits\") * u.uK_CMB, min=0, max=10, title=\"CO medium complexity\", unit=\"uK_CMB\")"
   ]
  },
  {
   "cell_type": "code",
   "execution_count": null,
   "id": "dc319ceb-610c-45bc-8564-becda1acb15c",
   "metadata": {
    "tags": []
   },
   "outputs": [],
   "source": [
    "co_input = fits.open(\"/mnt/home/azonca/s/pysm-data/co/HFI_CompMap_CO-Type1_512_R2.00_ring.fits\")"
   ]
  },
  {
   "cell_type": "code",
   "execution_count": null,
   "id": "8edeeda6-20f3-462a-8966-1ad43e78d3ea",
   "metadata": {
    "tags": []
   },
   "outputs": [],
   "source": [
    "co_line_230_input =( hp.read_map(\"/mnt/home/azonca/s/pysm-data/co/HFI_CompMap_CO-Type1_2048_R2.00_ring.fits\", 1) * u.K_CMB).to(u.uK_CMB)"
   ]
  },
  {
   "cell_type": "code",
   "execution_count": null,
   "id": "428fecbf-ae51-4048-932b-8d9237f9249e",
   "metadata": {
    "tags": []
   },
   "outputs": [],
   "source": [
    "hp.mollview(co_line_230_input, coord=\"GC\", min=0, max=1000, title=\"Input 230 GHz CO line map from Planck\")"
   ]
  },
  {
   "cell_type": "code",
   "execution_count": null,
   "id": "271e373b-bacc-45e7-9cd1-9a21a0c4a068",
   "metadata": {},
   "outputs": [],
   "source": []
  },
  {
   "cell_type": "code",
   "execution_count": null,
   "id": "eb8c1dc6-3481-4355-b274-c1d2d90f349d",
   "metadata": {
    "tags": []
   },
   "outputs": [],
   "source": [
    "import healpy as hp\n",
    "m=hp.read_map(\"output/radio/sobs_radio_SAT_mission_SAT_f090_radio_healpix.fits\")"
   ]
  },
  {
   "cell_type": "code",
   "execution_count": null,
   "id": "c51137ad-3d2f-4dea-961c-723e5fb64111",
   "metadata": {
    "tags": []
   },
   "outputs": [],
   "source": [
    "hp.mollview(m, min=0, max=100)"
   ]
  },
  {
   "cell_type": "code",
   "execution_count": null,
   "id": "efd95bef-f3df-4b6d-80da-41755930e3b6",
   "metadata": {
    "tags": []
   },
   "outputs": [],
   "source": [
    "hp.mollview(pysm_emission[0], min=0, max=100)"
   ]
  }
 ],
 "metadata": {
  "kernelspec": {
   "display_name": "Python 3 (ipykernel)",
   "language": "python",
   "name": "python3"
  },
  "language_info": {
   "codemirror_mode": {
    "name": "ipython",
    "version": 3
   },
   "file_extension": ".py",
   "mimetype": "text/x-python",
   "name": "python",
   "nbconvert_exporter": "python",
   "pygments_lexer": "ipython3",
   "version": "3.10.0"
  }
 },
 "nbformat": 4,
 "nbformat_minor": 5
}
