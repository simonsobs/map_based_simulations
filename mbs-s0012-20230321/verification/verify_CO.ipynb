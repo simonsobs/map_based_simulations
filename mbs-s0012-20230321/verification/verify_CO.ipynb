{
 "cells": [
  {
   "cell_type": "code",
   "execution_count": null,
   "id": "b0dfc691-69f2-489b-aa77-80e421f62194",
   "metadata": {
    "tags": []
   },
   "outputs": [],
   "source": [
    "import healpy as hp\n",
    "from pysm3 import units as u\n",
    "import pysm3\n",
    "import numpy as np\n",
    "import matplotlib.pyplot as plt\n",
    "from pathlib import Path\n",
    "import toml"
   ]
  },
  {
   "cell_type": "code",
   "execution_count": null,
   "id": "9a98a13d-fee3-4c80-b00a-4e60c719d5d8",
   "metadata": {
    "tags": []
   },
   "outputs": [],
   "source": [
    "from astropy.table import QTable"
   ]
  },
  {
   "cell_type": "code",
   "execution_count": null,
   "id": "67df05c5-b9d8-4553-bbcd-77fd358a5389",
   "metadata": {
    "tags": []
   },
   "outputs": [],
   "source": [
    "instrument_model_folder = Path(\"../simonsobs_instrument_parameters_2023.03/\")\n",
    "instrument_model = instrument_model_folder / \"simonsobs_instrument_parameters_2023.03.tbl\""
   ]
  },
  {
   "cell_type": "code",
   "execution_count": null,
   "id": "88b5a97d-9db7-4df9-b717-d53385357fe7",
   "metadata": {
    "tags": []
   },
   "outputs": [],
   "source": [
    "chs = QTable.read(instrument_model, format=\"ascii.ipac\")"
   ]
  },
  {
   "cell_type": "code",
   "execution_count": null,
   "id": "fa5f7ba4-4ce0-4a1d-8a44-0813f526afd7",
   "metadata": {},
   "outputs": [],
   "source": [
    "# chs = chs[chs[\"telescope\"]==\"SAT\"]"
   ]
  },
  {
   "cell_type": "code",
   "execution_count": null,
   "id": "71295e14-b224-44b2-8691-9225613fd6e0",
   "metadata": {
    "tags": []
   },
   "outputs": [],
   "source": [
    "from astropy.io import fits"
   ]
  },
  {
   "cell_type": "code",
   "execution_count": null,
   "id": "cd2601e0-e7c7-48c2-af3f-3af4a56c1e15",
   "metadata": {
    "tags": []
   },
   "outputs": [],
   "source": [
    "chs.add_index(\"band\")"
   ]
  },
  {
   "cell_type": "code",
   "execution_count": null,
   "id": "dbec6cb2-e306-4ab0-ba9d-0919cc60fb58",
   "metadata": {
    "tags": []
   },
   "outputs": [],
   "source": [
    "gal2eq = hp.Rotator(coord=\"GC\")"
   ]
  },
  {
   "cell_type": "code",
   "execution_count": null,
   "id": "6da89ea1-f5e6-4fcc-a6ec-ddf5692a36dd",
   "metadata": {
    "tags": []
   },
   "outputs": [],
   "source": [
    "co_line_230_input =(gal2eq.rotate_map_alms(\n",
    "            hp.smoothing(\n",
    "            hp.ud_grade(hp.read_map(\"/mnt/home/azonca/s/pysm-data/co/HFI_CompMap_CO-Type1_2048_R2.00_ring.fits\", 1), 512), fwhm=np.radians(1))) * u.K_CMB).to(u.uK_CMB)"
   ]
  },
  {
   "cell_type": "code",
   "execution_count": null,
   "id": "836916ce-55b8-4b40-99d8-e91d9a98f80d",
   "metadata": {},
   "outputs": [],
   "source": [
    "hp.mollview(co_line_230_input, min=0, max=1000, title=\"Input 230 GHz CO line map from Planck\")"
   ]
  },
  {
   "cell_type": "code",
   "execution_count": null,
   "id": "d617ddbc-999e-4b28-852a-689f6b22b02f",
   "metadata": {
    "tags": []
   },
   "outputs": [],
   "source": [
    "filename_template = toml.load(\"../common.toml\")[\"output_filename_template\"]"
   ]
  },
  {
   "cell_type": "code",
   "execution_count": null,
   "id": "cd66c87b-75c6-43a8-810b-93bc46ac58fd",
   "metadata": {
    "tags": []
   },
   "outputs": [],
   "source": [
    "filename_template = filename_template.replace(\"{tag}\", \"{model}\")"
   ]
  },
  {
   "cell_type": "code",
   "execution_count": null,
   "id": "8a92d8a6-ccaf-4179-be47-e41185402e2c",
   "metadata": {
    "tags": []
   },
   "outputs": [],
   "source": [
    "toml.load(\"../co_low.toml\")"
   ]
  },
  {
   "cell_type": "code",
   "execution_count": null,
   "id": "e3e72ab4-b65b-46e8-af79-83f97ac3e467",
   "metadata": {
    "tags": []
   },
   "outputs": [],
   "source": [
    "ch = chs[0]"
   ]
  },
  {
   "cell_type": "code",
   "execution_count": null,
   "id": "63c28102-169d-4d07-b2f5-96771d171d1b",
   "metadata": {
    "tags": []
   },
   "outputs": [],
   "source": [
    "ch"
   ]
  },
  {
   "cell_type": "code",
   "execution_count": null,
   "id": "752abde9-f816-46d4-9d5f-920b43ec603c",
   "metadata": {
    "tags": []
   },
   "outputs": [],
   "source": [
    "Path(\"..\") / \"output\" / model / filename_template.format(**ch, pixelization=\"healpix\")"
   ]
  },
  {
   "cell_type": "code",
   "execution_count": null,
   "id": "863d312f-95e9-4b12-b4cf-3784356fd73f",
   "metadata": {
    "tags": []
   },
   "outputs": [],
   "source": [
    "ls ../output/co/sobs_mbs-s0012-20230321_LAT*"
   ]
  },
  {
   "cell_type": "code",
   "execution_count": null,
   "id": "58c35a2f-fd60-42a5-b2e5-0592ccd9ce6a",
   "metadata": {
    "tags": []
   },
   "outputs": [],
   "source": [
    "for ch in chs:\n",
    "    for model in [\"co\", \"co_low\"]:\n",
    "        print(ch[\"band\"], model)\n",
    "        m = pysm3.read_map(Path(\"..\") / \"output\" / model / filename_template.format(**ch, model=model, pixelization=\"healpix\"), nside=512, field=(0,1,2))\n",
    "\n",
    "        # hp.mollview(m[0].value, min=0, max=10, unit=m.unit, title=\"CO low complexity\")\n",
    "\n",
    "        if u.allclose(m,0 * u.uK_CMB):\n",
    "            print(\"No CO emission\")\n",
    "        else:\n",
    "\n",
    "            # hp.mollview(m[0]/co_line_230_input, min=-100,max=100)\n",
    "\n",
    "            bandpass = QTable.read(instrument_model_folder / ch['bandpass_file'], format=\"ascii.ipac\")\n",
    "\n",
    "            bandpass.add_index(\"bandpass_frequency\")\n",
    "\n",
    "            # plt.axvline(0.022, color=\"black\")\n",
    "            # plt.hist(m[0]/co_line_230_input, 1000, range=[0,.1]);\n",
    "\n",
    "            bandwidth = bandpass.iloc[-1][\"bandpass_frequency\"] - bandpass.iloc[0][\"bandpass_frequency\"]\n",
    "\n",
    "            median_map_scale = np.median(m[0]/co_line_230_input)\n",
    "\n",
    "            mean_band_normalization = pysm3.normalize_weights(bandpass[\"bandpass_frequency\"].value, bandpass[\"bandpass_weight\"]).mean()\n",
    "\n",
    "            ratio = median_map_scale/mean_band_normalization\n",
    "            \n",
    "            print(f\"CO Emission is {median_map_scale:.2g} compared to the Planck map, given the bandpass we expect roughly {mean_band_normalization:.2g}, the ratio is {ratio:.3g}\")\n",
    "            \n",
    "            if model == \"co1\":\n",
    "                assert u.allclose(m[1:], 0*u.uK_CMB), \"CO1 should be unpolarized\"\n",
    "            else:\n",
    "                median_map_scale_pol = np.median(np.sqrt(m[1]**2+m[2]**2)/m[0])\n",
    "                print(f\"In polarization (expected less than .1% due to depolarization): {median_map_scale_pol:.2e}\")\n",
    "                assert median_map_scale_pol < .1/100 and median_map_scale_pol > .01/100\n",
    "            assert ratio > .5 and ratio < 1.5"
   ]
  },
  {
   "cell_type": "code",
   "execution_count": null,
   "id": "74a3f6c1-6060-4567-9377-f986640a71fe",
   "metadata": {},
   "outputs": [],
   "source": []
  }
 ],
 "metadata": {
  "kernelspec": {
   "display_name": "Python 3 (ipykernel)",
   "language": "python",
   "name": "python3"
  },
  "language_info": {
   "codemirror_mode": {
    "name": "ipython",
    "version": 3
   },
   "file_extension": ".py",
   "mimetype": "text/x-python",
   "name": "python",
   "nbconvert_exporter": "python",
   "pygments_lexer": "ipython3",
   "version": "3.10.0"
  }
 },
 "nbformat": 4,
 "nbformat_minor": 5
}
