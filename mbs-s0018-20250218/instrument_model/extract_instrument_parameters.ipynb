{
 "cells": [
  {
   "cell_type": "markdown",
   "metadata": {},
   "source": [
    "# Extract PICO instrument parameters"
   ]
  },
  {
   "cell_type": "code",
   "execution_count": null,
   "metadata": {},
   "outputs": [],
   "source": [
    "ipac_warning = [\n",
    "    \"Text file in IPAC table format, read with astropy\",\n",
    "    \"from astropy.table import QTable\",\n",
    "    \"QTable.read('filename.tbl', format='ascii.ipac')\",\n",
    "    f\"Instrument model exported from https://arxiv.org/abs/1902.10541\",\n",
    "]"
   ]
  },
  {
   "cell_type": "code",
   "execution_count": null,
   "metadata": {
    "tags": []
   },
   "outputs": [],
   "source": [
    "import numpy as np\n",
    "from astropy.io import fits"
   ]
  },
  {
   "cell_type": "code",
   "execution_count": null,
   "metadata": {},
   "outputs": [],
   "source": [
    "import matplotlib.pyplot as plt\n",
    "\n",
    "%matplotlib inline"
   ]
  },
  {
   "cell_type": "code",
   "execution_count": null,
   "metadata": {},
   "outputs": [],
   "source": [
    "band_beam = \"\"\"BandCenter\tBeam\n",
    "21\t38.4\n",
    "25\t32\n",
    "30\t28.3\n",
    "36\t23.6\n",
    "43\t22.2\n",
    "52\t18.4\n",
    "62\t12.8\n",
    "75\t10.7\n",
    "90\t9.5\n",
    "108\t7.9\n",
    "129\t7.4\n",
    "155\t6.2\n",
    "186\t4.3\n",
    "223\t3.6\n",
    "268\t3.2\n",
    "321\t2.6\n",
    "385\t2.5\n",
    "462\t2.1\n",
    "555\t1.5\n",
    "666\t1.3\n",
    "799\t1.1\n",
    "\"\"\""
   ]
  },
  {
   "cell_type": "code",
   "execution_count": null,
   "metadata": {
    "tags": []
   },
   "outputs": [],
   "source": [
    "from pathlib import Path"
   ]
  },
  {
   "cell_type": "code",
   "execution_count": null,
   "metadata": {},
   "outputs": [],
   "source": [
    "from collections import OrderedDict\n",
    "from astropy import units as u\n",
    "from astropy.table import QTable"
   ]
  },
  {
   "cell_type": "code",
   "execution_count": null,
   "metadata": {},
   "outputs": [],
   "source": [
    "table = QTable(\n",
    "    names=[\n",
    "        \"telescope\",\n",
    "        \"band\",\n",
    "        \"center_frequency\",\n",
    "        \"fwhm\",\n",
    "        \"nside\",\n",
    "        \"bandpass_file\",\n",
    "    ],\n",
    "    dtype=[str, str, float, float, int, str],\n",
    "    units=[None, None, u.GHz, u.arcmin, None, None],\n",
    ")"
   ]
  },
  {
   "cell_type": "code",
   "execution_count": null,
   "metadata": {},
   "outputs": [],
   "source": [
    "import io\n",
    "import requests\n",
    "import numpy as np\n",
    "\n",
    "# Parse band_beam and add to table\n",
    "\n",
    "band_beam_data = np.genfromtxt(\n",
    "    io.StringIO(band_beam), names=True, dtype=None, encoding=\"utf-8\"\n",
    ")\n",
    "\n",
    "for row in band_beam_data:\n",
    "    table.add_row(\n",
    "        OrderedDict(\n",
    "            telescope=\"PICO\",\n",
    "            band=str(row[\"BandCenter\"]),\n",
    "            center_frequency=row[\"BandCenter\"] * u.GHz,\n",
    "            fwhm=row[\"Beam\"] * u.arcmin,\n",
    "            nside=4096,\n",
    "            bandpass_file=f\"bandpass_{row['BandCenter']}.tbl\",\n",
    "        )\n",
    "    )"
   ]
  },
  {
   "cell_type": "code",
   "execution_count": null,
   "metadata": {},
   "outputs": [],
   "source": [
    "table"
   ]
  },
  {
   "cell_type": "code",
   "execution_count": null,
   "metadata": {},
   "outputs": [],
   "source": [
    "table.meta[\"comments\"] = ipac_warning\n",
    "table.write(f\"instrument_model.tbl\", format=\"ascii.ipac\", overwrite=True)"
   ]
  },
  {
   "cell_type": "markdown",
   "metadata": {},
   "source": [
    "## Create bandpass files"
   ]
  },
  {
   "cell_type": "code",
   "execution_count": null,
   "metadata": {},
   "outputs": [],
   "source": [
    "for row in table:\n",
    "    band = row[\"band\"]\n",
    "    center_freq = row[\"center_frequency\"]\n",
    "    bandwidth = 0.25 * center_freq\n",
    "    low_freq = center_freq - bandwidth / 2\n",
    "    high_freq = center_freq + bandwidth / 2\n",
    "\n",
    "    freq = np.linspace(low_freq.value, high_freq.value, 10)\n",
    "    weight = freq ** (-2)\n",
    "    weight /= weight.max()\n",
    "\n",
    "    bandpass_table = QTable(\n",
    "        dict(bandpass_frequency=freq * u.GHz, bandpass_weight=weight)\n",
    "    )\n",
    "    bandpass_table.meta[\"comments\"] = ipac_warning\n",
    "    bandpass_table.write(f\"bandpass_{band}.tbl\", format=\"ascii.ipac\", overwrite=True)"
   ]
  },
  {
   "cell_type": "code",
   "execution_count": null,
   "metadata": {},
   "outputs": [],
   "source": [
    "plt.figure(figsize=(10, 6))\n",
    "\n",
    "for row in table:\n",
    "    band = row[\"band\"]\n",
    "    bandpass_table = QTable.read(f\"bandpass_{band}.tbl\", format=\"ascii.ipac\")\n",
    "    plt.plot(\n",
    "        bandpass_table[\"bandpass_frequency\"],\n",
    "        bandpass_table[\"bandpass_weight\"],\n",
    "        label=f\"Band {band} GHz\",\n",
    "    )\n",
    "\n",
    "plt.xlabel(\"Frequency (GHz)\")\n",
    "plt.ylabel(\"Weight\")\n",
    "plt.title(\"Bandpasses\")\n",
    "plt.legend()\n",
    "plt.ylim(0, 1)\n",
    "plt.grid(True)\n",
    "plt.show()"
   ]
  },
  {
   "cell_type": "markdown",
   "metadata": {},
   "source": [
    "# Normalized bandpasses\n",
    "\n",
    "If we normalize them to the center frequency, all bandpasses are the same"
   ]
  },
  {
   "cell_type": "code",
   "execution_count": null,
   "metadata": {},
   "outputs": [],
   "source": [
    "plt.figure(figsize=(10, 6))\n",
    "\n",
    "for row in table:\n",
    "    band = row[\"band\"]\n",
    "    bandpass_table = QTable.read(f\"bandpass_{band}.tbl\", format=\"ascii.ipac\")\n",
    "    center_freq = row[\"center_frequency\"]\n",
    "    normalized_freq = bandpass_table[\"bandpass_frequency\"] / center_freq\n",
    "    plt.plot(\n",
    "        normalized_freq, bandpass_table[\"bandpass_weight\"], label=f\"Band {band} GHz\"\n",
    "    )\n",
    "\n",
    "plt.xlabel(\"Normalized Frequency\")\n",
    "plt.ylabel(\"Weight\")\n",
    "plt.title(\"Normalized Bandpasses\")\n",
    "plt.legend()\n",
    "plt.ylim(0, 1)\n",
    "plt.grid(True)\n",
    "plt.show()"
   ]
  },
  {
   "cell_type": "code",
   "execution_count": null,
   "metadata": {},
   "outputs": [],
   "source": []
  }
 ],
 "metadata": {
  "kernelspec": {
   "display_name": "pysm2",
   "language": "python",
   "name": "python3"
  },
  "language_info": {
   "codemirror_mode": {
    "name": "ipython",
    "version": 3
   },
   "file_extension": ".py",
   "mimetype": "text/x-python",
   "name": "python",
   "nbconvert_exporter": "python",
   "pygments_lexer": "ipython3",
   "version": "3.11.2"
  }
 },
 "nbformat": 4,
 "nbformat_minor": 4
}
