{
 "cells": [
  {
   "cell_type": "markdown",
   "metadata": {},
   "source": [
    "# Extract PICO instrument parameters"
   ]
  },
  {
   "cell_type": "code",
   "execution_count": 11,
   "metadata": {},
   "outputs": [],
   "source": [
    "ipac_warning = [\n",
    "    \"Text file in IPAC table format, read with astropy\",\n",
    "    \"from astropy.table import QTable\",\n",
    "    \"QTable.read('filename.tbl', format='ascii.ipac')\",\n",
    "]"
   ]
  },
  {
   "cell_type": "code",
   "execution_count": 12,
   "metadata": {
    "tags": []
   },
   "outputs": [],
   "source": [
    "import numpy as np\n",
    "from astropy.io import fits"
   ]
  },
  {
   "cell_type": "code",
   "execution_count": 13,
   "metadata": {},
   "outputs": [],
   "source": [
    "import matplotlib.pyplot as plt\n",
    "\n",
    "%matplotlib inline"
   ]
  },
  {
   "cell_type": "code",
   "execution_count": 14,
   "metadata": {},
   "outputs": [
    {
     "data": {
      "text/plain": [
       "['20',\n",
       " '21',\n",
       " '25',\n",
       " '27',\n",
       " '30',\n",
       " '36',\n",
       " '39',\n",
       " '40',\n",
       " '43',\n",
       " '44',\n",
       " '50',\n",
       " '52',\n",
       " '60',\n",
       " '62',\n",
       " '68',\n",
       " '70',\n",
       " '75',\n",
       " '78',\n",
       " '85',\n",
       " '89',\n",
       " '90',\n",
       " '95',\n",
       " '100',\n",
       " '108',\n",
       " '119',\n",
       " '129',\n",
       " '140',\n",
       " '143',\n",
       " '145',\n",
       " '150',\n",
       " '155',\n",
       " '166',\n",
       " '186',\n",
       " '195',\n",
       " '217',\n",
       " '220',\n",
       " '223',\n",
       " '230',\n",
       " '235',\n",
       " '268',\n",
       " '270',\n",
       " '280',\n",
       " '321',\n",
       " '337',\n",
       " '353',\n",
       " '385',\n",
       " '402',\n",
       " '462',\n",
       " '555',\n",
       " '666',\n",
       " '799']"
      ]
     },
     "execution_count": 14,
     "metadata": {},
     "output_type": "execute_result"
    }
   ],
   "source": [
    "bands = \"20, 21, 25, 27, 30, 36, 39, 40, 43, 44, 50, 52, 60, 62, 68, 70, 75, 78, 85, 89, 90, 95, 100, 108, 119, 129, 140, 143, 145, 150, 155, 166, 186, 195, 217, 220, 223, 230, 235, 268, 270, 280, 321, 337, 353, 385, 402, 462, 555, 666, 799\".split(\", \")\n",
    "bands\n"
   ]
  },
  {
   "cell_type": "code",
   "execution_count": 15,
   "metadata": {
    "tags": []
   },
   "outputs": [],
   "source": [
    "from pathlib import Path"
   ]
  },
  {
   "cell_type": "code",
   "execution_count": 16,
   "metadata": {},
   "outputs": [],
   "source": [
    "from collections import OrderedDict\n",
    "from astropy import units as u\n",
    "from astropy.table import QTable"
   ]
  },
  {
   "cell_type": "code",
   "execution_count": 18,
   "metadata": {},
   "outputs": [],
   "source": [
    "table = QTable(\n",
    "    names=[\n",
    "        \"telescope\",\n",
    "        \"band\",\n",
    "        \"center_frequency\",\n",
    "        \"fwhm\",\n",
    "        \"nside\",\n",
    "    ],\n",
    "    dtype=[str, str, float, float, int],\n",
    "    units=[None, None, u.GHz, u.arcmin, None],\n",
    ")"
   ]
  },
  {
   "cell_type": "code",
   "execution_count": 19,
   "metadata": {},
   "outputs": [],
   "source": [
    "import io\n",
    "import requests\n",
    "import numpy as np\n",
    "\n",
    "# Parse band_beam and add to table\n",
    "\n",
    "for band in bands:\n",
    "    table.add_row(\n",
    "        OrderedDict(\n",
    "            telescope=\"PICO\",\n",
    "            band=band,\n",
    "            center_frequency=float(band) * u.GHz,\n",
    "            fwhm=5 * u.arcmin,\n",
    "            nside=4096,\n",
    "        )\n",
    "    )"
   ]
  },
  {
   "cell_type": "code",
   "execution_count": 20,
   "metadata": {},
   "outputs": [
    {
     "data": {
      "text/html": [
       "<div><i>QTable length=51</i>\n",
       "<table id=\"table23455382747088\" class=\"table-striped table-bordered table-condensed\">\n",
       "<thead><tr><th>telescope</th><th>band</th><th>center_frequency</th><th>fwhm</th><th>nside</th></tr></thead>\n",
       "<thead><tr><th></th><th></th><th>GHz</th><th>arcmin</th><th></th></tr></thead>\n",
       "<thead><tr><th>str4</th><th>str3</th><th>float64</th><th>float64</th><th>int64</th></tr></thead>\n",
       "<tr><td>PICO</td><td>20</td><td>20.0</td><td>5.0</td><td>4096</td></tr>\n",
       "<tr><td>PICO</td><td>21</td><td>21.0</td><td>5.0</td><td>4096</td></tr>\n",
       "<tr><td>PICO</td><td>25</td><td>25.0</td><td>5.0</td><td>4096</td></tr>\n",
       "<tr><td>PICO</td><td>27</td><td>27.0</td><td>5.0</td><td>4096</td></tr>\n",
       "<tr><td>PICO</td><td>30</td><td>30.0</td><td>5.0</td><td>4096</td></tr>\n",
       "<tr><td>PICO</td><td>36</td><td>36.0</td><td>5.0</td><td>4096</td></tr>\n",
       "<tr><td>PICO</td><td>39</td><td>39.0</td><td>5.0</td><td>4096</td></tr>\n",
       "<tr><td>PICO</td><td>40</td><td>40.0</td><td>5.0</td><td>4096</td></tr>\n",
       "<tr><td>PICO</td><td>43</td><td>43.0</td><td>5.0</td><td>4096</td></tr>\n",
       "<tr><td>...</td><td>...</td><td>...</td><td>...</td><td>...</td></tr>\n",
       "<tr><td>PICO</td><td>321</td><td>321.0</td><td>5.0</td><td>4096</td></tr>\n",
       "<tr><td>PICO</td><td>337</td><td>337.0</td><td>5.0</td><td>4096</td></tr>\n",
       "<tr><td>PICO</td><td>353</td><td>353.0</td><td>5.0</td><td>4096</td></tr>\n",
       "<tr><td>PICO</td><td>385</td><td>385.0</td><td>5.0</td><td>4096</td></tr>\n",
       "<tr><td>PICO</td><td>402</td><td>402.0</td><td>5.0</td><td>4096</td></tr>\n",
       "<tr><td>PICO</td><td>462</td><td>462.0</td><td>5.0</td><td>4096</td></tr>\n",
       "<tr><td>PICO</td><td>555</td><td>555.0</td><td>5.0</td><td>4096</td></tr>\n",
       "<tr><td>PICO</td><td>666</td><td>666.0</td><td>5.0</td><td>4096</td></tr>\n",
       "<tr><td>PICO</td><td>799</td><td>799.0</td><td>5.0</td><td>4096</td></tr>\n",
       "</table></div>"
      ],
      "text/plain": [
       "<QTable length=51>\n",
       "telescope band center_frequency   fwhm  nside\n",
       "                     GHz         arcmin      \n",
       "   str4   str3     float64      float64 int64\n",
       "--------- ---- ---------------- ------- -----\n",
       "     PICO   20             20.0     5.0  4096\n",
       "     PICO   21             21.0     5.0  4096\n",
       "     PICO   25             25.0     5.0  4096\n",
       "     PICO   27             27.0     5.0  4096\n",
       "     PICO   30             30.0     5.0  4096\n",
       "     PICO   36             36.0     5.0  4096\n",
       "     PICO   39             39.0     5.0  4096\n",
       "     PICO   40             40.0     5.0  4096\n",
       "     PICO   43             43.0     5.0  4096\n",
       "      ...  ...              ...     ...   ...\n",
       "     PICO  321            321.0     5.0  4096\n",
       "     PICO  337            337.0     5.0  4096\n",
       "     PICO  353            353.0     5.0  4096\n",
       "     PICO  385            385.0     5.0  4096\n",
       "     PICO  402            402.0     5.0  4096\n",
       "     PICO  462            462.0     5.0  4096\n",
       "     PICO  555            555.0     5.0  4096\n",
       "     PICO  666            666.0     5.0  4096\n",
       "     PICO  799            799.0     5.0  4096"
      ]
     },
     "execution_count": 20,
     "metadata": {},
     "output_type": "execute_result"
    }
   ],
   "source": [
    "table"
   ]
  },
  {
   "cell_type": "code",
   "execution_count": 21,
   "metadata": {},
   "outputs": [],
   "source": [
    "table.meta[\"comments\"] = ipac_warning\n",
    "table.write(f\"instrument_model.tbl\", format=\"ascii.ipac\", overwrite=True)"
   ]
  }
 ],
 "metadata": {
  "kernelspec": {
   "display_name": "cmb",
   "language": "python",
   "name": "python3"
  },
  "language_info": {
   "codemirror_mode": {
    "name": "ipython",
    "version": 3
   },
   "file_extension": ".py",
   "mimetype": "text/x-python",
   "name": "python",
   "nbconvert_exporter": "python",
   "pygments_lexer": "ipython3",
   "version": "3.12.7"
  }
 },
 "nbformat": 4,
 "nbformat_minor": 4
}
