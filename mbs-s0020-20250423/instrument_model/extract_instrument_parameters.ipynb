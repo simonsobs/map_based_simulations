{
 "cells": [
  {
   "cell_type": "markdown",
   "metadata": {},
   "source": [
    "# Extract BICEP-Keck instrument parameters"
   ]
  },
  {
   "cell_type": "code",
   "execution_count": 28,
   "metadata": {},
   "outputs": [],
   "source": [
    "ipac_warning = [\n",
    "    \"Text file in IPAC table format, read with astropy\",\n",
    "    \"from astropy.table import QTable\",\n",
    "    \"QTable.read('filename.tbl', format='ascii.ipac')\",\n",
    "    f\"Instrument model exported from the Planck NPIPE instrument models\",\n",
    "]"
   ]
  },
  {
   "cell_type": "code",
   "execution_count": 21,
   "metadata": {
    "tags": []
   },
   "outputs": [],
   "source": [
    "import numpy as np\n",
    "from astropy.io import fits\n",
    "\n",
    "from astropy.table import QTable\n",
    "from pysm3 import units as u\n",
    "from pathlib import Path\n",
    "import healpy as hp\n",
    "\n"
   ]
  },
  {
   "cell_type": "code",
   "execution_count": 5,
   "metadata": {},
   "outputs": [],
   "source": [
    "import matplotlib.pyplot as plt\n",
    "\n",
    "%matplotlib inline"
   ]
  },
  {
   "cell_type": "code",
   "execution_count": 6,
   "metadata": {},
   "outputs": [
    {
     "name": "stdout",
     "output_type": "stream",
     "text": [
      "--2025-04-23 14:58:33--  http://bicepkeck.org/BK18_datarelease/BK18_B95_bandpass_20210607.txt\n",
      "Resolving bicepkeck.org (bicepkeck.org)... 140.247.151.131\n",
      "Connecting to bicepkeck.org (bicepkeck.org)|140.247.151.131|:80... connected.\n",
      "HTTP request sent, awaiting response... 200 OK\n",
      "Length: 5272 (5.1K) [text/plain]\n",
      "Saving to: ‘BK18_B95_bandpass_20210607.txt’\n",
      "\n",
      "BK18_B95_bandpass_2 100%[===================>]   5.15K  --.-KB/s    in 0s      \n",
      "\n",
      "2025-04-23 14:58:33 (707 MB/s) - ‘BK18_B95_bandpass_20210607.txt’ saved [5272/5272]\n",
      "\n",
      "--2025-04-23 14:58:33--  http://bicepkeck.org/BK18_datarelease/BK18_K95_bandpass_20210607.txt\n",
      "Resolving bicepkeck.org (bicepkeck.org)... 140.247.151.131\n",
      "Connecting to bicepkeck.org (bicepkeck.org)|140.247.151.131|:80... connected.\n",
      "HTTP request sent, awaiting response... 200 OK\n",
      "Length: 6782 (6.6K) [text/plain]\n",
      "Saving to: ‘BK18_K95_bandpass_20210607.txt’\n",
      "\n",
      "BK18_K95_bandpass_2 100%[===================>]   6.62K  --.-KB/s    in 0s      \n",
      "\n",
      "2025-04-23 14:58:33 (1.06 GB/s) - ‘BK18_K95_bandpass_20210607.txt’ saved [6782/6782]\n",
      "\n"
     ]
    },
    {
     "name": "stdout",
     "output_type": "stream",
     "text": [
      "--2025-04-23 14:58:34--  http://bicepkeck.org/BK18_datarelease/BK18_150_bandpass_20210607.txt\n",
      "Resolving bicepkeck.org (bicepkeck.org)... 140.247.151.131\n",
      "Connecting to bicepkeck.org (bicepkeck.org)|140.247.151.131|:80... connected.\n",
      "HTTP request sent, awaiting response... 200 OK\n",
      "Length: 9524 (9.3K) [text/plain]\n",
      "Saving to: ‘BK18_150_bandpass_20210607.txt’\n",
      "\n",
      "BK18_150_bandpass_2 100%[===================>]   9.30K  --.-KB/s    in 0s      \n",
      "\n",
      "2025-04-23 14:58:34 (44.0 MB/s) - ‘BK18_150_bandpass_20210607.txt’ saved [9524/9524]\n",
      "\n",
      "--2025-04-23 14:58:34--  http://bicepkeck.org/BK18_datarelease/BK18_220_bandpass_20210607.txt\n",
      "Resolving bicepkeck.org (bicepkeck.org)... 140.247.151.131\n",
      "Connecting to bicepkeck.org (bicepkeck.org)|140.247.151.131|:80... connected.\n",
      "HTTP request sent, awaiting response... 200 OK\n",
      "Length: 9159 (8.9K) [text/plain]\n",
      "Saving to: ‘BK18_220_bandpass_20210607.txt’\n",
      "\n",
      "BK18_220_bandpass_2 100%[===================>]   8.94K  26.4KB/s    in 0.3s    \n",
      "\n",
      "2025-04-23 14:58:34 (26.4 KB/s) - ‘BK18_220_bandpass_20210607.txt’ saved [9159/9159]\n",
      "\n"
     ]
    }
   ],
   "source": [
    "for fname in [\n",
    "    \"BK18_B95_bandpass_20210607.txt\",\n",
    "    \"BK18_K95_bandpass_20210607.txt\",\n",
    "    \"BK18_150_bandpass_20210607.txt\",\n",
    "    \"BK18_220_bandpass_20210607.txt\",\n",
    "]:\n",
    "    file_path = Path(fname)\n",
    "    if not file_path.exists():\n",
    "        !wget http://bicepkeck.org/BK18_datarelease/{fname}"
   ]
  },
  {
   "cell_type": "code",
   "execution_count": 10,
   "metadata": {},
   "outputs": [],
   "source": [
    "channels = [fname.split('_')[1] for fname in [\n",
    "    \"BK18_B95_bandpass_20210607.txt\",\n",
    "    \"BK18_K95_bandpass_20210607.txt\",\n",
    "    \"BK18_150_bandpass_20210607.txt\",\n",
    "    \"BK18_220_bandpass_20210607.txt\",\n",
    "]]"
   ]
  },
  {
   "cell_type": "code",
   "execution_count": 11,
   "metadata": {},
   "outputs": [
    {
     "data": {
      "text/plain": [
       "['B95', 'K95', '150', '220']"
      ]
     },
     "execution_count": 11,
     "metadata": {},
     "output_type": "execute_result"
    }
   ],
   "source": [
    "channels"
   ]
  },
  {
   "cell_type": "code",
   "execution_count": 12,
   "metadata": {
    "tags": []
   },
   "outputs": [
    {
     "name": "stderr",
     "output_type": "stream",
     "text": [
      "/tmp/ipykernel_339090/1939072109.py:8: FutureWarning: The 'delim_whitespace' keyword in pd.read_csv is deprecated and will be removed in a future version. Use ``sep='\\s+'`` instead\n",
      "  df = pd.read_csv(fname, delim_whitespace=True, comment='#', header=None, names=['freq', 'power', 'RJ'])\n",
      "/tmp/ipykernel_339090/1939072109.py:8: FutureWarning: The 'delim_whitespace' keyword in pd.read_csv is deprecated and will be removed in a future version. Use ``sep='\\s+'`` instead\n",
      "  df = pd.read_csv(fname, delim_whitespace=True, comment='#', header=None, names=['freq', 'power', 'RJ'])\n",
      "/tmp/ipykernel_339090/1939072109.py:8: FutureWarning: The 'delim_whitespace' keyword in pd.read_csv is deprecated and will be removed in a future version. Use ``sep='\\s+'`` instead\n",
      "  df = pd.read_csv(fname, delim_whitespace=True, comment='#', header=None, names=['freq', 'power', 'RJ'])\n",
      "/tmp/ipykernel_339090/1939072109.py:8: FutureWarning: The 'delim_whitespace' keyword in pd.read_csv is deprecated and will be removed in a future version. Use ``sep='\\s+'`` instead\n",
      "  df = pd.read_csv(fname, delim_whitespace=True, comment='#', header=None, names=['freq', 'power', 'RJ'])\n"
     ]
    }
   ],
   "source": [
    "bandpasses = {}\n",
    "for fname, channel in zip([\n",
    "    \"BK18_B95_bandpass_20210607.txt\",\n",
    "    \"BK18_K95_bandpass_20210607.txt\",\n",
    "    \"BK18_150_bandpass_20210607.txt\",\n",
    "    \"BK18_220_bandpass_20210607.txt\",\n",
    "], channels):\n",
    "    df = pd.read_csv(fname, delim_whitespace=True, comment='#', header=None, names=['freq', 'power', 'RJ'])\n",
    "    bandpasses[channel] = df"
   ]
  },
  {
   "cell_type": "code",
   "execution_count": 13,
   "metadata": {},
   "outputs": [],
   "source": [
    "from collections import OrderedDict\n",
    "from astropy import units as u\n",
    "from astropy.table import QTable"
   ]
  },
  {
   "cell_type": "code",
   "execution_count": 14,
   "metadata": {},
   "outputs": [],
   "source": [
    "table = QTable(\n",
    "    names=[\n",
    "        \"telescope\",\n",
    "        \"band\",\n",
    "        \"center_frequency\",\n",
    "        \"fwhm\",\n",
    "        \"nside\",\n",
    "        \"bandpass_file\",\n",
    "        \"beam_file\",\n",
    "    ],\n",
    "    dtype=[str, str, float, float, int, str, str],\n",
    "    units=[None, None, u.GHz, u.arcmin, None, None, None],\n",
    ")"
   ]
  },
  {
   "cell_type": "code",
   "execution_count": 18,
   "metadata": {},
   "outputs": [],
   "source": [
    "fwhms = {\n",
    "    \"B95\": 24 * u.arcmin,   # 95 GHz (BICEP)\n",
    "    \"K95\": 43 * u.arcmin,   # 95 GHz (Keck)\n",
    "    \"150\": 30 * u.arcmin,   # 150 GHz\n",
    "    \"220\": 20 * u.arcmin    # 220 GHz\n",
    "}"
   ]
  },
  {
   "cell_type": "code",
   "execution_count": 25,
   "metadata": {},
   "outputs": [
    {
     "data": {
      "text/plain": [
       "3.435486411817406"
      ]
     },
     "execution_count": 25,
     "metadata": {},
     "output_type": "execute_result"
    }
   ],
   "source": [
    "nside = 1024\n",
    "hp.nside2resol(nside, arcmin=True)"
   ]
  },
  {
   "cell_type": "code",
   "execution_count": 26,
   "metadata": {},
   "outputs": [],
   "source": [
    "for label in channels:\n",
    "        bp = bandpasses[label]\n",
    "        center_frequency = float(''.join(filter(str.isdigit, label))) * u.GHz\n",
    "        table.add_row(\n",
    "            OrderedDict(\n",
    "                telescope=\"BK18\",\n",
    "                band=label,\n",
    "                center_frequency=center_frequency,\n",
    "                fwhm=fwhms[label],\n",
    "                nside=nside,\n",
    "                bandpass_file=\"bandpass_\" + label + \".tbl\",\n",
    "            )\n",
    "        )"
   ]
  },
  {
   "cell_type": "code",
   "execution_count": 10,
   "metadata": {},
   "outputs": [
    {
     "data": {
      "text/html": [
       "<div><i>QTable length=9</i>\n",
       "<table id=\"table140031057308496\" class=\"table-striped table-bordered table-condensed\">\n",
       "<thead><tr><th>telescope</th><th>band</th><th>center_frequency</th><th>fwhm</th><th>nside</th><th>bandpass_file</th><th>beam_file</th></tr></thead>\n",
       "<thead><tr><th></th><th></th><th>GHz</th><th>arcmin</th><th></th><th></th><th></th></tr></thead>\n",
       "<thead><tr><th>str3</th><th>str3</th><th>float64</th><th>float64</th><th>int64</th><th>str16</th><th>str35</th></tr></thead>\n",
       "<tr><td>LFI</td><td>030</td><td>30.0</td><td>33.102652125</td><td>1024</td><td>bandpass_030.tbl</td><td>Bl_TEB_npipe6v20_030GHzx030GHz.fits</td></tr>\n",
       "<tr><td>LFI</td><td>044</td><td>44.0</td><td>27.94348615</td><td>1024</td><td>bandpass_044.tbl</td><td>Bl_TEB_npipe6v20_044GHzx044GHz.fits</td></tr>\n",
       "<tr><td>LFI</td><td>070</td><td>70.0</td><td>13.076459609999999</td><td>1024</td><td>bandpass_070.tbl</td><td>Bl_TEB_npipe6v20_070GHzx070GHz.fits</td></tr>\n",
       "<tr><td>HFI</td><td>100</td><td>100.0</td><td>9.88</td><td>2048</td><td>bandpass_100.tbl</td><td>Bl_TEB_npipe6v20_100GHzx100GHz.fits</td></tr>\n",
       "<tr><td>HFI</td><td>143</td><td>143.0</td><td>7.18</td><td>2048</td><td>bandpass_143.tbl</td><td>Bl_TEB_npipe6v20_143GHzx143GHz.fits</td></tr>\n",
       "<tr><td>HFI</td><td>217</td><td>217.0</td><td>4.87</td><td>2048</td><td>bandpass_217.tbl</td><td>Bl_TEB_npipe6v20_217GHzx217GHz.fits</td></tr>\n",
       "<tr><td>HFI</td><td>353</td><td>353.0</td><td>4.65</td><td>2048</td><td>bandpass_353.tbl</td><td>Bl_TEB_npipe6v20_353GHzx353GHz.fits</td></tr>\n",
       "<tr><td>HFI</td><td>545</td><td>545.0</td><td>4.72</td><td>2048</td><td>bandpass_545.tbl</td><td>Bl_npipe6v20_545GHzx545GHz.fits</td></tr>\n",
       "<tr><td>HFI</td><td>857</td><td>857.0</td><td>4.39</td><td>2048</td><td>bandpass_857.tbl</td><td>Bl_npipe6v20_857GHzx857GHz.fits</td></tr>\n",
       "</table></div>"
      ],
      "text/plain": [
       "<QTable length=9>\n",
       "telescope band ...  bandpass_file                beam_file             \n",
       "               ...                                                     \n",
       "   str3   str3 ...      str16                      str35               \n",
       "--------- ---- ... ---------------- -----------------------------------\n",
       "      LFI  030 ... bandpass_030.tbl Bl_TEB_npipe6v20_030GHzx030GHz.fits\n",
       "      LFI  044 ... bandpass_044.tbl Bl_TEB_npipe6v20_044GHzx044GHz.fits\n",
       "      LFI  070 ... bandpass_070.tbl Bl_TEB_npipe6v20_070GHzx070GHz.fits\n",
       "      HFI  100 ... bandpass_100.tbl Bl_TEB_npipe6v20_100GHzx100GHz.fits\n",
       "      HFI  143 ... bandpass_143.tbl Bl_TEB_npipe6v20_143GHzx143GHz.fits\n",
       "      HFI  217 ... bandpass_217.tbl Bl_TEB_npipe6v20_217GHzx217GHz.fits\n",
       "      HFI  353 ... bandpass_353.tbl Bl_TEB_npipe6v20_353GHzx353GHz.fits\n",
       "      HFI  545 ... bandpass_545.tbl     Bl_npipe6v20_545GHzx545GHz.fits\n",
       "      HFI  857 ... bandpass_857.tbl     Bl_npipe6v20_857GHzx857GHz.fits"
      ]
     },
     "execution_count": 10,
     "metadata": {},
     "output_type": "execute_result"
    }
   ],
   "source": [
    "table"
   ]
  },
  {
   "cell_type": "code",
   "execution_count": 11,
   "metadata": {},
   "outputs": [],
   "source": [
    "table.meta[\"comments\"] = ipac_warning\n",
    "table.write(f\"instrument_model.tbl\", format=\"ascii.ipac\", overwrite=True)"
   ]
  },
  {
   "cell_type": "markdown",
   "metadata": {},
   "source": [
    "## Create bandpass files"
   ]
  },
  {
   "cell_type": "code",
   "execution_count": 29,
   "metadata": {},
   "outputs": [],
   "source": [
    "for label, df in bandpasses.items():\n",
    "    qtable = QTable(\n",
    "        names=[\"bandpass_frequency\", \"bandpass_weight\"],\n",
    "        units=[u.GHz, None],\n",
    "        data=[df[\"freq\"].values * u.GHz, df[\"power\"].values],\n",
    "    )\n",
    "    qtable.meta[\"comments\"] = ipac_warning\n",
    "    qtable.write(f\"bandpass_{label}.tbl\", format=\"ascii.ipac\", overwrite=True)"
   ]
  }
 ],
 "metadata": {
  "kernelspec": {
   "display_name": "cmb",
   "language": "python",
   "name": "python3"
  },
  "language_info": {
   "codemirror_mode": {
    "name": "ipython",
    "version": 3
   },
   "file_extension": ".py",
   "mimetype": "text/x-python",
   "name": "python",
   "nbconvert_exporter": "python",
   "pygments_lexer": "ipython3",
   "version": "3.12.7"
  }
 },
 "nbformat": 4,
 "nbformat_minor": 4
}
