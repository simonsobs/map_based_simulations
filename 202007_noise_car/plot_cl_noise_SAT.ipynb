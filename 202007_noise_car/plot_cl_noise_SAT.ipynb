{
 "cells": [
  {
   "cell_type": "code",
   "execution_count": null,
   "metadata": {},
   "outputs": [],
   "source": [
    "import healpy as hp\n",
    "import mapsims\n",
    "from glob import glob\n",
    "import numpy as np\n",
    "from collections import defaultdict"
   ]
  },
  {
   "cell_type": "code",
   "execution_count": null,
   "metadata": {},
   "outputs": [],
   "source": [
    "%matplotlib inline"
   ]
  },
  {
   "cell_type": "code",
   "execution_count": null,
   "metadata": {},
   "outputs": [],
   "source": [
    "import pickle"
   ]
  },
  {
   "cell_type": "code",
   "execution_count": null,
   "metadata": {},
   "outputs": [],
   "source": [
    "sim = mapsims.from_config([\"common.toml\", \"noise.toml\"], override={\"channels\":\"tube:ST0\"})\n",
    "\n",
    "noise = sim.other_components[\"noise\"]"
   ]
  },
  {
   "cell_type": "code",
   "execution_count": null,
   "metadata": {},
   "outputs": [],
   "source": [
    "hitmaps = {}\n",
    "ave_hits = {}\n",
    "sky_fractions = defaultdict(dict)\n",
    "\n",
    "for i_tube in range(4):\n",
    "    tube = f\"ST{i_tube}\"\n",
    "    chs = mapsims.parse_channels(\"tube:\"+tube)[0]\n",
    "    hitmaps[tube], ave_hits[tube] = noise.get_hitmaps(tube)\n",
    "    for i in [0,1]:\n",
    "        mask = hitmaps[tube][i] > 0\n",
    "        sky_fractions[tube][i] = (noise.pixarea_map*mask).sum()/np.pi/4\n",
    "    for ch, h in zip(chs, hitmaps[tube]):\n",
    "        h /= h.max()"
   ]
  },
  {
   "cell_type": "code",
   "execution_count": null,
   "metadata": {},
   "outputs": [],
   "source": [
    "sky_fractions"
   ]
  },
  {
   "cell_type": "code",
   "execution_count": null,
   "metadata": {},
   "outputs": [],
   "source": [
    "cl = {}\n",
    "\n",
    "for i_tube in range(4):\n",
    "    tube = f\"ST{i_tube}\"\n",
    "    cl[tube] = pickle.load(open(f\"output/noise/N_ell_tube_{tube}.pkl\", \"rb\")) "
   ]
  },
  {
   "cell_type": "code",
   "execution_count": null,
   "metadata": {},
   "outputs": [],
   "source": [
    "import matplotlib.pyplot as plt"
   ]
  },
  {
   "cell_type": "code",
   "execution_count": null,
   "metadata": {},
   "outputs": [],
   "source": [
    "import mapsims"
   ]
  },
  {
   "cell_type": "code",
   "execution_count": null,
   "metadata": {},
   "outputs": [],
   "source": [
    "from glob import glob"
   ]
  },
  {
   "cell_type": "code",
   "execution_count": null,
   "metadata": {},
   "outputs": [],
   "source": [
    "import matplotlib\n",
    "matplotlib.rc('text', usetex=False)\n",
    "fontProperties = {'family':'sans-serif',\n",
    "                  'weight' : 'normal', 'size' : 16}"
   ]
  },
  {
   "cell_type": "code",
   "execution_count": null,
   "metadata": {},
   "outputs": [],
   "source": [
    "import pickle"
   ]
  },
  {
   "cell_type": "code",
   "execution_count": null,
   "metadata": {},
   "outputs": [],
   "source": [
    "%matplotlib inline"
   ]
  },
  {
   "cell_type": "code",
   "execution_count": null,
   "metadata": {},
   "outputs": [],
   "source": [
    "fig, ax = plt.subplots(nrows=4, ncols=2,sharey=True, figsize=(20/3*2, 5*4))\n",
    "pol = 0\n",
    "i_tube = 0\n",
    "for (tube, chs) in noise.tubes.items():\n",
    "    ell, ps_T, ps_P = noise.get_fullsky_noise_spectra(tube=tube)\n",
    "    if tube.startswith(\"S\"):\n",
    "        wn = noise.get_white_noise_power(tube, sky_fractions[tube][i])\n",
    "\n",
    "        m = {}\n",
    "        for i, ch in enumerate(chs):\n",
    "            len_cl = len(cl[tube][i])\n",
    "            ax[i_tube][i].loglog(ell, ps_T[i] * sky_fractions[tube][i], label=\"Expected T spectrum\")\n",
    "            ax[i_tube][i].loglog(cl[tube][i][pol], label=\"I\", alpha=.5)\n",
    "            ax[i_tube][i].hlines(wn[i], 100, ell[-1], label=\"White noise power\")\n",
    "\n",
    "            #ax[i_tube][i].set_ylim(1e-8,1e-2)\n",
    "            ax[i_tube][i].set_title(ch, fontsize=16)\n",
    "            \n",
    "            ax[i_tube][i].set_ylabel(r\"N_ell [muK^2]\", fontsize=16)\n",
    "            ax[i_tube][i].legend()\n",
    "            ax[i_tube][i].grid(True)\n",
    "        i_tube += 1\n",
    "        \n",
    "plt.savefig(\"plots/SAT_T.png\")"
   ]
  },
  {
   "cell_type": "code",
   "execution_count": null,
   "metadata": {},
   "outputs": [],
   "source": [
    "cl[tube][i][pol][-100:].mean() / (2*wn[i])"
   ]
  },
  {
   "cell_type": "code",
   "execution_count": null,
   "metadata": {},
   "outputs": [],
   "source": [
    "wn[i]"
   ]
  },
  {
   "cell_type": "code",
   "execution_count": null,
   "metadata": {},
   "outputs": [],
   "source": [
    "fig, ax = plt.subplots(nrows=4, ncols=2, sharey=True, figsize=(20/3*2, 5*4))\n",
    "ylim = (1e-7, 1e-2)\n",
    "i_tube = 0\n",
    "pol_label = \"TQU\"\n",
    "for (tube, chs) in noise.tubes.items():\n",
    "    ell, ps_T, ps_P = noise.get_fullsky_noise_spectra(tube=tube)\n",
    "    if tube.startswith(\"S\"):\n",
    "\n",
    "        #nside = hp.npix2nside(len(hitmaps[tube][0]))\n",
    "        #pixarea = hp.nside2pixarea(nside)\n",
    "        wn = noise.get_white_noise_power(tube, sky_fractions[tube][i])\n",
    "        m = {}\n",
    "        for i, ch in enumerate(chs):\n",
    "            ax[i_tube][i].loglog(ell, ps_P[i] * sky_fractions[tube][i], label=\"Expected P spectrum\")\n",
    "            # noise power is double in polarization\n",
    "            ax[i_tube][i].hlines(wn[i] * 2, 100, ell[-1], label=\"White noise power\")\n",
    "            ax[i_tube][i].set_ylabel(r\"N_ell [muK^2]\", fontsize=16)\n",
    "        for pol in [1,2]:\n",
    "            for i, ch in enumerate(chs):\n",
    "                len_cl = len(cl[tube][i])\n",
    "                ax[i_tube][i].loglog(cl[tube][i][pol], label=pol_label[pol], alpha=.5)\n",
    "\n",
    "                #ax[i_tube][i].set_ylim(*ylim)\n",
    "                ax[i_tube][i].set_title(ch, fontsize=16)\n",
    "                ax[i_tube][i].legend()\n",
    "                ax[i_tube][i].grid(True)\n",
    "        i_tube += 1\n",
    "    \n",
    "    \n",
    "\n",
    "plt.savefig(\"plots/SAT_P.png\")"
   ]
  },
  {
   "cell_type": "code",
   "execution_count": null,
   "metadata": {},
   "outputs": [],
   "source": []
  }
 ],
 "metadata": {
  "kernelspec": {
   "display_name": "pysm3",
   "language": "python",
   "name": "pysm3"
  },
  "language_info": {
   "codemirror_mode": {
    "name": "ipython",
    "version": 3
   },
   "file_extension": ".py",
   "mimetype": "text/x-python",
   "name": "python",
   "nbconvert_exporter": "python",
   "pygments_lexer": "ipython3",
   "version": "3.7.7"
  }
 },
 "nbformat": 4,
 "nbformat_minor": 4
}
