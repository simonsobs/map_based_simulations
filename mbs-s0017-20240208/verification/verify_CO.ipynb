{
 "cells": [
  {
   "cell_type": "code",
   "execution_count": null,
   "id": "0",
   "metadata": {
    "tags": []
   },
   "outputs": [],
   "source": [
    "import healpy as hp\n",
    "from pysm3 import units as u\n",
    "import pysm3\n",
    "import numpy as np\n",
    "import matplotlib.pyplot as plt"
   ]
  },
  {
   "cell_type": "code",
   "execution_count": null,
   "id": "1",
   "metadata": {
    "tags": []
   },
   "outputs": [],
   "source": [
    "from astropy.table import QTable"
   ]
  },
  {
   "cell_type": "code",
   "execution_count": null,
   "id": "2",
   "metadata": {
    "tags": []
   },
   "outputs": [],
   "source": [
    "chs = QTable.read(\"../instrument_model/instrument_model.tbl\", format=\"ascii.ipac\")"
   ]
  },
  {
   "cell_type": "code",
   "execution_count": null,
   "id": "3",
   "metadata": {},
   "outputs": [],
   "source": [
    "# chs = chs[chs[\"telescope\"]==\"SAT\"]"
   ]
  },
  {
   "cell_type": "code",
   "execution_count": null,
   "id": "4",
   "metadata": {
    "tags": []
   },
   "outputs": [],
   "source": [
    "from astropy.io import fits"
   ]
  },
  {
   "cell_type": "code",
   "execution_count": null,
   "id": "5",
   "metadata": {
    "tags": []
   },
   "outputs": [],
   "source": [
    "chs.add_index(\"band\")"
   ]
  },
  {
   "cell_type": "code",
   "execution_count": null,
   "id": "6",
   "metadata": {
    "tags": []
   },
   "outputs": [],
   "source": [
    "gal2eq = hp.Rotator(coord=\"GC\")"
   ]
  },
  {
   "cell_type": "code",
   "execution_count": null,
   "id": "7",
   "metadata": {
    "tags": []
   },
   "outputs": [],
   "source": [
    "co_line_230_input =(gal2eq.rotate_map_alms(\n",
    "            hp.smoothing(\n",
    "            hp.ud_grade(hp.read_map(\"/mnt/home/azonca/s/pysm-data/co/HFI_CompMap_CO-Type1_2048_R2.00_ring.fits\", 1), 512), fwhm=np.radians(1))) * u.K_CMB).to(u.uK_CMB)"
   ]
  },
  {
   "cell_type": "code",
   "execution_count": null,
   "id": "8",
   "metadata": {},
   "outputs": [],
   "source": [
    "hp.mollview(co_line_230_input, min=0, max=1000, title=\"Input 230 GHz CO line map from Planck\")"
   ]
  },
  {
   "cell_type": "code",
   "execution_count": null,
   "id": "9",
   "metadata": {},
   "outputs": [],
   "source": [
    "from glob import glob"
   ]
  },
  {
   "cell_type": "code",
   "execution_count": null,
   "id": "10",
   "metadata": {
    "tags": []
   },
   "outputs": [],
   "source": [
    "for ch in chs:\n",
    "  if ch[\"band\"].endswith(\"w0\"):\n",
    "    for model in [\"co1\", \"co3\"]:\n",
    "        print(ch[\"band\"], model)\n",
    "        m = pysm3.read_map(glob(f\"../output/co_{model}/*{ch['band']}*co_{model}*healpix*.fits\")[0], nside=512, field=(0,1,2))\n",
    "\n",
    "        # hp.mollview(m[0].value, min=0, max=10, unit=m.unit, title=\"CO low complexity\")\n",
    "\n",
    "        if u.allclose(m,0 * u.uK_CMB):\n",
    "            print(\"No CO emission\")\n",
    "        else:\n",
    "\n",
    "            # hp.mollview(m[0]/co_line_230_input, min=-100,max=100)\n",
    "\n",
    "            bandpass = QTable.read(f\"../instrument_model/{ch['bandpass_file']}\", format=\"ascii.ipac\")\n",
    "\n",
    "            bandpass.add_index(\"bandpass_frequency\")\n",
    "\n",
    "            # plt.axvline(0.022, color=\"black\")\n",
    "            # plt.hist(m[0]/co_line_230_input, 1000, range=[0,.1]);\n",
    "\n",
    "            bandwidth = bandpass.iloc[-1][\"bandpass_frequency\"] - bandpass.iloc[0][\"bandpass_frequency\"]\n",
    "\n",
    "            median_map_scale = np.median(m[0]/co_line_230_input)\n",
    "\n",
    "            mean_band_normalization = pysm3.normalize_weights(bandpass[\"bandpass_frequency\"].value, bandpass[\"bandpass_weight\"]).mean()\n",
    "\n",
    "            ratio = median_map_scale/mean_band_normalization\n",
    "            \n",
    "            print(f\"CO Emission is {median_map_scale:.2g} compared to the Planck map, given the bandpass we expect roughly {mean_band_normalization:.2g}, the ratio is {ratio:.3g}\")\n",
    "            \n",
    "            if model == \"co1\":\n",
    "                assert u.allclose(m[1:], 0*u.uK_CMB), \"CO1 should be unpolarized\"\n",
    "            else:\n",
    "                median_map_scale_pol = np.median(np.sqrt(m[1]**2+m[2]**2)/m[0])\n",
    "                print(f\"In polarization (expected less than .1% due to depolarization): {median_map_scale_pol:.2e}\")\n",
    "                assert median_map_scale_pol < .1/100 and median_map_scale_pol > .01/100"
   ]
  },
  {
   "cell_type": "code",
   "execution_count": null,
   "id": "11",
   "metadata": {},
   "outputs": [],
   "source": []
  }
 ],
 "metadata": {
  "kernelspec": {
   "display_name": "cmb",
   "language": "python",
   "name": "python3"
  },
  "language_info": {
   "codemirror_mode": {
    "name": "ipython",
    "version": 3
   },
   "file_extension": ".py",
   "mimetype": "text/x-python",
   "name": "python",
   "nbconvert_exporter": "python",
   "pygments_lexer": "ipython3",
   "version": "3.12.7"
  }
 },
 "nbformat": 4,
 "nbformat_minor": 5
}
