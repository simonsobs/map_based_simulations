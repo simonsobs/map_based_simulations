{
 "cells": [
  {
   "cell_type": "markdown",
   "metadata": {},
   "source": [
    "# Extract Planck instrument parameters"
   ]
  },
  {
   "cell_type": "code",
   "execution_count": null,
   "metadata": {},
   "outputs": [],
   "source": [
    "ipac_warning = [\n",
    "    \"Text file in IPAC table format, read with astropy\",\n",
    "    \"from astropy.table import QTable\",\n",
    "    \"QTable.read('filename.tbl', format='ascii.ipac')\",\n",
    "    f\"Instrument model exported from the Planck NPIPE instrument models\",\n",
    "]"
   ]
  },
  {
   "cell_type": "code",
   "execution_count": null,
   "metadata": {
    "tags": []
   },
   "outputs": [],
   "source": [
    "import numpy as np\n",
    "from astropy.io import fits"
   ]
  },
  {
   "cell_type": "code",
   "execution_count": null,
   "metadata": {},
   "outputs": [],
   "source": [
    "import matplotlib.pyplot as plt\n",
    "\n",
    "%matplotlib inline"
   ]
  },
  {
   "cell_type": "code",
   "execution_count": null,
   "metadata": {
    "tags": []
   },
   "outputs": [],
   "source": [
    "!wget https://irsa.ipac.caltech.edu/data/Planck/release_3/ancillary-data/LFI_RIMO_R3.31.fits"
   ]
  },
  {
   "cell_type": "code",
   "execution_count": null,
   "metadata": {},
   "outputs": [],
   "source": [
    "!wget https://portal.nersc.gov/cfs/cmb/planck2020/misc/PLANCK_RIMO_TF_R4.00.tar.gz"
   ]
  },
  {
   "cell_type": "code",
   "execution_count": null,
   "metadata": {},
   "outputs": [],
   "source": [
    "!tar xzvf PLANCK_RIMO_TF_R4.00.tar.gz"
   ]
  },
  {
   "cell_type": "code",
   "execution_count": null,
   "metadata": {
    "tags": []
   },
   "outputs": [],
   "source": [
    "RIMO = dict(HFI = fits.open(\"simulated_maps/npipe_aux/RIMO_HFI_NPIPE.fits\"), LFI = fits.open(\"simulated_maps/npipe_aux/RIMO_LFI_NPIPE.fits\"))"
   ]
  },
  {
   "cell_type": "code",
   "execution_count": null,
   "metadata": {
    "tags": []
   },
   "outputs": [],
   "source": [
    "from pathlib import Path"
   ]
  },
  {
   "cell_type": "code",
   "execution_count": null,
   "metadata": {},
   "outputs": [],
   "source": [
    "from collections import OrderedDict\n",
    "from astropy import units as u\n",
    "from astropy.table import QTable"
   ]
  },
  {
   "cell_type": "code",
   "execution_count": null,
   "metadata": {},
   "outputs": [],
   "source": [
    "table = QTable(\n",
    "    names=[\"telescope\", \"band\", \"center_frequency\", \"fwhm\", \"nside\", \"bandpass_file\", \"beam_file\"],\n",
    "    dtype=[str, str, float, float, int, str, str],\n",
    "    units=[None, None, u.GHz, u.arcmin, None, None, None],\n",
    ")\n"
   ]
  },
  {
   "cell_type": "code",
   "execution_count": null,
   "metadata": {},
   "outputs": [],
   "source": [
    "# Add rows for HFI and LFI\n",
    "for instrument in ['LFI','HFI']:\n",
    "    for band in RIMO[instrument][\"FREQUENCY MAP PARAMETERS\" if instrument == \"HFI\" else \"FREQUENCY_MAP_PARAMETERS\"].data:\n",
    "        table.add_row(\n",
    "            OrderedDict(\n",
    "                telescope=instrument,\n",
    "                band=band[\"FREQUENCY\"],\n",
    "                center_frequency=float(band[\"FREQUENCY\"]) * u.GHz,\n",
    "                fwhm=band[\"FWHM\"] * u.arcmin,\n",
    "                nside=2048 if instrument == \"HFI\" else 1024,\n",
    "                bandpass_file=\"bandpass_\" + band[\"FREQUENCY\"] + \".tbl\",\n",
    "                beam_file=\"window_function_\" + band[\"FREQUENCY\"] + \".tbl\",\n",
    "            )\n",
    "        )\n"
   ]
  },
  {
   "cell_type": "code",
   "execution_count": null,
   "metadata": {},
   "outputs": [],
   "source": [
    "table"
   ]
  },
  {
   "cell_type": "markdown",
   "metadata": {},
   "source": [
    "## Create bandpass files"
   ]
  },
  {
   "cell_type": "code",
   "execution_count": null,
   "metadata": {},
   "outputs": [],
   "source": [
    "!wget http://sdc.uio.no/vol/cosmoglobe-data/BeyondPlanck/releases/v2/BP_bandpass_profiles/bp_corrected_30.dat\n",
    "!wget http://sdc.uio.no/vol/cosmoglobe-data/BeyondPlanck/releases/v2/BP_bandpass_profiles/bp_corrected_44.dat\n",
    "!wget http://sdc.uio.no/vol/cosmoglobe-data/BeyondPlanck/releases/v2/BP_bandpass_profiles/bp_corrected_70.dat"
   ]
  },
  {
   "cell_type": "code",
   "execution_count": null,
   "metadata": {},
   "outputs": [],
   "source": [
    "RIMO[\"HFI\"][\"CHANNEL PARAMETERS\"].data"
   ]
  },
  {
   "cell_type": "code",
   "execution_count": null,
   "metadata": {},
   "outputs": [],
   "source": [
    "for band in [\"030\", \"044\", \"070\"]:\n",
    "    corrected = np.loadtxt(f\"bp_corrected_{band[1:]}.dat\", unpack=True)\n",
    "    plt.figure()\n",
    "    plt.title(f\"Band {band}\")\n",
    "    plt.semilogy(RIMO[\"LFI\"][\"BANDPASS_\" + band].data[\"WAVENUMBER\"], RIMO[\"LFI\"][\"BANDPASS_\" + band].data[\"TRANSMISSION\"], label=\"NPIPE\")\n",
    "    mask = corrected[1] > 1e-6\n",
    "    plt.semilogy(corrected[0][mask], corrected[1][mask], label=\"BeyondPlanck\")\n"
   ]
  },
  {
   "cell_type": "code",
   "execution_count": null,
   "metadata": {},
   "outputs": [],
   "source": [
    "\n",
    "from astropy import constants as const"
   ]
  },
  {
   "cell_type": "code",
   "execution_count": null,
   "metadata": {},
   "outputs": [],
   "source": [
    "ch"
   ]
  },
  {
   "cell_type": "code",
   "execution_count": null,
   "metadata": {},
   "outputs": [],
   "source": [
    "skip = {\"217\":2, \"353\":3, \"545\":9, \"857\":12}\n",
    "bandpass = {}\n",
    "for ch in table:\n",
    "    band = ch[\"band\"]\n",
    "    if ch[\"telescope\"] == \"HFI\":\n",
    "        freq = (RIMO[\"HFI\"][\"BANDPASS_F\"+band].data[\"WAVENUMBER\"] * (1/u.cm) * const.c).to(u.GHz)\n",
    "        weight = RIMO[\"HFI\"][\"BANDPASS_F\"+band].data[\"TRANSMISSION\"]\n",
    "        mask = np.logical_and(freq > .5*ch[\"center_frequency\"], freq < 1.5 * ch[\"center_frequency\"])\n",
    "        mask = np.logical_and(mask, weight > 1e-6)\n",
    "        freq = freq[mask]\n",
    "        weight = weight[mask]\n",
    "        if band in skip:\n",
    "            freq = freq[::skip[band]]\n",
    "            weight = weight[::skip[band]]\n",
    "    else:\n",
    "\n",
    "\n",
    "        corrected = np.loadtxt(f\"bp_corrected_{band[1:]}.dat\", unpack=True)\n",
    "        mask = corrected[1] > 1e-6\n",
    "        freq = corrected[0][mask]\n",
    "        weight = corrected[1][mask]\n",
    "    bandpass[band] = QTable( names =\"bandpass_frequency bandpass_weight\".split(),\n",
    "                            units=[u.GHz, None],\n",
    "                            data=[freq, weight])\n",
    "    bandpass[band].meta[\"comments\"] = ipac_warning\n",
    "    bandpass[band].write(f\"bandpass_{band}.tbl\", format=\"ascii.ipac\", overwrite=True)"
   ]
  },
  {
   "cell_type": "code",
   "execution_count": null,
   "metadata": {},
   "outputs": [],
   "source": [
    "for row in table:\n",
    "    if row[\"telescope\"] == \"HFI\":\n",
    "        plt.semilogy(\n",
    "            bandpass[row[\"band\"]][\"bandpass_frequency\"],\n",
    "            bandpass[row[\"band\"]][\"bandpass_weight\"],\n",
    "            label=f\"HFI {row['band']} ({len(bandpass[row['band']])})\"\n",
    "        )\n",
    "plt.xlabel(\"Frequency (GHz)\")\n",
    "plt.ylabel(\"Transmission\")\n",
    "plt.title(\"HFI Channels Bandpasses (number of points)\")\n",
    "plt.legend()\n",
    "plt.show()\n"
   ]
  },
  {
   "cell_type": "code",
   "execution_count": null,
   "metadata": {},
   "outputs": [],
   "source": []
  }
 ],
 "metadata": {
  "kernelspec": {
   "display_name": "Python 3",
   "language": "python",
   "name": "python3"
  },
  "language_info": {
   "codemirror_mode": {
    "name": "ipython",
    "version": 3
   },
   "file_extension": ".py",
   "mimetype": "text/x-python",
   "name": "python",
   "nbconvert_exporter": "python",
   "pygments_lexer": "ipython3",
   "version": "3.12.7"
  }
 },
 "nbformat": 4,
 "nbformat_minor": 4
}
