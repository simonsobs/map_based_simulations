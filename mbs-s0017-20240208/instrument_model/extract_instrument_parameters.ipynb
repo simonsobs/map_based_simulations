{
 "cells": [
  {
   "cell_type": "markdown",
   "metadata": {},
   "source": [
    "# Extract Planck instrument parameters"
   ]
  },
  {
   "cell_type": "code",
   "execution_count": null,
   "metadata": {},
   "outputs": [],
   "source": [
    "ipac_warning = [\n",
    "    \"Text file in IPAC table format, read with astropy\",\n",
    "    \"from astropy.table import QTable\",\n",
    "    \"QTable.read('filename.tbl', format='ascii.ipac')\",\n",
    "    f\"Instrument model exported from the Planck NPIPE instrument models\",\n",
    "]"
   ]
  },
  {
   "cell_type": "code",
   "execution_count": null,
   "metadata": {
    "tags": []
   },
   "outputs": [],
   "source": [
    "import numpy as np\n",
    "from astropy.io import fits"
   ]
  },
  {
   "cell_type": "code",
   "execution_count": null,
   "metadata": {},
   "outputs": [],
   "source": [
    "import matplotlib.pyplot as plt\n",
    "\n",
    "%matplotlib inline"
   ]
  },
  {
   "cell_type": "code",
   "execution_count": null,
   "metadata": {},
   "outputs": [],
   "source": [
    "from pathlib import Path\n",
    "\n",
    "# Check if the file does not exist before downloading\n",
    "file_path = Path(\"PLANCK_RIMO_TF_R4.00.tar.gz\")\n",
    "if not file_path.exists():\n",
    "    !wget https://portal.nersc.gov/cfs/cmb/planck2020/misc/PLANCK_RIMO_TF_R4.00.tar.gz\n",
    "    !tar xzvf PLANCK_RIMO_TF_R4.00.tar.gz"
   ]
  },
  {
   "cell_type": "code",
   "execution_count": null,
   "metadata": {
    "tags": []
   },
   "outputs": [],
   "source": [
    "RIMO = dict(\n",
    "    HFI=fits.open(\"simulated_maps/npipe_aux/RIMO_HFI_NPIPE.fits\"),\n",
    "    LFI=fits.open(\"simulated_maps/npipe_aux/RIMO_LFI_NPIPE.fits\"),\n",
    ")"
   ]
  },
  {
   "cell_type": "code",
   "execution_count": null,
   "metadata": {
    "tags": []
   },
   "outputs": [],
   "source": [
    "from pathlib import Path"
   ]
  },
  {
   "cell_type": "code",
   "execution_count": null,
   "metadata": {},
   "outputs": [],
   "source": [
    "from collections import OrderedDict\n",
    "from astropy import units as u\n",
    "from astropy.table import QTable"
   ]
  },
  {
   "cell_type": "code",
   "execution_count": null,
   "metadata": {},
   "outputs": [],
   "source": [
    "table = QTable(\n",
    "    names=[\n",
    "        \"telescope\",\n",
    "        \"band\",\n",
    "        \"center_frequency\",\n",
    "        \"fwhm\",\n",
    "        \"nside\",\n",
    "        \"bandpass_file\",\n",
    "        \"beam_file\",\n",
    "    ],\n",
    "    dtype=[str, str, float, float, int, str, str],\n",
    "    units=[None, None, u.GHz, u.arcmin, None, None, None],\n",
    ")"
   ]
  },
  {
   "cell_type": "code",
   "execution_count": null,
   "metadata": {},
   "outputs": [],
   "source": [
    "# Add rows for HFI and LFI\n",
    "for instrument in [\"LFI\", \"HFI\"]:\n",
    "    for band in RIMO[instrument][\n",
    "        (\n",
    "            \"FREQUENCY MAP PARAMETERS\"\n",
    "            if instrument == \"HFI\"\n",
    "            else \"FREQUENCY_MAP_PARAMETERS\"\n",
    "        )\n",
    "    ].data:\n",
    "        table.add_row(\n",
    "            OrderedDict(\n",
    "                telescope=instrument,\n",
    "                band=band[\"FREQUENCY\"],\n",
    "                center_frequency=float(band[\"FREQUENCY\"]) * u.GHz,\n",
    "                fwhm=band[\"FWHM\"] * u.arcmin,\n",
    "                nside=2048 if instrument == \"HFI\" else 1024,\n",
    "                bandpass_file=\"bandpass_\" + band[\"FREQUENCY\"] + \".tbl\",\n",
    "                beam_file=\"window_function_\" + band[\"FREQUENCY\"] + \".tbl\",\n",
    "            )\n",
    "        )"
   ]
  },
  {
   "cell_type": "code",
   "execution_count": null,
   "metadata": {},
   "outputs": [],
   "source": [
    "table"
   ]
  },
  {
   "cell_type": "markdown",
   "metadata": {},
   "source": [
    "## Create bandpass files"
   ]
  },
  {
   "cell_type": "code",
   "execution_count": null,
   "metadata": {},
   "outputs": [],
   "source": [
    "for band in [\"30\", \"44\", \"70\"]:\n",
    "    file_path = Path(f\"bp_corrected_{band}.dat\")\n",
    "    if not file_path.exists():\n",
    "        !wget http://sdc.uio.no/vol/cosmoglobe-data/BeyondPlanck/releases/v2/BP_bandpass_profiles/bp_corrected_{band}.dat"
   ]
  },
  {
   "cell_type": "code",
   "execution_count": null,
   "metadata": {},
   "outputs": [],
   "source": [
    "for band in [\"030\", \"044\", \"070\"]:\n",
    "    corrected = np.loadtxt(f\"bp_corrected_{band[1:]}.dat\", unpack=True)\n",
    "    plt.figure()\n",
    "    plt.title(f\"Band {band}\")\n",
    "    plt.semilogy(\n",
    "        RIMO[\"LFI\"][\"BANDPASS_\" + band].data[\"WAVENUMBER\"],\n",
    "        RIMO[\"LFI\"][\"BANDPASS_\" + band].data[\"TRANSMISSION\"],\n",
    "        label=\"NPIPE\",\n",
    "    )\n",
    "    mask = corrected[1] > 1e-6\n",
    "    plt.semilogy(corrected[0][mask], corrected[1][mask], label=\"BeyondPlanck\")"
   ]
  },
  {
   "cell_type": "code",
   "execution_count": null,
   "metadata": {},
   "outputs": [],
   "source": [
    "from astropy import constants as const"
   ]
  },
  {
   "cell_type": "markdown",
   "metadata": {},
   "source": [
    "# High-Frequency Instrument (HFI) Transmission\n",
    "\n",
    "In HFI, the transmission $\\tau$ is:\n",
    "\n",
    "$$\n",
    "m_i = K_i \\frac{1 + \\eta_i}{2} \\epsilon_i \\int d\\nu (A\\Omega)_\\nu \\tau_i(\\nu) dI_\\nu \\quad [K_{\\text{CMB}}]\n",
    "$$\n",
    "\n",
    "So, it factors out the effect of $\\Omega$:\n",
    "\n",
    "$$\n",
    "\\Omega \\propto \\frac{1}{\\nu^2}\n",
    "$$\n",
    "\n",
    "Instead, in LFI it is just power:\n",
    "\n",
    "## Receiver Bandpass\n",
    "\n",
    "The receiver bandpass, $G(\\nu)$, can be determined by performing two measurements per each frequency at different input power levels:\n",
    "\n",
    "$$\n",
    "G(\\nu) = \\frac{\\Delta V_{\\text{out}}(\\nu)}{\\Delta P_{\\text{in}}(\\nu)}.\n",
    "$$\n",
    "\n",
    "Equation (2.9)\n",
    "\n",
    "## Implementation in PySM\n",
    "\n",
    "Given in PySM, I use the bandpass as it is. I leave the LFI as they are, and I multiply the HFI bandpasses by $\\nu^2$.  \n",
    "I also checked in the color correction code, they do:\n",
    "\n",
    "```python\n",
    "trans[PosFreq] = trans[PosFreq] * (wn[PosFreq] / NUC_) ** (-2d)\n",
    "```\n",
    "\n",
    "where $\\text{NUC}$ is 30, 44, 70 GHz and $\\text{wn}$ is $\\nu$.  \n",
    "\n",
    "So it makes sense that the code divides the LFI bandpasses by $\\nu^2$ to get to the same convention of HFI.\n"
   ]
  },
  {
   "cell_type": "markdown",
   "metadata": {},
   "source": [
    "I also need to shift by half an interval the LFI bandpasses because instead of marking the center of an interval, they mark the left edge."
   ]
  },
  {
   "cell_type": "code",
   "execution_count": null,
   "metadata": {},
   "outputs": [],
   "source": [
    "skip = {\"217\": 2, \"353\": 3, \"545\": 9, \"857\": 12}\n",
    "bandpass = {}\n",
    "for ch in table:\n",
    "    band = ch[\"band\"]\n",
    "    if ch[\"telescope\"] == \"HFI\":\n",
    "        freq = (\n",
    "            RIMO[\"HFI\"][\"BANDPASS_F\" + band].data[\"WAVENUMBER\"] * (1 / u.cm) * const.c\n",
    "        ).to(u.GHz)\n",
    "        weight = RIMO[\"HFI\"][\"BANDPASS_F\" + band].data[\"TRANSMISSION\"]\n",
    "        weight *= (freq / ch[\"center_frequency\"]) ** 2\n",
    "        weight /= weight.max()\n",
    "        mask = np.logical_and(\n",
    "            freq > 0.5 * ch[\"center_frequency\"], freq < 1.5 * ch[\"center_frequency\"]\n",
    "        )\n",
    "        mask = np.logical_and(mask, weight > 1e-2)\n",
    "        freq = freq[mask]\n",
    "        weight = weight[mask]\n",
    "        if band in skip:\n",
    "            freq = freq[:: skip[band]]\n",
    "            weight = weight[:: skip[band]]\n",
    "    else:\n",
    "        corrected = np.loadtxt(f\"bp_corrected_{band[1:]}.dat\", unpack=True)\n",
    "        df = corrected[0][1] - corrected[0][0]\n",
    "        freq = corrected[0] + df / 2\n",
    "        weight = corrected[1]\n",
    "        weight = weight / weight.max()\n",
    "        mask = weight > 1e-2\n",
    "        weight = weight[mask]\n",
    "        freq = freq[mask]\n",
    "    bandpass[band] = QTable(\n",
    "        names=\"bandpass_frequency bandpass_weight\".split(),\n",
    "        units=[u.GHz, None],\n",
    "        data=[freq, weight],\n",
    "    )\n",
    "    bandpass[band].meta[\"comments\"] = ipac_warning\n",
    "    bandpass[band].write(f\"bandpass_{band}.tbl\", format=\"ascii.ipac\", overwrite=True)"
   ]
  },
  {
   "cell_type": "code",
   "execution_count": null,
   "metadata": {},
   "outputs": [],
   "source": [
    "for instrument in [\"HFI\", \"LFI\"]:\n",
    "    for plot in [plt.plot, plt.semilogy]:\n",
    "        plt.figure()\n",
    "        plt.title(f\"Planck {instrument} Bandpasses (number of points)\")\n",
    "        for row in table:\n",
    "            if row[\"telescope\"] == instrument:\n",
    "                plot(\n",
    "                    bandpass[row[\"band\"]][\"bandpass_frequency\"],\n",
    "                    bandpass[row[\"band\"]][\"bandpass_weight\"],\n",
    "                    label=f\"{row['band']} ({len(bandpass[row['band']])})\",\n",
    "                )\n",
    "        plt.xlabel(\"Frequency (GHz)\")\n",
    "        plt.ylabel(\"Transmission\")\n",
    "        plt.grid()\n",
    "        plt.legend()\n",
    "    plt.show()"
   ]
  },
  {
   "cell_type": "code",
   "execution_count": null,
   "metadata": {},
   "outputs": [],
   "source": []
  }
 ],
 "metadata": {
  "kernelspec": {
   "display_name": "pysm",
   "language": "python",
   "name": "python3"
  },
  "language_info": {
   "codemirror_mode": {
    "name": "ipython",
    "version": 3
   },
   "file_extension": ".py",
   "mimetype": "text/x-python",
   "name": "python",
   "nbconvert_exporter": "python",
   "pygments_lexer": "ipython3",
   "version": "3.11.0"
  }
 },
 "nbformat": 4,
 "nbformat_minor": 4
}
